{
 "cells": [
  {
   "cell_type": "markdown",
   "metadata": {},
   "source": [
    "Q1. Write a Python program to get the string from the given string where all the occurrence of its first char has been changed to '$,' except first char itself? \n",
    "\n",
    "Sample String: 'prospect' \n",
    "Expected Result : 'pros$ect'"
   ]
  },
  {
   "cell_type": "code",
   "execution_count": 3,
   "metadata": {},
   "outputs": [
    {
     "name": "stdout",
     "output_type": "stream",
     "text": [
      "Enter stringrestart\n",
      "resta$t\n"
     ]
    }
   ],
   "source": [
    "def change_char(str1):\n",
    "  char = str1[0]\n",
    "  str1 = str1.replace(char, '$')\n",
    "  str1 = char + str1[1:]\n",
    "\n",
    "  return str1\n",
    "\n",
    "str=input('Enter string')\n",
    "print(change_char(str))"
   ]
  },
  {
   "cell_type": "markdown",
   "metadata": {},
   "source": [
    "Q2. Write a Python program to get the single string from the two given strings, and separated by the space and swap the first two characters of each string? \n",
    "\n",
    "Sample String : 'abc', 'xyz'. \n",
    "Expected Result: 'xyc abz'"
   ]
  },
  {
   "cell_type": "code",
   "execution_count": 4,
   "metadata": {},
   "outputs": [
    {
     "name": "stdout",
     "output_type": "stream",
     "text": [
      "xyc abz\n"
     ]
    }
   ],
   "source": [
    "def chars_mix_up(a, b):\n",
    "  new_a = b[:2] + a[2:]\n",
    "  new_b = a[:2] + b[2:]\n",
    "\n",
    "  return new_a + ' ' + new_b\n",
    "print(chars_mix_up('abc', 'xyz'))"
   ]
  },
  {
   "cell_type": "markdown",
   "metadata": {},
   "source": [
    "Q3. Write the Python program to add 'ing' at the end of the given string (length of the string should be at least 3). If given string already ends with 'ing,' then add 'ly' instead. If string length of the given string is less than 3, leave it unchanged?\n",
    "\n",
    "Sample string: ' abc ' Expected \n",
    "result: ' abcing ' \n",
    "\n",
    "Sample string: ' string ' \n",
    "Expected result: ' stringly '"
   ]
  },
  {
   "cell_type": "code",
   "execution_count": 1,
   "metadata": {},
   "outputs": [
    {
     "name": "stdout",
     "output_type": "stream",
     "text": [
      "ab\n",
      "abcing\n",
      "stringly\n"
     ]
    }
   ],
   "source": [
    "def add_string(str1):\n",
    "  length = len(str1)\n",
    "\n",
    "  if length > 2:\n",
    "    if str1[-3:] == 'ing':\n",
    "      str1 += 'ly'\n",
    "    else:\n",
    "      str1 += 'ing'\n",
    "\n",
    "  return str1\n",
    "print(add_string('ab'))\n",
    "print(add_string('abc'))\n",
    "print(add_string('string'))"
   ]
  },
  {
   "cell_type": "markdown",
   "metadata": {},
   "source": [
    "Q4. Write the Python program to find the first appearance of the substring 'not' and 'poor' from the given string, if 'not' follows the 'poor', replace the whole 'not'...' poor' substring with 'good'.Return the resulting string.\n",
    "\n",
    "Sample string: 'The lyrics are not that poor!' \n",
    "    'The lyrics are poor!' \n",
    "    \n",
    "    Expected Result: 'The lyrics are good!' \n",
    "    'The lyrics are poor!'"
   ]
  },
  {
   "cell_type": "code",
   "execution_count": 2,
   "metadata": {},
   "outputs": [
    {
     "name": "stdout",
     "output_type": "stream",
     "text": [
      "The lyrics is good!\n",
      "The lyrics is poor!\n"
     ]
    }
   ],
   "source": [
    "def not_poor(str1):\n",
    "  snot = str1.find('not')\n",
    "  spoor = str1.find('poor')\n",
    "  \n",
    "\n",
    "  if spoor > snot and snot>0 and spoor>0:\n",
    "    str1 = str1.replace(str1[snot:(spoor+4)], 'good')\n",
    "    return str1\n",
    "  else:\n",
    "    return str1\n",
    "print(not_poor('The lyrics is not that poor!'))\n",
    "print(not_poor('The lyrics is poor!'))"
   ]
  },
  {
   "cell_type": "markdown",
   "metadata": {},
   "source": [
    "Q5. Write the Python program to remove the characters which have odd index values of a given string."
   ]
  },
  {
   "cell_type": "code",
   "execution_count": 3,
   "metadata": {},
   "outputs": [
    {
     "name": "stdout",
     "output_type": "stream",
     "text": [
      "ace\n",
      "pto\n"
     ]
    }
   ],
   "source": [
    "def odd_values_string(str):\n",
    "  result = \"\" \n",
    "  for i in range(len(str)):\n",
    "    if i % 2 == 0:\n",
    "      result = result + str[i]\n",
    "  return result\n",
    "\n",
    "print(odd_values_string('abcdef'))\n",
    "print(odd_values_string('python'))"
   ]
  },
  {
   "cell_type": "markdown",
   "metadata": {},
   "source": [
    "Q6. Write the Python function to get a string made of 4 copies of the last two characters of the specified string (length must be at least 2).\n",
    "\n",
    "Sample function and result : insert\n",
    "-end ('Python') -> abababab \n",
    "insert-end('Exercises') -> jkjkjkjk"
   ]
  },
  {
   "cell_type": "code",
   "execution_count": 4,
   "metadata": {},
   "outputs": [
    {
     "name": "stdout",
     "output_type": "stream",
     "text": [
      "onononon\n",
      "eseseses\n"
     ]
    }
   ],
   "source": [
    "def insert_end(str):\n",
    "\tsub_str = str[-2:]\n",
    "\treturn sub_str * 4\n",
    "\n",
    "print(insert_end('Python'))\n",
    "print(insert_end('Exercises'))"
   ]
  },
  {
   "cell_type": "markdown",
   "metadata": {},
   "source": [
    "Q7. Write the python function to get a string made of its first three characters of a specified string. If the length of the string is less than 3 then return the original string.\n",
    "Sample function and result : \n",
    "first-three('ipy') -> ipy \n",
    "first-three('python') -> pyt"
   ]
  },
  {
   "cell_type": "code",
   "execution_count": 5,
   "metadata": {},
   "outputs": [
    {
     "name": "stdout",
     "output_type": "stream",
     "text": [
      "ipy\n",
      "pyt\n",
      "py\n"
     ]
    }
   ],
   "source": [
    "def first_three(str):\n",
    "\treturn str[:3] if len(str) > 3 else str\n",
    "\n",
    "print(first_three('ipy'))\n",
    "print(first_three('python'))\n",
    "print(first_three('py'))"
   ]
  },
  {
   "cell_type": "markdown",
   "metadata": {},
   "source": [
    "Q8. Write the python program to print the following floating numbers up to 2 decimal places?"
   ]
  },
  {
   "cell_type": "code",
   "execution_count": 6,
   "metadata": {},
   "outputs": [
    {
     "name": "stdout",
     "output_type": "stream",
     "text": [
      "\n",
      "Original Number:  3.1415926\n",
      "Formatted Number: 3.14\n",
      "Original Number:  12.9999\n",
      "Formatted Number: 13.00\n",
      "\n"
     ]
    }
   ],
   "source": [
    "x = 3.1415926\n",
    "y = 12.9999\n",
    "print(\"\\nOriginal Number: \", x)\n",
    "print(\"Formatted Number: \"+\"{:.2f}\".format(x));\n",
    "print(\"Original Number: \", y)\n",
    "print(\"Formatted Number: \"+\"{:.2f}\".format(y));\n",
    "print() "
   ]
  },
  {
   "cell_type": "markdown",
   "metadata": {},
   "source": [
    "Q9. Write the Python program to format a number with a percentage?"
   ]
  },
  {
   "cell_type": "code",
   "execution_count": 7,
   "metadata": {},
   "outputs": [
    {
     "name": "stdout",
     "output_type": "stream",
     "text": [
      "\n",
      "Original Number:  0.25\n",
      "Formatted Number with percentage: 25.00%\n",
      "Original Number:  -0.25\n",
      "Formatted Number with percentage: -25.00%\n",
      "\n"
     ]
    }
   ],
   "source": [
    "x = 0.25\n",
    "y = -0.25\n",
    "print(\"\\nOriginal Number: \", x)\n",
    "print(\"Formatted Number with percentage: \"+\"{:.2%}\".format(x));\n",
    "print(\"Original Number: \", y)\n",
    "print(\"Formatted Number with percentage: \"+\"{:.2%}\".format(y));\n",
    "print()"
   ]
  },
  {
   "cell_type": "markdown",
   "metadata": {},
   "source": [
    "Q10. Write the Python program to count occurrences of a substring in a String?"
   ]
  },
  {
   "cell_type": "code",
   "execution_count": 8,
   "metadata": {},
   "outputs": [
    {
     "name": "stdout",
     "output_type": "stream",
     "text": [
      "\n",
      "1\n",
      "\n"
     ]
    }
   ],
   "source": [
    "str1 = 'The quick brown fox jumps over the lazy dog.'\n",
    "print()\n",
    "print(str1.count(\"fox\"))\n",
    "print()"
   ]
  },
  {
   "cell_type": "markdown",
   "metadata": {},
   "source": [
    "Q11. Write the Python program to count repeated characters in a string.\n",
    "Sample string: ' thequickbrownjumpsoverthelazydog ' \n",
    "Expected output: \n",
    "o 3 \n",
    "e 3 \n",
    "u 2 \n",
    "h 2\n",
    "r 2 \n",
    "t 2"
   ]
  },
  {
   "cell_type": "code",
   "execution_count": 1,
   "metadata": {},
   "outputs": [
    {
     "name": "stdout",
     "output_type": "stream",
     "text": [
      "o 4\n",
      "e 3\n",
      "t 2\n",
      "h 2\n",
      "u 2\n",
      "r 2\n"
     ]
    }
   ],
   "source": [
    "import collections\n",
    "str1 = 'thequickbrownfoxjumpsoverthelazydog'\n",
    "d = collections.defaultdict(int)\n",
    "for c in str1:\n",
    "    d[c] += 1\n",
    "\n",
    "for c in sorted(d, key=d.get, reverse=True):\n",
    "  if d[c] > 1:\n",
    "      print('%s %d' % (c, d[c]))"
   ]
  },
  {
   "cell_type": "markdown",
   "metadata": {},
   "source": [
    "Q12. Write the Python program to print the square and cube symbol in the area of a rectangle and volume of a cylinder? \n",
    "Sample output- \n",
    "The area of the rectangle is 1256.66cm2 \n",
    "The volume of the cylinder is 1254.725cm3"
   ]
  },
  {
   "cell_type": "code",
   "execution_count": 2,
   "metadata": {},
   "outputs": [
    {
     "name": "stdout",
     "output_type": "stream",
     "text": [
      "The area of the rectangle is 1256.66cm²\n",
      "The volume of the cylinder is 1254.725cm³\n"
     ]
    }
   ],
   "source": [
    "area = 1256.66\n",
    "volume = 1254.725\n",
    "decimals = 2\n",
    "print(\"The area of the rectangle is {0:.{1}f}cm\\u00b2\".format(area, decimals))\n",
    "decimals = 3\n",
    "print(\"The volume of the cylinder is {0:.{1}f}cm\\u00b3\".format(volume, decimals))"
   ]
  },
  {
   "cell_type": "markdown",
   "metadata": {},
   "source": [
    "Q13. Write the Python program to check if a string contains all letters of the alphabet?"
   ]
  },
  {
   "cell_type": "code",
   "execution_count": 3,
   "metadata": {},
   "outputs": [
    {
     "name": "stdout",
     "output_type": "stream",
     "text": [
      "True\n",
      "False\n"
     ]
    }
   ],
   "source": [
    "import string\n",
    "alphabet = set(string.ascii_lowercase)\n",
    "input_string = 'The quick brown fox jumps over the lazy dog'\n",
    "print(set(input_string.lower()) >= alphabet)\n",
    "input_string = 'The quick brown fox jumps over the lazy cat'\n",
    "print(set(input_string.lower()) >= alphabet)"
   ]
  },
  {
   "cell_type": "markdown",
   "metadata": {},
   "source": [
    "Q14. Write the Python program to find the second most repeated word in a given string?"
   ]
  },
  {
   "cell_type": "code",
   "execution_count": 4,
   "metadata": {},
   "outputs": [
    {
     "name": "stdout",
     "output_type": "stream",
     "text": [
      "('of', 4)\n"
     ]
    }
   ],
   "source": [
    "def word_count(str):\n",
    "    counts = dict()\n",
    "    words = str.split()\n",
    "\n",
    "    for word in words:\n",
    "        if word in counts:\n",
    "            counts[word] += 1\n",
    "        else:\n",
    "            counts[word] = 1\n",
    "\n",
    "    counts_x = sorted(counts.items(), key=lambda kv: kv[1])\n",
    "    #print(counts_x)\n",
    "    return counts_x[-2]\n",
    " \n",
    "print(word_count(\"Both of these issues are fixed by postponing the evaluation of annotations. Instead of compiling code which executes expressions in annotations at their definition time, the compiler stores the annotation in a string form equivalent to the AST of the expression in question. If needed, annotations can be resolved at runtime using typing.get_type_hints(). In the common case where this is not required, the annotations are cheaper to store (since short strings are interned by the interpreter) and make startup time faster.\"))\n"
   ]
  },
  {
   "cell_type": "markdown",
   "metadata": {},
   "source": [
    "15. Write the Python program to find the minimum window in the given string, which will contains all the characters of another given strings?\n",
    "\n",
    "Example 1 \n",
    "Input : string1 = \" PRWSOERIUSFK \" \n",
    "string2 = \" OSU \" \n",
    "Output: Minimum window is \"OERIUS\""
   ]
  },
  {
   "cell_type": "code",
   "execution_count": 7,
   "metadata": {},
   "outputs": [
    {
     "name": "stdout",
     "output_type": "stream",
     "text": [
      "Original Strings:\n",
      " PRWSOERIUSFK \n",
      " OSU\n",
      "Minimum window:\n",
      "OERIUS\n"
     ]
    }
   ],
   "source": [
    "import collections\n",
    "def min_window(str1, str2):\n",
    "    result_char, missing_char = collections.Counter(str2), len(str2)\n",
    "    i = p = q = 0\n",
    "    for j, c in enumerate(str1, 1):\n",
    "        missing_char -= result_char[c] > 0\n",
    "        result_char[c] -= 1\n",
    "        if not missing_char:\n",
    "            while i < q and result_char[str1[i]] < 0:\n",
    "                result_char[str1[i]] += 1\n",
    "                i += 1\n",
    "            if not q or j - i <= q - p:\n",
    "                p, q = i, j\n",
    "    return str1[p:q]\n",
    "           \n",
    "str1 = \"PRWSOERIUSFK\"\n",
    "str2 = \"OSU\"\n",
    "print(\"Original Strings:\\n\",str1,\"\\n\",str2)\n",
    "print(\"Minimum window:\")\n",
    "print(min_window(str1,str2))"
   ]
  },
  {
   "cell_type": "markdown",
   "metadata": {},
   "source": [
    "Q16. Write the Python program to find smallest window that contains all characters of the given string?\n",
    "\n",
    "Original Strings: asdaewsqgtwwsa Smallest window that contains all characters of the said string:\n",
    "\n",
    "Daewsqgt"
   ]
  },
  {
   "cell_type": "code",
   "execution_count": 6,
   "metadata": {},
   "outputs": [
    {
     "name": "stdout",
     "output_type": "stream",
     "text": [
      "Original Strings:\n",
      " asdaewsqgtwwsa\n",
      "\n",
      "Smallest window that contains all characters of the said string:\n",
      "daewsqgt\n"
     ]
    }
   ],
   "source": [
    "from collections import defaultdict   \n",
    "\n",
    "def find_sub_string(str): \n",
    "    str_len = len(str) \n",
    "      \n",
    "    # Count all distinct characters. \n",
    "    dist_count_char = len(set([x for x in str])) \n",
    "  \n",
    "    ctr, start_pos, start_pos_index, min_len = 0, 0, -1, 9999999999\n",
    "    curr_count = defaultdict(lambda: 0) \n",
    "    for i in range(str_len): \n",
    "        curr_count[str[i]] += 1\n",
    " \n",
    "        if curr_count[str[i]] == 1: \n",
    "            ctr += 1\n",
    "  \n",
    "        if ctr == dist_count_char: \n",
    "            while curr_count[str[start_pos]] > 1: \n",
    "                if curr_count[str[start_pos]] > 1: \n",
    "                    curr_count[str[start_pos]] -= 1\n",
    "                start_pos += 1\n",
    "  \n",
    "            len_window = i - start_pos + 1\n",
    "            if min_len > len_window: \n",
    "                min_len = len_window \n",
    "                start_pos_index = start_pos \n",
    "    return str[start_pos_index: start_pos_index + min_len] \n",
    "      \n",
    "str1 = \"asdaewsqgtwwsa\"\n",
    "print(\"Original Strings:\\n\",str1)\n",
    "print(\"\\nSmallest window that contains all characters of the said string:\")\n",
    "print(find_sub_string(str1)) "
   ]
  },
  {
   "cell_type": "markdown",
   "metadata": {},
   "source": [
    "Q17. Write the Python program to count number of substrings from a given string of lowercase alphabets with exactly k distinct (given) characters?\n",
    "\n",
    "Input a string (lowercase alphabets): wolf \n",
    "Input k: 4 \n",
    "Number of substrings with exactly 4 distinct characters: 1"
   ]
  },
  {
   "cell_type": "code",
   "execution_count": 9,
   "metadata": {},
   "outputs": [
    {
     "name": "stdout",
     "output_type": "stream",
     "text": [
      "Input a string (lowercase alphabets):wolf\n",
      "Input k: 4\n",
      "Number of substrings with exactly 4 distinct characters : 1\n"
     ]
    }
   ],
   "source": [
    "def count_k_dist(str1, k): \n",
    "\tstr_len = len(str1) \n",
    "\t\n",
    "\tresult = 0\n",
    "\n",
    "\tctr = [0] * 27\n",
    "\n",
    "\tfor i in range(0, str_len): \n",
    "\t\tdist_ctr = 0\n",
    "\n",
    "\t\tctr = [0] * 27\n",
    "\n",
    "\t\tfor j in range(i, str_len): \n",
    "\t\t\t\n",
    "\t\t\tif(ctr[ord(str1[j]) - 97] == 0): \n",
    "\t\t\t\tdist_ctr += 1\n",
    "\n",
    "\t\t\tctr[ord(str1[j]) - 97] += 1\n",
    "\n",
    "\t\t\tif(dist_ctr == k): \n",
    "\t\t\t\tresult += 1\n",
    "\t\t\tif(dist_ctr > k): \n",
    "\t\t\t\tbreak\n",
    "\n",
    "\treturn result \n",
    "\n",
    "str1 = input(\"Input a string (lowercase alphabets):\")\n",
    "k = int(input(\"Input k: \"))\n",
    "print(\"Number of substrings with exactly\", k, \"distinct characters : \", end = \"\") \n",
    "print(count_k_dist(str1, k))"
   ]
  },
  {
   "cell_type": "markdown",
   "metadata": {},
   "source": [
    "Q18. Write the Python program to count number of non-empty substrings of the given string? \n",
    "Input a string: w3resource Number of substrings: 55"
   ]
  },
  {
   "cell_type": "code",
   "execution_count": 10,
   "metadata": {},
   "outputs": [
    {
     "name": "stdout",
     "output_type": "stream",
     "text": [
      "Input a string: w3resource\n",
      "Number of substrings:\n",
      "55\n"
     ]
    }
   ],
   "source": [
    "def number_of_substrings(str): \n",
    "\tstr_len = len(str); \n",
    "\treturn int(str_len * (str_len + 1) / 2); \n",
    "\n",
    "str1 = input(\"Input a string: \")\n",
    "print(\"Number of substrings:\") \n",
    "print(number_of_substrings(str1))"
   ]
  },
  {
   "cell_type": "markdown",
   "metadata": {},
   "source": [
    "Q19. Write the Python program to count number of substrings with same first and last characters of the given string?\n",
    "\n",
    "Input a string: abcd \n",
    "4"
   ]
  },
  {
   "cell_type": "code",
   "execution_count": 2,
   "metadata": {},
   "outputs": [
    {
     "name": "stdout",
     "output_type": "stream",
     "text": [
      "Input a string: abcd\n",
      "4\n"
     ]
    }
   ],
   "source": [
    "def no_of_substring_with_equalEnds(str1): \n",
    "\tresult = 0; \n",
    "\tn = len(str1); \n",
    "\tfor i in range(n): \n",
    "\t\tfor j in range(i, n): \n",
    "\t\t\tif (str1[i] == str1[j]): \n",
    "\t\t\t\tresult = result + 1\n",
    "\treturn result \n",
    "str1 = input(\"Input a string: \")\n",
    "print(no_of_substring_with_equalEnds(str1))"
   ]
  },
  {
   "cell_type": "markdown",
   "metadata": {},
   "source": [
    "Q20. Write the Python program to count the number of strings where the string length is 2 or more, and first and last character are same from a given list of strings.\n",
    "\n",
    "Sample List : ['abc', 'xyz', 'wxw', '1331'] \n",
    "Expected Result: 2"
   ]
  },
  {
   "cell_type": "code",
   "execution_count": 3,
   "metadata": {},
   "outputs": [
    {
     "name": "stdout",
     "output_type": "stream",
     "text": [
      "2\n"
     ]
    }
   ],
   "source": [
    "def match_words(words):\n",
    "  ctr = 0\n",
    "\n",
    "  for word in words:\n",
    "    if len(word) > 1 and word[0] == word[-1]:\n",
    "      ctr += 1\n",
    "  return ctr\n",
    "\n",
    "print(match_words(['abc', 'xyz', 'aba', '1221']))"
   ]
  },
  {
   "cell_type": "markdown",
   "metadata": {},
   "source": [
    "Q21. Write the Python program to get a list, sorted in increasing order by the last element in each tuple from the given list of non-empty tuples?\n",
    "\n",
    "Sample List - [ (2, 5), (1, 2), (4, 4), (2, 3), (2, 1) ] \n",
    "Expected Result - [ (2, 1), (1, 2), (2, 3), (4, 4), (2, 5) ]"
   ]
  },
  {
   "cell_type": "code",
   "execution_count": 4,
   "metadata": {},
   "outputs": [
    {
     "name": "stdout",
     "output_type": "stream",
     "text": [
      "[(2, 1), (1, 2), (2, 3), (4, 4), (2, 5)]\n"
     ]
    }
   ],
   "source": [
    "def last(n): return n[-1]\n",
    "\n",
    "def sort_list_last(tuples):\n",
    "  return sorted(tuples, key=last)\n",
    "\n",
    "print(sort_list_last([(2, 5), (1, 2), (4, 4), (2, 3), (2, 1)]))"
   ]
  },
  {
   "cell_type": "markdown",
   "metadata": {},
   "source": [
    "Q22. Write the Python program to remove duplicates from a list?"
   ]
  },
  {
   "cell_type": "code",
   "execution_count": 5,
   "metadata": {},
   "outputs": [
    {
     "name": "stdout",
     "output_type": "stream",
     "text": [
      "{40, 10, 80, 50, 20, 60, 30}\n"
     ]
    }
   ],
   "source": [
    "a = [10,20,30,20,10,50,60,40,80,50,40]\n",
    "\n",
    "dup_items = set()\n",
    "uniq_items = []\n",
    "for x in a:\n",
    "    if x not in dup_items:\n",
    "        uniq_items.append(x)\n",
    "        dup_items.add(x)\n",
    "\n",
    "print(dup_items)"
   ]
  },
  {
   "cell_type": "markdown",
   "metadata": {},
   "source": [
    "Q23. Write the Python program to find the list of words that are longer than n from a given list of words?"
   ]
  },
  {
   "cell_type": "code",
   "execution_count": 6,
   "metadata": {},
   "outputs": [
    {
     "name": "stdout",
     "output_type": "stream",
     "text": [
      "['quick', 'brown', 'jumps', 'over', 'lazy']\n"
     ]
    }
   ],
   "source": [
    "def long_words(n, str):\n",
    "    word_len = []\n",
    "    txt = str.split(\" \")\n",
    "    for x in txt:\n",
    "        if len(x) > n:\n",
    "            word_len.append(x)\n",
    "    return word_len\t\n",
    "print(long_words(3, \"The quick brown fox jumps over the lazy dog\"))"
   ]
  },
  {
   "cell_type": "markdown",
   "metadata": {},
   "source": [
    "Q24. Write the Python program to print a specified list after removing the 0th, 4th, and 5th elements?\n",
    "\n",
    "Sample List - ['Red', 'Green', 'White', 'Black', 'Pink', 'Yellow'] \n",
    "Expected Output - ['Green', 'White', 'Black']"
   ]
  },
  {
   "cell_type": "code",
   "execution_count": 7,
   "metadata": {},
   "outputs": [
    {
     "name": "stdout",
     "output_type": "stream",
     "text": [
      "['Green', 'White', 'Black']\n"
     ]
    }
   ],
   "source": [
    "color = ['Red', 'Green', 'White', 'Black', 'Pink', 'Yellow']\n",
    "color = [x for (i,x) in enumerate(color) if i not in (0,4,5)]\n",
    "print(color)"
   ]
  },
  {
   "cell_type": "markdown",
   "metadata": {},
   "source": [
    "Q25. Write the Python program to generate all permutations of a list in Python?"
   ]
  },
  {
   "cell_type": "code",
   "execution_count": 8,
   "metadata": {},
   "outputs": [
    {
     "name": "stdout",
     "output_type": "stream",
     "text": [
      "[(1, 2, 3), (1, 3, 2), (2, 1, 3), (2, 3, 1), (3, 1, 2), (3, 2, 1)]\n"
     ]
    }
   ],
   "source": [
    "import itertools\n",
    "print(list(itertools.permutations([1,2,3])))"
   ]
  },
  {
   "cell_type": "markdown",
   "metadata": {},
   "source": [
    "Q26. Write the Python program to convert a pair of values into a sorted unique array? \n",
    "Original List- [ (1, 2), (3, 4), (1, 2), (5, 6), (7, 8), (1, 2), (3, 4), (3, 4), (7, 8), (9, 10) ] \n",
    "Sorted Unique Data- [ 1, 2, 3, 4, 5, 6, 7, 8, 9, 10 ]"
   ]
  },
  {
   "cell_type": "code",
   "execution_count": 9,
   "metadata": {},
   "outputs": [
    {
     "name": "stdout",
     "output_type": "stream",
     "text": [
      "Original List:  [(1, 2), (3, 4), (1, 2), (5, 6), (7, 8), (1, 2), (3, 4), (3, 4), (7, 8), (9, 10)]\n",
      "Sorted Unique Data: [1, 2, 3, 4, 5, 6, 7, 8, 9, 10]\n"
     ]
    }
   ],
   "source": [
    "L = [(1, 2), (3, 4), (1, 2), (5, 6), (7, 8), (1, 2), (3, 4), (3, 4),\n",
    " (7, 8), (9, 10)]\n",
    "print(\"Original List: \", L)\n",
    "print(\"Sorted Unique Data:\",sorted(set().union(*L)))"
   ]
  },
  {
   "cell_type": "markdown",
   "metadata": {},
   "source": [
    "Q27. Write the Python class to convert an integer to a roman numeral?"
   ]
  },
  {
   "cell_type": "code",
   "execution_count": 10,
   "metadata": {},
   "outputs": [
    {
     "name": "stdout",
     "output_type": "stream",
     "text": [
      "I\n",
      "MMMM\n"
     ]
    }
   ],
   "source": [
    "class py_solution:\n",
    "    def int_to_Roman(self, num):\n",
    "        val = [\n",
    "            1000, 900, 500, 400,\n",
    "            100, 90, 50, 40,\n",
    "            10, 9, 5, 4,\n",
    "            1\n",
    "            ]\n",
    "        syb = [\n",
    "            \"M\", \"CM\", \"D\", \"CD\",\n",
    "            \"C\", \"XC\", \"L\", \"XL\",\n",
    "            \"X\", \"IX\", \"V\", \"IV\",\n",
    "            \"I\"\n",
    "            ]\n",
    "        roman_num = ''\n",
    "        i = 0\n",
    "        while  num > 0:\n",
    "            for _ in range(num // val[i]):\n",
    "                roman_num += syb[i]\n",
    "                num -= val[i]\n",
    "            i += 1\n",
    "        return roman_num\n",
    "\n",
    "\n",
    "print(py_solution().int_to_Roman(1))\n",
    "print(py_solution().int_to_Roman(4000))"
   ]
  },
  {
   "cell_type": "markdown",
   "metadata": {},
   "source": [
    "Q28 Write the Python class to convert a Roman numeral to an integer?"
   ]
  },
  {
   "cell_type": "code",
   "execution_count": 11,
   "metadata": {},
   "outputs": [
    {
     "name": "stdout",
     "output_type": "stream",
     "text": [
      "3986\n",
      "4000\n",
      "100\n"
     ]
    }
   ],
   "source": [
    "class py_solution:\n",
    "    def roman_to_int(self, s):\n",
    "        rom_val = {'I': 1, 'V': 5, 'X': 10, 'L': 50, 'C': 100, 'D': 500, 'M': 1000}\n",
    "        int_val = 0\n",
    "        for i in range(len(s)):\n",
    "            if i > 0 and rom_val[s[i]] > rom_val[s[i - 1]]:\n",
    "                int_val += rom_val[s[i]] - 2 * rom_val[s[i - 1]]\n",
    "            else:\n",
    "                int_val += rom_val[s[i]]\n",
    "        return int_val\n",
    "\n",
    "print(py_solution().roman_to_int('MMMCMLXXXVI'))\n",
    "print(py_solution().roman_to_int('MMMM'))\n",
    "print(py_solution().roman_to_int('C'))"
   ]
  },
  {
   "cell_type": "markdown",
   "metadata": {},
   "source": [
    "Q29. Write the Python class to find the validity of the string of the parentheses, '(', ')', '{', '}', '[' and '] and the brackets must be closed in the correct order, example - \"()\" and \"()[]{}\" are valid but \"[)\", \"({[)]\" and \"{{{\" are invalid."
   ]
  },
  {
   "cell_type": "code",
   "execution_count": 12,
   "metadata": {},
   "outputs": [
    {
     "name": "stdout",
     "output_type": "stream",
     "text": [
      "True\n",
      "False\n",
      "True\n"
     ]
    }
   ],
   "source": [
    "class py_solution:\n",
    "   def is_valid_parenthese(self, str1):\n",
    "        stack, pchar = [], {\"(\": \")\", \"{\": \"}\", \"[\": \"]\"}\n",
    "        for parenthese in str1:\n",
    "            if parenthese in pchar:\n",
    "                stack.append(parenthese)\n",
    "            elif len(stack) == 0 or pchar[stack.pop()] != parenthese:\n",
    "                return False\n",
    "        return len(stack) == 0\n",
    "\n",
    "print(py_solution().is_valid_parenthese(\"(){}[]\"))\n",
    "print(py_solution().is_valid_parenthese(\"()[{)}\"))\n",
    "print(py_solution().is_valid_parenthese(\"()\"))"
   ]
  },
  {
   "cell_type": "markdown",
   "metadata": {},
   "source": [
    "Q30. Write the Python class to get all possible unique subsets from a set of distinct integers?\n",
    "Input - [4, 5, 6] \n",
    "Output - [[], [6], [5], [5, 6], [4], [4, 6], [4, 5], [4, 5, 6]]"
   ]
  },
  {
   "cell_type": "code",
   "execution_count": 13,
   "metadata": {},
   "outputs": [
    {
     "name": "stdout",
     "output_type": "stream",
     "text": [
      "[[], [6], [5], [5, 6], [4], [4, 6], [4, 5], [4, 5, 6]]\n"
     ]
    }
   ],
   "source": [
    "class py_solution:\n",
    "    def sub_sets(self, sset):\n",
    "        return self.subsetsRecur([], sorted(sset))\n",
    "    \n",
    "    def subsetsRecur(self, current, sset):\n",
    "        if sset:\n",
    "            return self.subsetsRecur(current, sset[1:]) + self.subsetsRecur(current + [sset[0]], sset[1:])\n",
    "        return [current]\n",
    "\n",
    "print(py_solution().sub_sets([4,5,6]))"
   ]
  },
  {
   "cell_type": "markdown",
   "metadata": {},
   "source": [
    "Q31. Write the Python class to find a pair of elements (indices of the two numbers) from a given array whose sum equals the specific target number?\n",
    "\n",
    "Input: numbers- [10,20,10,40,50,60,70], target=50 \n",
    "Output- 3, 4"
   ]
  },
  {
   "cell_type": "code",
   "execution_count": 14,
   "metadata": {},
   "outputs": [
    {
     "name": "stdout",
     "output_type": "stream",
     "text": [
      "index1=2, index2=3\n"
     ]
    }
   ],
   "source": [
    "class py_solution:\n",
    "   def twoSum(self, nums, target):\n",
    "        lookup = {}\n",
    "        for i, num in enumerate(nums):\n",
    "            if target - num in lookup:\n",
    "                return (lookup[target - num], i )\n",
    "            lookup[num] = i\n",
    "print(\"index1=%d, index2=%d\" % py_solution().twoSum((10,20,10,40,50,60,70),50))"
   ]
  },
  {
   "cell_type": "markdown",
   "metadata": {},
   "source": [
    "Q32. Write the Python class to find the three elements that sum to zero from the set of n real numbers?\n",
    "Input array- [-25, -10, -7, -3, 2, 4, 8, 10] \n",
    "Output - [[-10, 2, 8], [-7, -3, 10]]"
   ]
  },
  {
   "cell_type": "code",
   "execution_count": 15,
   "metadata": {},
   "outputs": [
    {
     "name": "stdout",
     "output_type": "stream",
     "text": [
      "[[-10, 2, 8], [-7, -3, 10]]\n"
     ]
    }
   ],
   "source": [
    "class py_solution:\n",
    " def threeSum(self, nums):\n",
    "        nums, result, i = sorted(nums), [], 0\n",
    "        while i < len(nums) - 2:\n",
    "            j, k = i + 1, len(nums) - 1\n",
    "            while j < k:\n",
    "                if nums[i] + nums[j] + nums[k] < 0:\n",
    "                    j += 1\n",
    "                elif nums[i] + nums[j] + nums[k] > 0:\n",
    "                    k -= 1\n",
    "                else:\n",
    "                    result.append([nums[i], nums[j], nums[k]])\n",
    "                    j, k = j + 1, k - 1\n",
    "                    while j < k and nums[j] == nums[j - 1]:\n",
    "                        j += 1\n",
    "                    while j < k and nums[k] == nums[k + 1]:\n",
    "                        k -= 1\n",
    "            i += 1\n",
    "            while i < len(nums) - 2 and nums[i] == nums[i - 1]:\n",
    "                i += 1\n",
    "        return result\n",
    "\n",
    "print(py_solution().threeSum([-25, -10, -7, -3, 2, 4, 8, 10]))"
   ]
  },
  {
   "cell_type": "markdown",
   "metadata": {},
   "source": [
    "Q33. Write the Python class to implement pow(x, n)?"
   ]
  },
  {
   "cell_type": "code",
   "execution_count": 16,
   "metadata": {},
   "outputs": [
    {
     "name": "stdout",
     "output_type": "stream",
     "text": [
      "0.125\n",
      "243\n",
      "1\n"
     ]
    }
   ],
   "source": [
    "class py_solution:\n",
    "   def pow(self, x, n):\n",
    "        if x==0 or x==1 or n==1:\n",
    "            return x \n",
    "\n",
    "        if x==-1:\n",
    "            if n%2 ==0:\n",
    "                return 1\n",
    "            else:\n",
    "                return -1\n",
    "        if n==0:\n",
    "            return 1\n",
    "        if n<0:\n",
    "            return 1/self.pow(x,-n)\n",
    "        val = self.pow(x,n//2)\n",
    "        if n%2 ==0:\n",
    "            return val*val\n",
    "        return val*val*x\n",
    "\n",
    "print(py_solution().pow(2, -3));\n",
    "print(py_solution().pow(3, 5));\n",
    "print(py_solution().pow(100, 0));"
   ]
  },
  {
   "cell_type": "markdown",
   "metadata": {},
   "source": [
    "Q34. Write the Python class which has two methods get_String and print_String. get_String accept the string from the user and\n",
    "print_String print the string in upper case."
   ]
  },
  {
   "cell_type": "code",
   "execution_count": 17,
   "metadata": {},
   "outputs": [
    {
     "name": "stdout",
     "output_type": "stream",
     "text": [
      "machine learning\n",
      "MACHINE LEARNING\n"
     ]
    }
   ],
   "source": [
    "class IOString():\n",
    "    def __init__(self):\n",
    "        self.str1 = \"\"\n",
    "\n",
    "    def get_String(self):\n",
    "        self.str1 = input()\n",
    "\n",
    "    def print_String(self):\n",
    "        print(self.str1.upper())\n",
    "\n",
    "str1 = IOString()\n",
    "str1.get_String()\n",
    "str1.print_String()"
   ]
  },
  {
   "cell_type": "markdown",
   "metadata": {},
   "source": [
    "Q35. Write the Python class named Rectangle constructed by a length and width and the method which will compute the area of the rectangle?"
   ]
  },
  {
   "cell_type": "code",
   "execution_count": 18,
   "metadata": {},
   "outputs": [
    {
     "name": "stdout",
     "output_type": "stream",
     "text": [
      "120\n"
     ]
    }
   ],
   "source": [
    "class Rectangle():\n",
    "    def __init__(self, l, w):\n",
    "        self.length = l\n",
    "        self.width  = w\n",
    "\n",
    "    def rectangle_area(self):\n",
    "        return self.length*self.width\n",
    "\n",
    "newRectangle = Rectangle(12, 10)\n",
    "print(newRectangle.rectangle_area())"
   ]
  },
  {
   "cell_type": "markdown",
   "metadata": {},
   "source": [
    "Q36. Write the Python class named Circle constructed by the radius and two methods which will compute the area and perimeter of the circle?"
   ]
  },
  {
   "cell_type": "code",
   "execution_count": 19,
   "metadata": {},
   "outputs": [
    {
     "name": "stdout",
     "output_type": "stream",
     "text": [
      "200.96\n",
      "50.24\n"
     ]
    }
   ],
   "source": [
    "class Circle():\n",
    "    def __init__(self, r):\n",
    "        self.radius = r\n",
    "\n",
    "    def area(self):\n",
    "        return self.radius**2*3.14\n",
    "    \n",
    "    def perimeter(self):\n",
    "        return 2*self.radius*3.14\n",
    "\n",
    "NewCircle = Circle(8)\n",
    "print(NewCircle.area())\n",
    "print(NewCircle.perimeter())"
   ]
  },
  {
   "cell_type": "markdown",
   "metadata": {},
   "source": [
    "Q37. Write the Python program to get the class name of an instance in Python?"
   ]
  },
  {
   "cell_type": "code",
   "execution_count": 20,
   "metadata": {},
   "outputs": [
    {
     "name": "stdout",
     "output_type": "stream",
     "text": [
      "cycle\n"
     ]
    }
   ],
   "source": [
    "import itertools\n",
    "x = itertools.cycle('ABCD')\n",
    "print(type(x).__name__)"
   ]
  },
  {
   "cell_type": "markdown",
   "metadata": {},
   "source": [
    "Q38. Write the Python program to count the number of students of individual class?\n",
    "Sample data- \n",
    "classes = ( ('V', 1), ('VI', 1), ('V', 2), ('VI', 2), ('VI', 3), ('VII', 1), ) \n",
    "Expected Output- Counter({'VI': 3, 'V': 2, 'VII': 1})"
   ]
  },
  {
   "cell_type": "code",
   "execution_count": 21,
   "metadata": {},
   "outputs": [
    {
     "name": "stdout",
     "output_type": "stream",
     "text": [
      "Counter({'VI': 3, 'V': 2, 'VII': 1})\n"
     ]
    }
   ],
   "source": [
    "from collections import Counter\n",
    "classes = (\n",
    "    ('V', 1),\n",
    "    ('VI', 1),\n",
    "    ('V', 2),\n",
    "    ('VI', 2),\n",
    "    ('VI', 3),\n",
    "    ('VII', 1),\n",
    ")\n",
    "students = Counter(class_name for class_name, no_students in classes)\n",
    "print(students)"
   ]
  },
  {
   "cell_type": "markdown",
   "metadata": {},
   "source": [
    "Q39. Write the Python program to create an instance of an OrderedDict\n",
    "using the given dictionary and sort dictionary during the creation and print members of the dictionary in reverse order?\n",
    "Expected Output- \n",
    "Angola 244. \n",
    "Andorra 376. \n",
    "Algeria 213. \n",
    "Afghanistan 93. \n",
    "Albania 355. \n",
    "\n",
    "In reverse order- \n",
    "Albania 355. \n",
    "Afghanistan 93. \n",
    "Algeria 213. \n",
    "Andorra 376. \n",
    "Angola 244."
   ]
  },
  {
   "cell_type": "code",
   "execution_count": 22,
   "metadata": {},
   "outputs": [
    {
     "name": "stdout",
     "output_type": "stream",
     "text": [
      "Afghanistan 93\n",
      "Albania 355\n",
      "Algeria 213\n",
      "Andorra 376\n",
      "Angola 244\n",
      "\n",
      "In reverse order:\n",
      "Angola 244\n",
      "Andorra 376\n",
      "Algeria 213\n",
      "Albania 355\n",
      "Afghanistan 93\n"
     ]
    }
   ],
   "source": [
    "from collections import OrderedDict\n",
    "dict = {'Afghanistan': 93, 'Albania': 355, 'Algeria': 213, 'Andorra': 376, 'Angola': 244}\n",
    "new_dict = OrderedDict(dict.items())\n",
    "for key in new_dict:\n",
    "    print (key, new_dict[key])\n",
    "\n",
    "print(\"\\nIn reverse order:\")\n",
    "for key in reversed(new_dict):\n",
    "    print (key, new_dict[key])"
   ]
  },
  {
   "cell_type": "code",
   "execution_count": null,
   "metadata": {},
   "outputs": [],
   "source": [
    "Q40. Write the Python program to compare two unordered lists (not sets)?\n",
    "Expected Output: False"
   ]
  },
  {
   "cell_type": "code",
   "execution_count": 23,
   "metadata": {},
   "outputs": [
    {
     "name": "stdout",
     "output_type": "stream",
     "text": [
      "False\n"
     ]
    }
   ],
   "source": [
    "from collections import Counter\n",
    "def compare_lists(x, y):\n",
    "    return Counter(x) == Counter(y)\n",
    "n1 = [20, 10, 30, 10, 20, 30]\n",
    "n2 = [30, 20, 10, 30, 20, 50]\n",
    "print(compare_lists(n1, n2))"
   ]
  },
  {
   "cell_type": "markdown",
   "metadata": {},
   "source": [
    "Q41. Write the Python program to get an array buffer information? \n",
    "Expected Output- Array buffer start address in memory and number of elements. \n",
    "(25855056, 2)"
   ]
  },
  {
   "cell_type": "code",
   "execution_count": 24,
   "metadata": {},
   "outputs": [
    {
     "name": "stdout",
     "output_type": "stream",
     "text": [
      "Array buffer start address in memory and number of elements.\n",
      "(1420331385792, 2)\n"
     ]
    }
   ],
   "source": [
    "from array import array\n",
    "a = array(\"I\", (12,25))\n",
    "print(\"Array buffer start address in memory and number of elements.\")\n",
    "print(a.buffer_info())"
   ]
  },
  {
   "cell_type": "markdown",
   "metadata": {},
   "source": [
    "Q42. Write the Python program to convert an array to an array of machine values and return the bytes representation?\n",
    "Expected Output- \n",
    "Original array- \n",
    "A1: array('i', [1, 2, 3, 4, 5, 6]) \n",
    "Array of bytes: \n",
    "b'010000000200000003000000040000000500000006000000'"
   ]
  },
  {
   "cell_type": "code",
   "execution_count": 26,
   "metadata": {},
   "outputs": [
    {
     "name": "stdout",
     "output_type": "stream",
     "text": [
      "Bytes to String: \n",
      "b'\\x01\\x00\\x00\\x00\\x02\\x00\\x00\\x00\\x03\\x00\\x00\\x00\\x04\\x00\\x00\\x00\\x05\\x00\\x00\\x00\\x06\\x00\\x00\\x00'\n"
     ]
    }
   ],
   "source": [
    "from array import *\n",
    "print(\"Bytes to String: \")\n",
    "x = array('i', [1, 2, 3, 4,  5, 6])\n",
    "s = x.tobytes()\n",
    "print(s)"
   ]
  },
  {
   "cell_type": "markdown",
   "metadata": {},
   "source": [
    "Q43. Write the Python program to read a string and interpreting the string as an array of machine values?\n",
    "Expected Output- \n",
    "array1- array('i', [7, 8, 9, 10]) \n",
    "Bytes- b'0700000008000000090000000a000000' \n",
    "array2- array('i', [7, 8, 9, 10])"
   ]
  },
  {
   "cell_type": "markdown",
   "metadata": {},
   "source": [
    "Q43. Write the Python program to read a string and interpreting the string as an array of machine values?\n",
    "Expected Output- \n",
    "array1- array('i', [7, 8, 9, 10]) \n",
    "Bytes- b'0700000008000000090000000a000000' \n",
    "array2- array('i', [7, 8, 9, 10])"
   ]
  },
  {
   "cell_type": "code",
   "execution_count": 2,
   "metadata": {},
   "outputs": [
    {
     "name": "stdout",
     "output_type": "stream",
     "text": [
      "array1: array('i', [7, 8, 9, 10])\n",
      "Bytes: b'0700000008000000090000000a000000'\n",
      "array2: array('i', [7, 8, 9, 10])\n"
     ]
    }
   ],
   "source": [
    "from array import array\n",
    "import binascii\n",
    "array1 = array('i', [7, 8, 9, 10])\n",
    "print('array1:', array1)\n",
    "as_bytes = array1.tobytes()\n",
    "print('Bytes:', binascii.hexlify(as_bytes))\n",
    "array2 = array('i')\n",
    "array2.frombytes(as_bytes)\n",
    "print('array2:', array2)"
   ]
  },
  {
   "cell_type": "markdown",
   "metadata": {},
   "source": [
    "Q44. Write the Python program to push three items into the heap and return the smallest item from the heap. Also, return and pop the smallest item from the heap?\n",
    "\n",
    "Expected Output- \n",
    "Items in the heap- \n",
    "('VI', 1). \n",
    "('VII', 3). \n",
    "('VIII', 2). \n",
    "---------------------- \n",
    "The smallest item in the heap: \n",
    "('VI', 1). \n",
    "---------------------- \n",
    "Pop the smallest item in the heap: \n",
    "('VII', 2). \n",
    "('VIII', 3)."
   ]
  },
  {
   "cell_type": "code",
   "execution_count": 3,
   "metadata": {},
   "outputs": [
    {
     "name": "stdout",
     "output_type": "stream",
     "text": [
      "Items in the heap:\n",
      "('V', 1)\n",
      "('V', 3)\n",
      "('V', 2)\n",
      "----------------------\n",
      "The smallest item in the heap:\n",
      "('V', 1)\n",
      "----------------------\n",
      "Pop the smallest item in the heap:\n",
      "('V', 2)\n",
      "('V', 3)\n"
     ]
    }
   ],
   "source": [
    "import heapq\n",
    "heap = []\n",
    "heapq.heappush(heap, ('V', 3))\n",
    "heapq.heappush(heap, ('V', 2))\n",
    "heapq.heappush(heap, ('V', 1))\n",
    "print(\"Items in the heap:\")\n",
    "for a in heap:\n",
    "\tprint(a)\n",
    "print(\"----------------------\")\n",
    "print(\"The smallest item in the heap:\")\n",
    "print(heap[0])\n",
    "print(\"----------------------\")\n",
    "print(\"Pop the smallest item in the heap:\")\n",
    "heapq.heappop(heap)\n",
    "for a in heap:\n",
    "\tprint(a)"
   ]
  },
  {
   "cell_type": "code",
   "execution_count": null,
   "metadata": {},
   "outputs": [],
   "source": [
    "Q45. Write the Python program to locate the left insertion point for a specified value in sorted order? \n",
    "Expected Output: \n",
    "    4 \n",
    "    2"
   ]
  },
  {
   "cell_type": "code",
   "execution_count": 1,
   "metadata": {},
   "outputs": [
    {
     "name": "stdout",
     "output_type": "stream",
     "text": [
      "4\n",
      "2\n"
     ]
    }
   ],
   "source": [
    "import bisect\n",
    "def index(a, x):\n",
    "    i = bisect.bisect_left(a, x)\n",
    "    return i\n",
    "    \n",
    "a = [1,2,4,5]\n",
    "print(index(a, 6))\n",
    "print(index(a, 3))"
   ]
  },
  {
   "cell_type": "markdown",
   "metadata": {},
   "source": [
    "Q46. Write the Python program to create the FIFO queue? \n",
    "Expected Output:\n",
    "    0 1 2 3"
   ]
  },
  {
   "cell_type": "code",
   "execution_count": 2,
   "metadata": {},
   "outputs": [
    {
     "name": "stdout",
     "output_type": "stream",
     "text": [
      "0 1 2 3 \n",
      "\n"
     ]
    }
   ],
   "source": [
    "import queue\n",
    "q = queue.Queue()\n",
    "#insert items at the end of the queue \n",
    "for x in range(4):\n",
    "    q.put(str(x))\n",
    "#remove items from the head of the queue \n",
    "while not q.empty():\n",
    "    print(q.get(), end=\" \")\n",
    "print(\"\\n\")"
   ]
  },
  {
   "cell_type": "markdown",
   "metadata": {},
   "source": [
    "Q47. Write the Python program to calculate the harmonic sum of n-1. Note: The harmonic sum is the sum of reciprocals of the positive Integers?\n",
    "Example -\n",
    "1+1/2+1/3+1/4+1/5+..."
   ]
  },
  {
   "cell_type": "code",
   "execution_count": 3,
   "metadata": {},
   "outputs": [
    {
     "name": "stdout",
     "output_type": "stream",
     "text": [
      "2.5928571428571425\n",
      "2.083333333333333\n"
     ]
    }
   ],
   "source": [
    "def harmonic_sum(n):\n",
    "  if n < 2:\n",
    "    return 1\n",
    "  else:\n",
    "    return 1 / n + (harmonic_sum(n - 1))\n",
    "    \n",
    "print(harmonic_sum(7))\n",
    "print(harmonic_sum(4))"
   ]
  },
  {
   "cell_type": "markdown",
   "metadata": {},
   "source": [
    "Q48. Write the NumPy program to create a 2d array with 6 on the border and 0 inside?\n",
    "\n",
    "Expected Output- \n",
    "Original array- \n",
    "[ [6 6 6 6 6] \n",
    "[ 6 6 6 6 6] \n",
    "[ 6 6 6 6 6 ] \n",
    "[ 6 6 6 6 6 ] \n",
    "[ 6 6 6 6 ] ].\n",
    "\n",
    "6 on the border and 0 inside in the array- \n",
    "[[ 6 6 6 6 6] \n",
    "[ 6 0 0 0 6] \n",
    "[ 6 0 0 0 6] \n",
    "[ 6 0 0 0 6] \n",
    "[ 6 6 6 6 6]]."
   ]
  },
  {
   "cell_type": "code",
   "execution_count": 6,
   "metadata": {},
   "outputs": [
    {
     "name": "stdout",
     "output_type": "stream",
     "text": [
      "Original array:\n",
      "[[6 6 6 6 6]\n",
      " [6 6 6 6 6]\n",
      " [6 6 6 6 6]\n",
      " [6 6 6 6 6]\n",
      " [6 6 6 6 6]]\n",
      "1 on the border and 0 inside in the array\n",
      "[[6 6 6 6 6]\n",
      " [6 0 0 0 6]\n",
      " [6 0 0 0 6]\n",
      " [6 0 0 0 6]\n",
      " [6 6 6 6 6]]\n"
     ]
    }
   ],
   "source": [
    "import numpy as np\n",
    "x = np.full((5,5),6)\n",
    "print(\"Original array:\")\n",
    "print(x)\n",
    "print(\"1 on the border and 0 inside in the array\")\n",
    "x[1:-1,1:-1] = 0\n",
    "print(x)"
   ]
  },
  {
   "cell_type": "code",
   "execution_count": null,
   "metadata": {},
   "outputs": [],
   "source": [
    "Q49. Write the NumPy program to create a 8x8 matrix and fill it with the checkerboard pattern?\n",
    "\n",
    "Checkerboard pattern- \n",
    "[[3 9 3 9 3 9 3 9] \n",
    " [9 3 9 3 9 3 9 3] \n",
    "  [3 9 3 9 3 9 3 9] \n",
    " [9 3 9 3 9 3 9 3]\n",
    " [3 9 3 9 3 9 3 9] \n",
    " [9 3 9 3 9 3 9 3] \n",
    " [3 9 3 9 3 9 3 9] \n",
    " [9 3 9 3 9 3 9 3]]."
   ]
  },
  {
   "cell_type": "code",
   "execution_count": 7,
   "metadata": {},
   "outputs": [
    {
     "name": "stdout",
     "output_type": "stream",
     "text": [
      "Checkerboard pattern:\n",
      "[[0 1 0 1 0 1 0 1]\n",
      " [1 0 1 0 1 0 1 0]\n",
      " [0 1 0 1 0 1 0 1]\n",
      " [1 0 1 0 1 0 1 0]\n",
      " [0 1 0 1 0 1 0 1]\n",
      " [1 0 1 0 1 0 1 0]\n",
      " [0 1 0 1 0 1 0 1]\n",
      " [1 0 1 0 1 0 1 0]]\n"
     ]
    }
   ],
   "source": [
    "import numpy as np\n",
    "x = np.ones((3,3))\n",
    "print(\"Checkerboard pattern:\")\n",
    "x = np.zeros((8,8),dtype=int)\n",
    "x[1::2,::2] = 1\n",
    "x[::2,1::2] = 1\n",
    "print(x)"
   ]
  },
  {
   "cell_type": "markdown",
   "metadata": {},
   "source": [
    "Q50. Write the NumPy program to create an empty and a full array. \n",
    "Expected Output- \n",
    "[[4.45057637e-308 1.78021527e-306 8.45549797e-307 1.37962049e-306] [1.11260619e-306 1.78010255e-306 9.79054228e-307 4.45057637e-308] [8.45596650e-307 9.34602321e-307 4.94065646e-322 0.00000000e+000]] [[6 6 6] [6 6 6] [6 6 6]]"
   ]
  },
  {
   "cell_type": "code",
   "execution_count": 8,
   "metadata": {},
   "outputs": [
    {
     "name": "stdout",
     "output_type": "stream",
     "text": [
      "[[1.38266565e-311 3.16202013e-322 0.00000000e+000 0.00000000e+000]\n",
      " [1.38141926e-311 5.40293689e-066 1.32679065e-075 1.85494678e-051]\n",
      " [4.65848475e-033 4.76306684e-038 1.27800364e+165 1.43347742e+161]]\n",
      "[[6 6 6]\n",
      " [6 6 6]\n",
      " [6 6 6]]\n"
     ]
    }
   ],
   "source": [
    "import numpy as np\n",
    "# Create an empty array\n",
    "x = np.empty((3,4))\n",
    "print(x)\n",
    "# Create a full array\n",
    "y = np.full((3,3),6)\n",
    "print(y)"
   ]
  },
  {
   "cell_type": "markdown",
   "metadata": {},
   "source": [
    "Q51. Write the NumPy program to convert the values of Centigrade degrees into the Fahrenheit degrees and the centigrade values are stored in the NumPy array.\n",
    "\n",
    "Sample Array \n",
    "-[0, 12, 45.21 ,34, 99.91] Expected Output- Values in Fahrenheit degrees- [ 0. 12. 45.21 34. 99.91] Values in Centigrade degrees- [-17.77777778 -11.11111111 7.33888889 1.11111111 37.72777778]"
   ]
  },
  {
   "cell_type": "code",
   "execution_count": 9,
   "metadata": {},
   "outputs": [
    {
     "name": "stdout",
     "output_type": "stream",
     "text": [
      "Values in Fahrenheit degrees:\n",
      "[ 0.   12.   45.21 34.   99.91]\n",
      "Values in  Centigrade degrees:\n",
      "[-17.77777778 -11.11111111   7.33888889   1.11111111  37.72777778]\n"
     ]
    }
   ],
   "source": [
    "import numpy as np\n",
    "fvalues = [0, 12, 45.21, 34, 99.91]\n",
    "F = np.array(fvalues)\n",
    "print(\"Values in Fahrenheit degrees:\")\n",
    "print(F)\n",
    "print(\"Values in  Centigrade degrees:\") \n",
    "print(5*F/9 - 5*32/9)"
   ]
  },
  {
   "cell_type": "code",
   "execution_count": null,
   "metadata": {},
   "outputs": [],
   "source": [
    "Q52. Write the NumPy program to find the real and imaginary parts of an array of complex numbers?\n",
    "\n",
    "Expected Output- \n",
    "Original array [ 1.00000000+0.j 0.70710678+0.70710678j] Real part of the array- [ 1. 0.70710678] Imaginary part of the array- [ 0. 0.70710678]"
   ]
  },
  {
   "cell_type": "code",
   "execution_count": 10,
   "metadata": {},
   "outputs": [
    {
     "name": "stdout",
     "output_type": "stream",
     "text": [
      "Original array:x  [1.+0.j]\n",
      "Original array:y  [0.70710678+0.70710678j]\n",
      "Real part of the array:\n",
      "[1.]\n",
      "[0.70710678]\n",
      "Imaginary part of the array:\n",
      "[0.]\n",
      "[0.70710678]\n"
     ]
    }
   ],
   "source": [
    "import numpy as np\n",
    "x = np.sqrt([1+0j])\n",
    "y = np.sqrt([0+1j])\n",
    "print(\"Original array:x \",x)\n",
    "print(\"Original array:y \",y)\n",
    "print(\"Real part of the array:\")\n",
    "print(x.real)\n",
    "print(y.real)\n",
    "print(\"Imaginary part of the array:\")\n",
    "print(x.imag)\n",
    "print(y.imag)"
   ]
  },
  {
   "cell_type": "markdown",
   "metadata": {},
   "source": [
    "Q53. Write the NumPy program to test whether each element of a 1-D array is also present in the second array?\n",
    "\n",
    "Expected Output- \n",
    "Array1: [ 0 10 20 40 60] \n",
    "    Array2: [0, 40] Compare each element of array1 and array2 [ True False False True False]"
   ]
  },
  {
   "cell_type": "code",
   "execution_count": 11,
   "metadata": {},
   "outputs": [
    {
     "name": "stdout",
     "output_type": "stream",
     "text": [
      "Array1:  [ 0 10 20 40 60]\n",
      "Array2:  [0, 40]\n",
      "Compare each element of array1 and array2\n",
      "[ True False False  True False]\n"
     ]
    }
   ],
   "source": [
    "import numpy as np\n",
    "array1 = np.array([0, 10, 20, 40, 60])\n",
    "print(\"Array1: \",array1)\n",
    "array2 = [0, 40]\n",
    "print(\"Array2: \",array2)\n",
    "print(\"Compare each element of array1 and array2\")\n",
    "print(np.in1d(array1, array2))"
   ]
  },
  {
   "cell_type": "markdown",
   "metadata": {},
   "source": [
    "Q54. Write the NumPy program to find common values between two arrays? \n",
    "Expected Output- \n",
    "Array1: [ 0 10 20 40 60] Array2: [10, 30, 40] Common values between two arrays- [10 40]"
   ]
  },
  {
   "cell_type": "code",
   "execution_count": 12,
   "metadata": {},
   "outputs": [
    {
     "name": "stdout",
     "output_type": "stream",
     "text": [
      "Array1:  [ 0 10 20 40 60]\n",
      "Array2:  [10, 30, 40]\n",
      "Common values between two arrays:\n",
      "[10 40]\n"
     ]
    }
   ],
   "source": [
    "import numpy as np\n",
    "array1 = np.array([0, 10, 20, 40, 60])\n",
    "print(\"Array1: \",array1)\n",
    "array2 = [10, 30, 40]\n",
    "print(\"Array2: \",array2)\n",
    "print(\"Common values between two arrays:\")\n",
    "print(np.intersect1d(array1, array2))"
   ]
  },
  {
   "cell_type": "code",
   "execution_count": null,
   "metadata": {},
   "outputs": [],
   "source": [
    "Q55. Write the NumPy program to get the unique elements of an array?\n",
    "Expected Output- \n",
    "Original array- [10 10 20 20 30 30] Unique elements of the above array- [10 20 30]\n",
    "\n",
    "Original array- [[1 1] [2 3]] Unique elements of the above array- [1 2 3]"
   ]
  },
  {
   "cell_type": "code",
   "execution_count": 13,
   "metadata": {},
   "outputs": [
    {
     "name": "stdout",
     "output_type": "stream",
     "text": [
      "Original array:\n",
      "[10 10 20 20 30 30]\n",
      "Unique elements of the above array:\n",
      "[10 20 30]\n",
      "Original array:\n",
      "[[1 1]\n",
      " [2 3]]\n",
      "Unique elements of the above array:\n",
      "[1 2 3]\n"
     ]
    }
   ],
   "source": [
    "import numpy as np\n",
    "x = np.array([10, 10, 20, 20, 30, 30])\n",
    "print(\"Original array:\")\n",
    "print(x)\n",
    "print(\"Unique elements of the above array:\")\n",
    "print(np.unique(x))\n",
    "x = np.array([[1, 1], [2, 3]])\n",
    "print(\"Original array:\")\n",
    "print(x)\n",
    "print(\"Unique elements of the above array:\")\n",
    "print(np.unique(x))"
   ]
  },
  {
   "cell_type": "markdown",
   "metadata": {},
   "source": [
    "Q56. Write the NumPy program to find the set exclusive-or of two arrays. Set exclusive-or will return the sorted, unique values that are in only one (not both) of the input arrays?\n",
    "\n",
    "Array1- [ 0 10 20 40 60 80] Array2- [10, 30, 40, 50, 70] Unique values that are in only one (not both) of the input arrays- [ 0 20 30 50 60 70 80]"
   ]
  },
  {
   "cell_type": "code",
   "execution_count": 14,
   "metadata": {},
   "outputs": [
    {
     "name": "stdout",
     "output_type": "stream",
     "text": [
      "Array1:  [ 0 10 20 40 60 80]\n",
      "Array2:  [10, 30, 40, 50, 70]\n",
      "Unique values that are in only one (not both) of the input arrays:\n",
      "[ 0 20 30 50 60 70 80]\n"
     ]
    }
   ],
   "source": [
    "import numpy as np\n",
    "array1 = np.array([0, 10, 20, 40, 60, 80])\n",
    "print(\"Array1: \",array1)\n",
    "array2 = [10, 30, 40, 50, 70]\n",
    "print(\"Array2: \",array2)\n",
    "print(\"Unique values that are in only one (not both) of the input arrays:\")\n",
    "print(np.setxor1d(array1, array2))"
   ]
  },
  {
   "cell_type": "markdown",
   "metadata": {},
   "source": [
    "Q57. Write the NumPy program to test if all elements in an array evaluate to True ? \n",
    "Note: 0 evaluates to False in NumPy."
   ]
  },
  {
   "cell_type": "code",
   "execution_count": 15,
   "metadata": {},
   "outputs": [
    {
     "name": "stdout",
     "output_type": "stream",
     "text": [
      "False\n",
      "True\n",
      "False\n",
      "True\n"
     ]
    }
   ],
   "source": [
    "import numpy as np\n",
    "print(np.all([[True,False],[True,True]]))\n",
    "print(np.all([[True,True],[True,True]]))\n",
    "print(np.all([10, 20, 0, -50]))\n",
    "print(np.all([10, 20, -50]))"
   ]
  },
  {
   "cell_type": "markdown",
   "metadata": {},
   "source": [
    "Q58 Write the NumPy program to test whether any array element along the given axis evaluates to True? Note: 0 evaluates to False in NumPy."
   ]
  },
  {
   "cell_type": "code",
   "execution_count": 16,
   "metadata": {},
   "outputs": [
    {
     "name": "stdout",
     "output_type": "stream",
     "text": [
      "False\n",
      "True\n",
      "True\n",
      "True\n"
     ]
    }
   ],
   "source": [
    "import numpy as np\n",
    "print(np.any([[False,False],[False,False]]))\n",
    "print(np.any([[True,True],[True,True]]))\n",
    "print(np.any([10, 20, 0, -50]))\n",
    "print(np.any([10, 20, -50]))"
   ]
  },
  {
   "cell_type": "markdown",
   "metadata": {},
   "source": [
    "Q59. Write the NumPy program to construct an array by repeating? Sample array- [1, 2, 3, 4] Expected Output- Original array [1, 2, 3, 4] Repeating 2 times [1 2 3 4 1 2 3 4]\n",
    "\n",
    "Repeating 3 times [1 2 3 4 1 2 3 4 1 2 3 4]"
   ]
  },
  {
   "cell_type": "code",
   "execution_count": 18,
   "metadata": {},
   "outputs": [
    {
     "name": "stdout",
     "output_type": "stream",
     "text": [
      "Original array\n",
      "[1, 2, 3, 4]\n",
      "Repeating 2 times\n",
      "[1 2 3 4 1 2 3 4]\n",
      "Repeating 3 times\n",
      "[1 2 3 4 1 2 3 4 1 2 3 4]\n"
     ]
    }
   ],
   "source": [
    "import numpy as np\n",
    "a = [1, 2, 3, 4]\n",
    "print(\"Original array\")\n",
    "print(a)\n",
    "print(\"Repeating 2 times\")\n",
    "x = np.tile(a, 2)\n",
    "print(x)\n",
    "print(\"Repeating 3 times\")\n",
    "x = np.tile(a, 3)\n",
    "print(x)"
   ]
  },
  {
   "cell_type": "markdown",
   "metadata": {},
   "source": [
    "Q60. Write the NumPy program to find the indices of the maximum and minimum values with the given axis of an array?\n",
    "Original array- [1 2 3 4 5 6] Maximum Values- 5 Minimum Values- 0"
   ]
  },
  {
   "cell_type": "code",
   "execution_count": 19,
   "metadata": {},
   "outputs": [
    {
     "name": "stdout",
     "output_type": "stream",
     "text": [
      "Original array:  [1 2 3 4 5 6]\n",
      "Maximum Values:  5\n",
      "Minimum Values:  0\n"
     ]
    }
   ],
   "source": [
    "import numpy as np\n",
    "x = np.array([1, 2, 3, 4, 5, 6])\n",
    "print(\"Original array: \",x)\n",
    "print(\"Maximum Values: \",np.argmax(x))\n",
    "print(\"Minimum Values: \",np.argmin(x))"
   ]
  },
  {
   "cell_type": "markdown",
   "metadata": {},
   "source": [
    "Q61. Write the NumPy program compare two arrays using numpy?\n",
    "Array a- [1 2] Array b- [4 5] a > b [False False] a >= b [False False] a < b [ True True] a <= b [ True True]"
   ]
  },
  {
   "cell_type": "code",
   "execution_count": 20,
   "metadata": {},
   "outputs": [
    {
     "name": "stdout",
     "output_type": "stream",
     "text": [
      "Array a:  [1 2]\n",
      "Array b:  [4 5]\n",
      "a > b\n",
      "[False False]\n",
      "a >= b\n",
      "[False False]\n",
      "a < b\n",
      "[ True  True]\n",
      "a <= b\n",
      "[ True  True]\n"
     ]
    }
   ],
   "source": [
    "import numpy as np\n",
    "a = np.array([1, 2])\n",
    "b = np.array([4, 5])\n",
    "print(\"Array a: \",a)\n",
    "print(\"Array b: \",b)\n",
    "print(\"a > b\")\n",
    "print(np.greater(a, b))\n",
    "print(\"a >= b\")\n",
    "print(np.greater_equal(a, b))\n",
    "print(\"a < b\")\n",
    "print(np.less(a, b))\n",
    "print(\"a <= b\")\n",
    "print(np.less_equal(a, b))"
   ]
  },
  {
   "cell_type": "markdown",
   "metadata": {},
   "source": [
    "Q62. Write the NumPy program to sort an along the first, last axis of an array? \n",
    "Sample array- [[2,5],[4,4]] Expected Output- Original array: [[4 6] [2 1]] Sort along the first axis: [[2 1] [4 6]]\n",
    "\n",
    "Sort along the last axis- [[1 2] [4 6]]"
   ]
  },
  {
   "cell_type": "code",
   "execution_count": 21,
   "metadata": {},
   "outputs": [
    {
     "name": "stdout",
     "output_type": "stream",
     "text": [
      "Original array: \n",
      "[[4 6]\n",
      " [2 1]]\n",
      "Sort along the first axis: \n",
      "[[2 1]\n",
      " [4 6]]\n",
      "Sort along the last axis: \n",
      "[[1 2]\n",
      " [4 6]]\n"
     ]
    }
   ],
   "source": [
    "import numpy as np\n",
    "a = np.array([[4, 6],[2, 1]])\n",
    "print(\"Original array: \")\n",
    "print(a)\n",
    "print(\"Sort along the first axis: \")\n",
    "x = np.sort(a, axis=0)\n",
    "print(x)\n",
    "print(\"Sort along the last axis: \")\n",
    "y = np.sort(x, axis=1)\n",
    "print(y)"
   ]
  },
  {
   "cell_type": "markdown",
   "metadata": {},
   "source": [
    "Q63. Write the NumPy program to sort pairs of first name and last name return their indices (first by last name, then by first name).\n",
    "first_names - ( Betsey, Shelley, Lanell, Genesis, Margery ) last_names - ( Battle, Brien, Plotner, Stahl, Woolum ) Expected Output- [1 3 2 4 0]"
   ]
  },
  {
   "cell_type": "code",
   "execution_count": 22,
   "metadata": {},
   "outputs": [
    {
     "name": "stdout",
     "output_type": "stream",
     "text": [
      "[1 3 2 4 0]\n"
     ]
    }
   ],
   "source": [
    "import numpy as np\n",
    "first_names =    ('Margery', 'Betsey', 'Shelley', 'Lanell', 'Genesis')\n",
    "last_names = ('Woolum', 'Battle', 'Plotner', 'Brien', 'Stahl')\n",
    "x = np.lexsort((first_names, last_names))\n",
    "print(x)"
   ]
  },
  {
   "cell_type": "markdown",
   "metadata": {},
   "source": [
    "Q64. Write the NumPy program to get the values and indices of the elements that are bigger than 10 in the given array?\n",
    "Original array- [[ 0 10 20] [20 30 40]] Values bigger than 10 = [20 20 30 40] Their indices are (array([0, 1, 1, 1]), array([2, 0, 1, 2]))"
   ]
  },
  {
   "cell_type": "code",
   "execution_count": 23,
   "metadata": {},
   "outputs": [
    {
     "name": "stdout",
     "output_type": "stream",
     "text": [
      "Original array: \n",
      "[[ 0 10 20]\n",
      " [20 30 40]]\n",
      "Values bigger than 10 = [20 20 30 40]\n",
      "Their indices are  (array([0, 1, 1, 1], dtype=int64), array([2, 0, 1, 2], dtype=int64))\n"
     ]
    }
   ],
   "source": [
    "import numpy as np\n",
    "x = np.array([[0, 10, 20], [20, 30, 40]])\n",
    "print(\"Original array: \")\n",
    "print(x)\n",
    "print(\"Values bigger than 10 =\", x[x>10])\n",
    "print(\"Their indices are \", np.nonzero(x > 10))"
   ]
  },
  {
   "cell_type": "markdown",
   "metadata": {},
   "source": [
    "Q65. Write the NumPy program to find the memory size of a NumPy array?\n",
    "Expected Output- 128 bytes"
   ]
  },
  {
   "cell_type": "code",
   "execution_count": 24,
   "metadata": {},
   "outputs": [
    {
     "name": "stdout",
     "output_type": "stream",
     "text": [
      "128 bytes\n"
     ]
    }
   ],
   "source": [
    "import numpy as np\n",
    "n = np.zeros((4,4))\n",
    "print(\"%d bytes\" % (n.size * n.itemsize))"
   ]
  },
  {
   "cell_type": "markdown",
   "metadata": {},
   "source": [
    "Q66. Write the NumPy program to create an array of ones and an array of zeros?\n",
    "\n",
    "Expected Output- Create an array of zeros Default type is float\n",
    "\n",
    "[[ 0. 0.]] Type changes to int [[0 0]] Create an array of ones Default type is float [[ 1. 1.]] Type changes to int [[1 1]]"
   ]
  },
  {
   "cell_type": "code",
   "execution_count": 25,
   "metadata": {},
   "outputs": [
    {
     "name": "stdout",
     "output_type": "stream",
     "text": [
      "Create an array of zeros\n",
      "Default type is float\n",
      "[[0. 0.]]\n",
      "Type changes to int\n",
      "[[0 0]]\n",
      "Create an array of ones\n",
      "Default type is float\n",
      "[[1. 1.]]\n",
      "Type changes to int\n",
      "[[1 1]]\n"
     ]
    }
   ],
   "source": [
    "import numpy as np\n",
    "print(\"Create an array of zeros\")\n",
    "x = np.zeros((1,2))\n",
    "print(\"Default type is float\")\n",
    "print(x)\n",
    "print(\"Type changes to int\")\n",
    "x = np.zeros((1,2), dtype = np.int)\n",
    "print(x)\n",
    "print(\"Create an array of ones\")\n",
    "y= np.ones((1,2)) \n",
    "print(\"Default type is float\")\n",
    "print(y)\n",
    "print(\"Type changes to int\")\n",
    "y = np.ones((1,2), dtype = np.int)\n",
    "print(y)"
   ]
  },
  {
   "cell_type": "markdown",
   "metadata": {},
   "source": [
    "Q67. Write the NumPy program to change the dimension of an array? \n",
    "Expected Output- 6 rows and 0 columns (6,) (3, 3) -> 3 rows and 3 columns [[1 2 3] [4 5 6] [7 8 9]] Change array shape to (3, 3) -> 3 rows and 3 columns [[1 2 3] [4 5 6] [7 8 9]]"
   ]
  },
  {
   "cell_type": "code",
   "execution_count": 26,
   "metadata": {},
   "outputs": [
    {
     "name": "stdout",
     "output_type": "stream",
     "text": [
      "6 rows and 0 columns\n",
      "(6,)\n",
      "(3, 3) -> 3 rows and 3 columns \n",
      "[[1 2 3]\n",
      " [4 5 6]\n",
      " [7 8 9]]\n",
      "Change array shape to (3, 3) -> 3 rows and 3 columns \n",
      "[[1 2 3]\n",
      " [4 5 6]\n",
      " [7 8 9]]\n"
     ]
    }
   ],
   "source": [
    "import numpy as np\n",
    "x = np.array([1, 2, 3, 4, 5, 6])\n",
    "print(\"6 rows and 0 columns\")\n",
    "print(x.shape)\n",
    "\n",
    "y = np.array([[1, 2, 3],[4, 5, 6],[7,8,9]])\n",
    "print(\"(3, 3) -> 3 rows and 3 columns \")\n",
    "print(y)\n",
    "\n",
    "x = np.array([1,2,3,4,5,6,7,8,9])\n",
    "print(\"Change array shape to (3, 3) -> 3 rows and 3 columns \")\n",
    "x.shape = (3, 3)\n",
    "print(x)"
   ]
  },
  {
   "cell_type": "markdown",
   "metadata": {},
   "source": [
    "Q68. Write the NumPy program to create a new shape to an array without changing its data ? \n",
    "Reshape 3x2- [[1 2] [3 4] [5 6]] Reshape 2x3- [[1 2 3] [4 5 6]]"
   ]
  },
  {
   "cell_type": "code",
   "execution_count": 27,
   "metadata": {},
   "outputs": [
    {
     "name": "stdout",
     "output_type": "stream",
     "text": [
      "Reshape 3x2:\n",
      "[[1 2]\n",
      " [3 4]\n",
      " [5 6]]\n",
      "Reshape 2x3:\n",
      "[[1 2 3]\n",
      " [4 5 6]]\n"
     ]
    }
   ],
   "source": [
    "import numpy as np\n",
    "x = np.array([1, 2, 3, 4, 5, 6])\n",
    "y = np.reshape(x,(3,2))\n",
    "print(\"Reshape 3x2:\")\n",
    "print(y)\n",
    "z = np.reshape(x,(2,3))\n",
    "print(\"Reshape 2x3:\")\n",
    "print(z)"
   ]
  },
  {
   "cell_type": "markdown",
   "metadata": {},
   "source": [
    "Q69. Write the NumPy program to create a new array of 3*5, filled with 2?\n",
    "Expected Output- [[2 2 2 2 2] [2 2 2 2 2] [2 2 2 2 2]] [[2 2 2 2 2] [2 2 2 2 2] [2 2 2 2 2]]"
   ]
  },
  {
   "cell_type": "code",
   "execution_count": 28,
   "metadata": {},
   "outputs": [
    {
     "name": "stdout",
     "output_type": "stream",
     "text": [
      "[[2 2 2 2 2]\n",
      " [2 2 2 2 2]\n",
      " [2 2 2 2 2]]\n",
      "[[2 2 2 2 2]\n",
      " [2 2 2 2 2]\n",
      " [2 2 2 2 2]]\n"
     ]
    }
   ],
   "source": [
    "import numpy as np\n",
    "#using no.full\n",
    "x = np.full((3, 5), 2, dtype=np.uint)\n",
    "print(x)\n",
    "#using no.ones\n",
    "y = np.ones([3, 5], dtype=np.uint) *2\n",
    "print(y)"
   ]
  },
  {
   "cell_type": "markdown",
   "metadata": {},
   "source": [
    "Q70. Write the NumPy program to create a 3-D array with ones on a diagonal and zeros elsewhere? Expected Output- [[ 1. 0. 0.] [ 0. 1. 0.] [ 0. 0. 1.]]"
   ]
  },
  {
   "cell_type": "code",
   "execution_count": 29,
   "metadata": {},
   "outputs": [
    {
     "name": "stdout",
     "output_type": "stream",
     "text": [
      "[[1. 0. 0.]\n",
      " [0. 1. 0.]\n",
      " [0. 0. 1.]]\n"
     ]
    }
   ],
   "source": [
    "import numpy as np\n",
    "x = np.eye(3)\n",
    "print(x)"
   ]
  },
  {
   "cell_type": "markdown",
   "metadata": {},
   "source": [
    "Q71. Write the NumPy program to split an array of 14 elements into the 3 arrays and each of which has 2, 4, and 8 elements in original order?\n",
    "Expected Output- Original array- [ 1 2 3 4 5 6 7 8 9 10 11 12 13 14] After splitting- [array([1, 2]), array([3, 4, 5, 6]), array([ 7, 8, 9, 10, 11, 12, 13, 14])]"
   ]
  },
  {
   "cell_type": "code",
   "execution_count": 30,
   "metadata": {},
   "outputs": [
    {
     "name": "stdout",
     "output_type": "stream",
     "text": [
      "Original array: [ 1  2  3  4  5  6  7  8  9 10 11 12 13 14]\n",
      "After splitting:\n",
      "[array([1, 2]), array([3, 4, 5, 6]), array([ 7,  8,  9, 10, 11, 12, 13, 14])]\n"
     ]
    }
   ],
   "source": [
    "import numpy as np\n",
    "x = np.arange(1, 15)\n",
    "print(\"Original array:\",x)\n",
    "print(\"After splitting:\")\n",
    "print(np.split(x, [2, 6]))"
   ]
  },
  {
   "cell_type": "markdown",
   "metadata": {},
   "source": [
    "Q72. Write the NumPy program to split of an array of shape 4x4 it into two arrays along the second axis ? \n",
    "Sample array - [[ 0 1 2 3] [ 4 5 6 7] [ 8 9 10 11] [12 13 14 15]] \n",
    "\n",
    "Expected Output-\n",
    "[array([[ 0, 1], [ 4, 5], [ 8, 9], [12, 13]]), array([[ 2, 3], [ 6, 7], [10, 11], [14, 15]]), array([], shape=(4, 0), dtype=int64)]"
   ]
  },
  {
   "cell_type": "code",
   "execution_count": 31,
   "metadata": {},
   "outputs": [
    {
     "name": "stdout",
     "output_type": "stream",
     "text": [
      "Original array: [[ 0  1  2  3]\n",
      " [ 4  5  6  7]\n",
      " [ 8  9 10 11]\n",
      " [12 13 14 15]]\n",
      "After splitting horizontally:\n",
      "[array([[ 0,  1],\n",
      "       [ 4,  5],\n",
      "       [ 8,  9],\n",
      "       [12, 13]]), array([[ 2,  3],\n",
      "       [ 6,  7],\n",
      "       [10, 11],\n",
      "       [14, 15]]), array([], shape=(4, 0), dtype=int32)]\n"
     ]
    }
   ],
   "source": [
    "import numpy as np\n",
    "x = np.arange(16).reshape((4, 4))\n",
    "print(\"Original array:\",x)\n",
    "print(\"After splitting horizontally:\")\n",
    "print(np.hsplit(x, [2, 6]))"
   ]
  },
  {
   "cell_type": "markdown",
   "metadata": {},
   "source": [
    "Q73. Write the NumPy program to create a 5x5 matrix with row values ranging from 0 to 4?\n",
    "Original array- [[ 0. 0. 0. 0. 0.] [ 0. 0. 0. 0. 0.] [ 0. 0. 0. 0. 0.] [ 0. 0. 0. 0. 0.] [ 0. 0. 0. 0. 0.]] \n",
    "Row values ranging from 0 to 4. [[ 0. 1. 2. 3. 4.] [ 0. 1. 2. 3. 4.] [ 0. 1. 2. 3. 4.] [ 0. 1. 2. 3. 4.] [ 0. 1. 2. 3. 4.]]"
   ]
  },
  {
   "cell_type": "code",
   "execution_count": 32,
   "metadata": {},
   "outputs": [
    {
     "name": "stdout",
     "output_type": "stream",
     "text": [
      "Original array:\n",
      "[[0. 0. 0. 0. 0.]\n",
      " [0. 0. 0. 0. 0.]\n",
      " [0. 0. 0. 0. 0.]\n",
      " [0. 0. 0. 0. 0.]\n",
      " [0. 0. 0. 0. 0.]]\n",
      "Row values ranging from 0 to 4.\n",
      "[[0. 1. 2. 3. 4.]\n",
      " [0. 1. 2. 3. 4.]\n",
      " [0. 1. 2. 3. 4.]\n",
      " [0. 1. 2. 3. 4.]\n",
      " [0. 1. 2. 3. 4.]]\n"
     ]
    }
   ],
   "source": [
    "import numpy as np\n",
    "x = np.zeros((5,5))\n",
    "print(\"Original array:\")\n",
    "print(x)\n",
    "print(\"Row values ranging from 0 to 4.\")\n",
    "x += np.arange(5)\n",
    "print(x)"
   ]
  },
  {
   "cell_type": "markdown",
   "metadata": {},
   "source": [
    "Q74. Write the NumPy program to create an array of zeros and three column types (integer, float, character)?\n",
    "\n",
    "Expected Output- [(1, 2., b'Albert Einstein') (2, 2., b'Edmond Halley') (3, 3., b'Gertrude B. Elion')]"
   ]
  },
  {
   "cell_type": "code",
   "execution_count": 33,
   "metadata": {},
   "outputs": [
    {
     "name": "stdout",
     "output_type": "stream",
     "text": [
      "[(1, 2., b'Albert Einstein') (2, 2., b'Edmond Halley')\n",
      " (3, 3., b'Gertrude B. Elion')]\n"
     ]
    }
   ],
   "source": [
    "import numpy as np\n",
    "x = np.zeros((3,), dtype=('i4,f4,a40'))\n",
    "new_data = [(1, 2., \"Albert Einstein\"), (2, 2., \"Edmond Halley\"), (3, 3., \"Gertrude B. Elion\")]\n",
    "x[:] = new_data\n",
    "print(x)"
   ]
  },
  {
   "cell_type": "markdown",
   "metadata": {},
   "source": [
    "Q75. Write the NumPy program to remove the negative values in the numpy array with 0?\n",
    "Expected Output- \n",
    "Original array: [-1 -4 0 2 3 4 5 -6] \n",
    "Replace the negative values of the said array with 0- [0 0 0 2 3 4 5 0]"
   ]
  },
  {
   "cell_type": "code",
   "execution_count": 34,
   "metadata": {},
   "outputs": [
    {
     "name": "stdout",
     "output_type": "stream",
     "text": [
      "Original array:\n",
      "[-1 -4  0  2  3  4  5 -6]\n",
      "Replace the negative values of the said array with 0:\n",
      "[0 0 0 2 3 4 5 0]\n"
     ]
    }
   ],
   "source": [
    "import numpy as np\n",
    "x = np.array([-1, -4, 0, 2, 3, 4, 5, -6])\n",
    "print(\"Original array:\")\n",
    "print(x)\n",
    "print(\"Replace the negative values of the said array with 0:\")\n",
    "x[x < 0] = 0\n",
    "print(x)"
   ]
  },
  {
   "cell_type": "markdown",
   "metadata": {},
   "source": [
    "Q76. Write the NumPy program to compute the histogram of a set of data? \n",
    "Sample Output-"
   ]
  },
  {
   "cell_type": "code",
   "execution_count": 36,
   "metadata": {},
   "outputs": [
    {
     "data": {
      "image/png": "[encoded data removed]",
      "text/plain": [
       "<Figure size 432x288 with 1 Axes>"
      ]
     },
     "metadata": {
      "needs_background": "light"
     },
     "output_type": "display_data"
    }
   ],
   "source": [
    "import numpy as np    \n",
    "import matplotlib.pyplot as plt\n",
    "plt.hist([1, 2, 1], bins=[0, 1, 2, 3, 5])\n",
    "plt.show()"
   ]
  },
  {
   "cell_type": "code",
   "execution_count": null,
   "metadata": {},
   "outputs": [],
   "source": [
    "Q77. Write the NumPy program to compute the line graph of a set of data?\n",
    "Sample Output:"
   ]
  },
  {
   "cell_type": "code",
   "execution_count": 37,
   "metadata": {},
   "outputs": [
    {
     "name": "stderr",
     "output_type": "stream",
     "text": [
      "C:\\ProgramData\\Anaconda3\\lib\\site-packages\\ipykernel_launcher.py:7: UserWarning: Matplotlib is currently using module://ipykernel.pylab.backend_inline, which is a non-GUI backend, so cannot show the figure.\n",
      "  import sys\n"
     ]
    },
    {
     "data": {
      "image/png": "[encoded data removed]",
      "text/plain": [
       "<Figure size 432x288 with 1 Axes>"
      ]
     },
     "metadata": {
      "needs_background": "light"
     },
     "output_type": "display_data"
    }
   ],
   "source": [
    "import numpy as np    \n",
    "import matplotlib.pyplot as plt\n",
    "arr = np.random.randint(1, 50, 10)\n",
    "y, x = np.histogram(arr, bins=np.arange(51))\n",
    "fig, ax = plt.subplots()\n",
    "ax.plot(x[:-1], y)\n",
    "fig.show()"
   ]
  },
  {
   "cell_type": "markdown",
   "metadata": {},
   "source": [
    "Q78. Write the NumPy program to extracts all the elements from second row from given (4x4) array?\n",
    "Sample Output- \n",
    "Original array- [[ 0 1 2 3] [ 4 5 6 7] [ 8 9 10 11] [12 13 14 15]] \n",
    "Extracted data- Second row [4 5 6 7]"
   ]
  },
  {
   "cell_type": "code",
   "execution_count": 38,
   "metadata": {},
   "outputs": [
    {
     "name": "stdout",
     "output_type": "stream",
     "text": [
      "Original array:\n",
      "[[ 0  1  2  3]\n",
      " [ 4  5  6  7]\n",
      " [ 8  9 10 11]\n",
      " [12 13 14 15]]\n",
      "\n",
      "Extracted data: Second row\n",
      "[4 5 6 7]\n"
     ]
    }
   ],
   "source": [
    "import numpy as np\n",
    "arra_data = np.arange(0,16).reshape((4, 4))\n",
    "print(\"Original array:\")\n",
    "print(arra_data)\n",
    "print(\"\\nExtracted data: Second row\")\n",
    "print(arra_data[1,:])"
   ]
  },
  {
   "cell_type": "markdown",
   "metadata": {},
   "source": [
    "Q79. Write the NumPy program to extract first element of the second row and fourth element of fourth row from a given (4x4) array? \n",
    "Sample Output- \n",
    "Original array- [[ 0 1 2 3] [ 4 5 6 7] [ 8 9 10 11] [12 13 14 15]] Extracted data- First element of the second row and fourth element of fourth row [ 4 15]"
   ]
  },
  {
   "cell_type": "code",
   "execution_count": 39,
   "metadata": {},
   "outputs": [
    {
     "name": "stdout",
     "output_type": "stream",
     "text": [
      "Original array:\n",
      "[[ 0  1  2  3]\n",
      " [ 4  5  6  7]\n",
      " [ 8  9 10 11]\n",
      " [12 13 14 15]]\n",
      "\n",
      "Extracted data: First element of the second row and fourth element of fourth row  \n",
      "[ 4 15]\n"
     ]
    }
   ],
   "source": [
    "import numpy as np\n",
    "arra_data = np.arange(0,16).reshape((4, 4))\n",
    "print(\"Original array:\")\n",
    "print(arra_data)\n",
    "print(\"\\nExtracted data: First element of the second row and fourth element of fourth row  \")\n",
    "print(arra_data[[1,3], [0,3]])"
   ]
  },
  {
   "cell_type": "code",
   "execution_count": null,
   "metadata": {},
   "outputs": [],
   "source": [
    "Q80. Write the NumPy program to add two arrays A and B of sizes (3,3) and (,3)?\n",
    "Sample Output-\n",
    "Original array- Array-1 [[1 1 1] [1 1 1] [1 1 1]] \n",
    "Array-2 [0 1 2] A + B: [[1 2 3]\n",
    "[1 2 3] [1 2 3]]"
   ]
  },
  {
   "cell_type": "code",
   "execution_count": 40,
   "metadata": {},
   "outputs": [
    {
     "name": "stdout",
     "output_type": "stream",
     "text": [
      "Original array:\n",
      "Array-1\n",
      "[[1. 1. 1.]\n",
      " [1. 1. 1.]\n",
      " [1. 1. 1.]]\n",
      "Array-2\n",
      "[0 1 2]\n",
      "A + B:\n",
      "[[1. 2. 3.]\n",
      " [1. 2. 3.]\n",
      " [1. 2. 3.]]\n"
     ]
    }
   ],
   "source": [
    "import numpy as np\n",
    "A = np.ones((3,3))\n",
    "B = np.arange(3)\n",
    "print(\"Original array:\")\n",
    "print(\"Array-1\")\n",
    "print(A)\n",
    "print(\"Array-2\")\n",
    "print(B)\n",
    "print(\"A + B:\")\n",
    "new_array = A + B\n",
    "print(new_array)"
   ]
  },
  {
   "cell_type": "markdown",
   "metadata": {},
   "source": [
    "Q81. Write the NumPy program to copy data from a given array to another array?\n",
    "Sample Output- Original array- [24 27 30 29 18 14] Copy of the said array- [24 27 30 29 18 14]"
   ]
  },
  {
   "cell_type": "code",
   "execution_count": 41,
   "metadata": {},
   "outputs": [
    {
     "name": "stdout",
     "output_type": "stream",
     "text": [
      "Original array:\n",
      "[24 27 30 29 18 14]\n",
      "\n",
      "Copy of the said array:\n",
      "[24 27 30 29 18 14]\n"
     ]
    }
   ],
   "source": [
    "import numpy as np\n",
    "x = np.array([24, 27, 30, 29, 18, 14])\n",
    "print(\"Original array:\")\n",
    "print(x)\n",
    "y = np.empty_like (x)\n",
    "y[:] = x\n",
    "print(\"\\nCopy of the said array:\")\n",
    "print(y)"
   ]
  },
  {
   "cell_type": "markdown",
   "metadata": {},
   "source": [
    "Q82. Write the NumPy program to calculate the sum of all columns of the 2D numpy array?\n",
    "Sample Output- Original array- [[ 0 1 2 3 4 5 6 7 8] [ 9 10 11 12 13 14 15 16 17] [18 19 20 21 22 23 24 25 26] [27 28 29 30 31 32 33 34 35]] Sum of all columns- [54 58 62 66 70 74 78 82 86]"
   ]
  },
  {
   "cell_type": "code",
   "execution_count": 42,
   "metadata": {},
   "outputs": [
    {
     "name": "stdout",
     "output_type": "stream",
     "text": [
      "Original array:\n",
      "[[ 0  1  2  3  4  5  6  7  8]\n",
      " [ 9 10 11 12 13 14 15 16 17]\n",
      " [18 19 20 21 22 23 24 25 26]\n",
      " [27 28 29 30 31 32 33 34 35]]\n",
      "\n",
      "Sum of all columns:\n",
      "[54 58 62 66 70 74 78 82 86]\n"
     ]
    }
   ],
   "source": [
    "import numpy as np\n",
    "num = np.arange(36)\n",
    "arr1 = np.reshape(num, [4, 9])\n",
    "print(\"Original array:\")\n",
    "print(arr1)\n",
    "result  = arr1.sum(axis=0)\n",
    "print(\"\\nSum of all columns:\")\n",
    "print(result)"
   ]
  },
  {
   "cell_type": "markdown",
   "metadata": {},
   "source": [
    "Q83. Write the NumPy program to calculate averages without NaNs along the given array?\n",
    "Sample Output- Original array- [[10. 20. 30.] [40. 50. nan] [nan 6. nan] [nan nan nan]]\n",
    "\n",
    "Averages without NaNs along the said array- [20. 45. 6. nan]"
   ]
  },
  {
   "cell_type": "code",
   "execution_count": 43,
   "metadata": {},
   "outputs": [
    {
     "name": "stdout",
     "output_type": "stream",
     "text": [
      "Original array:\n",
      "[[10. 20. 30.]\n",
      " [40. 50. nan]\n",
      " [nan  6. nan]\n",
      " [nan nan nan]]\n",
      "Averages without NaNs along the said array:\n",
      "[20. 45.  6. nan]\n"
     ]
    }
   ],
   "source": [
    "import numpy as np\n",
    "arr1 = np.array([[10, 20 ,30], [40, 50, np.nan], [np.nan, 6, np.nan], [np.nan, np.nan, np.nan]])\n",
    "print(\"Original array:\")\n",
    "print(arr1)\n",
    "temp = np.ma.masked_array(arr1,np.isnan(arr1))\n",
    "result = np.mean(temp, axis=1)\n",
    "print(\"Averages without NaNs along the said array:\")\n",
    "print(result.filled(np.nan))"
   ]
  },
  {
   "cell_type": "markdown",
   "metadata": {},
   "source": [
    "Q84. Create two arrays of six elements. Write the NumPy program to count the number of instances of a value occurring in one array on the condition of another array.\n",
    "Sample Output- Original arrays- [ 10 -10 10 -10 -10 10] [0.85 0.45 0.9 0.8 0.12 0.6 ] Number of instances of a value occurring in one array on the condition of another array: 3"
   ]
  },
  {
   "cell_type": "code",
   "execution_count": 44,
   "metadata": {},
   "outputs": [
    {
     "name": "stdout",
     "output_type": "stream",
     "text": [
      "Original arrays:\n",
      "[ 10 -10  10 -10 -10  10]\n",
      "[0.85 0.45 0.9  0.8  0.12 0.6 ]\n",
      "\n",
      "Number of instances of a value occurring in one array on the condition of another array:\n",
      "3\n"
     ]
    }
   ],
   "source": [
    "import numpy as np\n",
    "x = np.array([10,-10,10,-10,-10,10])\n",
    "y = np.array([.85,.45,.9,.8,.12,.6])\n",
    "print(\"Original arrays:\")\n",
    "print(x)\n",
    "print(y)\n",
    "result = np.sum((x == 10) & (y > .5))\n",
    "print(\"\\nNumber of instances of a value occurring in one array on the condition of another array:\")\n",
    "print(result)"
   ]
  },
  {
   "cell_type": "markdown",
   "metadata": {},
   "source": [
    "Q85. Write the NumPy program to convert a Python dictionary to a Numpy ndarray ?\n",
    "Original dictionary- {'column0': {'a': 1, 'b': 0.0, 'c': 0.0, 'd': 2.0}, 'column1': {'a': 3.0, 'b': 1, 'c': 0.0, 'd': -1.0}, 'column2': {'a': 4, 'b': 1, 'c': 5.0, 'd': -1.0}, 'column3': {'a': 3.0, 'b': -1.0, 'c': -1.0, 'd': -1.0}} Type: <class 'dict'> ndarray- [[ 1. 0. 0. 2.] [ 3. 1. 0. -1.] [ 4. 1. 5. -1.] [ 3. -1. -1. -1.]] Type: <class 'numpy.ndarray'>"
   ]
  },
  {
   "cell_type": "code",
   "execution_count": 45,
   "metadata": {},
   "outputs": [
    {
     "name": "stdout",
     "output_type": "stream",
     "text": [
      "\n",
      "Original dictionary:\n",
      "{'column0': {'a': 1, 'b': 0.0, 'c': 0.0, 'd': 2.0}, 'column1': {'a': 3.0, 'b': 1, 'c': 0.0, 'd': -1.0}, 'column2': {'a': 4, 'b': 1, 'c': 5.0, 'd': -1.0}, 'column3': {'a': 3.0, 'b': -1.0, 'c': -1.0, 'd': -1.0}}\n",
      "Type:  <class 'dict'>\n",
      "\n",
      "ndarray:\n",
      "[[ 1.  0.  0.  2.]\n",
      " [ 3.  1.  0. -1.]\n",
      " [ 4.  1.  5. -1.]\n",
      " [ 3. -1. -1. -1.]]\n",
      "Type:  <class 'numpy.ndarray'>\n"
     ]
    }
   ],
   "source": [
    "import numpy as np\n",
    "from ast import literal_eval\n",
    "udict = \"\"\"{\"column0\":{\"a\":1,\"b\":0.0,\"c\":0.0,\"d\":2.0},\n",
    "   \"column1\":{\"a\":3.0,\"b\":1,\"c\":0.0,\"d\":-1.0},\n",
    "   \"column2\":{\"a\":4,\"b\":1,\"c\":5.0,\"d\":-1.0},\n",
    "   \"column3\":{\"a\":3.0,\"b\":-1.0,\"c\":-1.0,\"d\":-1.0}\n",
    "  }\"\"\"\n",
    "t = literal_eval(udict)\n",
    "print(\"\\nOriginal dictionary:\")\n",
    "print(t)\n",
    "print(\"Type: \",type(t))\n",
    "result_nparra = np.array([[v[j] for j in ['a', 'b', 'c', 'd']] for k, v in t.items()])\n",
    "print(\"\\nndarray:\")\n",
    "print(result_nparra)\n",
    "print(\"Type: \",type(result_nparra))"
   ]
  },
  {
   "cell_type": "markdown",
   "metadata": {},
   "source": [
    "Q86. Write the Numpy program to find and store the non-zero unique rows in an array after comparing each row with other row in the given matrix?\n",
    "\n",
    "Original array- [[ 1 1 0] [ 0 0 0] [ 0 2 3] [ 0 0 0] [ 0 -1 1] [ 0 0 0]] \n",
    "Non-zero unique rows- [[ 1 1 0] [ 0 2 3] [ 0 -1 1]]"
   ]
  },
  {
   "cell_type": "code",
   "execution_count": 46,
   "metadata": {},
   "outputs": [
    {
     "name": "stdout",
     "output_type": "stream",
     "text": [
      "Original array:\n",
      "[[ 1  1  0]\n",
      " [ 0  0  0]\n",
      " [ 0  2  3]\n",
      " [ 0  0  0]\n",
      " [ 0 -1  1]\n",
      " [ 0  0  0]]\n",
      "\n",
      "Non-zero unique rows:\n",
      "[[ 1  1  0]\n",
      " [ 0  2  3]\n",
      " [ 0 -1  1]]\n"
     ]
    }
   ],
   "source": [
    "import numpy as np\n",
    "arra = np.array([[ 1,  1,  0],\n",
    "                 [ 0,  0,  0],\n",
    "                 [ 0,  2,  3],\n",
    "                 [ 0,  0,  0],\n",
    "                 [ 0, -1,  1],\n",
    "                 [ 0,  0,  0]])\n",
    "\n",
    "print(\"Original array:\")\n",
    "print(arra)\n",
    "temp = {(0, 0, 0)}\n",
    "result = []\n",
    "for idx, row in enumerate(map(tuple, arra)):\n",
    "    if row not in temp:\n",
    "        result.append(idx)\n",
    "print(\"\\nNon-zero unique rows:\")\n",
    "print(arra[result])"
   ]
  },
  {
   "cell_type": "markdown",
   "metadata": {},
   "source": [
    "Q87. Write the NumPy program to multiply the matrix by another matrix of complex numbers and create a new matrix of complex numbers? Sample output- First array- [ 1.+2.j 3.+4.j] Second array- [ 5.+6.j 7.+8.j] Product of above two arrays- (70-8j)"
   ]
  },
  {
   "cell_type": "code",
   "execution_count": 47,
   "metadata": {},
   "outputs": [
    {
     "name": "stdout",
     "output_type": "stream",
     "text": [
      "First array:\n",
      "[1.+2.j 3.+4.j]\n",
      "Second array:\n",
      "[5.+6.j 7.+8.j]\n",
      "Product of above two arrays:\n",
      "(70-8j)\n"
     ]
    }
   ],
   "source": [
    "import numpy as np\n",
    "x = np.array([1+2j,3+4j])\n",
    "print(\"First array:\")\n",
    "print(x)\n",
    "y = np.array([5+6j,7+8j])\n",
    "print(\"Second array:\")\n",
    "print(y)\n",
    "z = np.vdot(x, y)\n",
    "print(\"Product of above two arrays:\")\n",
    "print(z)"
   ]
  },
  {
   "cell_type": "markdown",
   "metadata": {},
   "source": [
    "Q88. Write a NumPy program to generate the matrix product of two Arrays?\n",
    "Sample Output- Matrices and vectors. x- [[1, 0], [1, 1]] y- [[3, 1], [2, 2]] Matrix product of above two arrays-\n",
    "\n",
    "[[3 1] [5 3]]"
   ]
  },
  {
   "cell_type": "code",
   "execution_count": 48,
   "metadata": {},
   "outputs": [
    {
     "name": "stdout",
     "output_type": "stream",
     "text": [
      "Matrices and vectors.\n",
      "x:\n",
      "[[1, 0], [1, 1]]\n",
      "y:\n",
      "[[3, 1], [2, 2]]\n",
      "Matrix product of above two arrays:\n",
      "[[3 1]\n",
      " [5 3]]\n"
     ]
    }
   ],
   "source": [
    "import numpy as np\n",
    "x = [[1, 0], [1, 1]]\n",
    "y = [[3, 1], [2, 2]]\n",
    "print(\"Matrices and vectors.\")\n",
    "print(\"x:\")\n",
    "print(x)\n",
    "print(\"y:\")\n",
    "print(y)\n",
    "print(\"Matrix product of above two arrays:\")\n",
    "print(np.matmul(x, y))"
   ]
  },
  {
   "cell_type": "markdown",
   "metadata": {},
   "source": [
    "Q89. Write the NumPy program to find roots of the following Polynomials?\n",
    "a) (x2 - 4x + 7) b) x4 - 11x3 + 9x2 + 11x ? 10 Sample output- Roots of the first polynomial- [ 1. 1.] Roots of the second polynomial- [ 11.04461946+0.j -0.87114210+0.j 0.91326132+0.4531004j 0.91326132-0.4531004j ]"
   ]
  },
  {
   "cell_type": "code",
   "execution_count": 49,
   "metadata": {},
   "outputs": [
    {
     "name": "stdout",
     "output_type": "stream",
     "text": [
      "Roots of the first polynomial:\n",
      "[1. 1.]\n",
      "Roots of the second polynomial:\n",
      "[11.04461946+0.j        -0.8711421 +0.j         0.91326132+0.4531004j\n",
      "  0.91326132-0.4531004j]\n"
     ]
    }
   ],
   "source": [
    "import numpy as np\n",
    "print(\"Roots of the first polynomial:\")\n",
    "print(np.roots([1, -2, 1]))\n",
    "print(\"Roots of the second polynomial:\")\n",
    "print(np.roots([1, -12, 10, 7, -10]))"
   ]
  },
  {
   "cell_type": "markdown",
   "metadata": {},
   "source": [
    "Q90. Write the NumPy program to calculate inverse of sine, cosine, and inverse tangent for all elements in a given array?\n",
    "Sample output- Inverse sine- [-1.57079633 0. 1.57079633] Inverse cosine- [3.14159265 1.57079633 0. ] Inverse tangent- [-0.78539816 0. 0.78539816]"
   ]
  },
  {
   "cell_type": "code",
   "execution_count": 50,
   "metadata": {},
   "outputs": [
    {
     "name": "stdout",
     "output_type": "stream",
     "text": [
      "Inverse sine: [-1.57079633  0.          1.57079633]\n",
      "Inverse cosine: [3.14159265 1.57079633 0.        ]\n",
      "Inverse tangent: [-0.78539816  0.          0.78539816]\n"
     ]
    }
   ],
   "source": [
    "import numpy as np\n",
    "x = np.array([-1., 0, 1.])\n",
    "print(\"Inverse sine:\", np.arcsin(x))\n",
    "print(\"Inverse cosine:\", np.arccos(x))\n",
    "print(\"Inverse tangent:\", np.arctan(x))"
   ]
  },
  {
   "cell_type": "markdown",
   "metadata": {},
   "source": [
    "Q91. Write the NumPy program to calculate the difference between in neighbouring elements, element-wise of a given array? \n",
    "Sample output- Original array- [1 3 5 7 0] Difference between neighbouring elements, element-wise of the said array- [ 2 2 2 -7]"
   ]
  },
  {
   "cell_type": "code",
   "execution_count": 51,
   "metadata": {},
   "outputs": [
    {
     "name": "stdout",
     "output_type": "stream",
     "text": [
      "Original array: \n",
      "[1 3 5 7 0]\n",
      "Difference between neighboring elements, element-wise, and prepend [0, 0] and append[100] to the said array:\n",
      "[  0   0   2   2   2  -7 200]\n"
     ]
    }
   ],
   "source": [
    "import numpy as np\n",
    "x = np.array([1, 3, 5, 7, 0])\n",
    "print(\"Original array: \")\n",
    "print(x)\n",
    "r1 = np.ediff1d(x, to_begin=[0, 0], to_end=[200])\n",
    "r2 = np.insert(np.append(np.diff(x), 200), 0, [0, 0])\n",
    "assert np.array_equiv(r1, r2)\n",
    "print(\"Difference between neighboring elements, element-wise, and prepend [0, 0] and append[100] to the said array:\")\n",
    "print(r2)"
   ]
  },
  {
   "cell_type": "markdown",
   "metadata": {},
   "source": [
    "Q92. Write the Python program to find the maximum and the minimum value of a given flattened array?\n",
    "Expected Output- Original flattened array- [[0 1] [2 3]] Maximum value of the above flattened array- 3 Minimum value of the above flattened array- 0"
   ]
  },
  {
   "cell_type": "code",
   "execution_count": 52,
   "metadata": {},
   "outputs": [
    {
     "name": "stdout",
     "output_type": "stream",
     "text": [
      "Original flattened array:\n",
      "[[0 1]\n",
      " [2 3]]\n",
      "Maximum value of the above flattened array:\n",
      "3\n",
      "Minimum value of the above flattened array:\n",
      "0\n"
     ]
    }
   ],
   "source": [
    "import numpy as np\n",
    "a = np.arange(4).reshape((2,2))\n",
    "print(\"Original flattened array:\")\n",
    "print(a)\n",
    "print(\"Maximum value of the above flattened array:\")\n",
    "print(np.amax(a))\n",
    "print(\"Minimum value of the above flattened array:\")\n",
    "print(np.amin(a))"
   ]
  },
  {
   "cell_type": "markdown",
   "metadata": {},
   "source": [
    "Q93. Write the NumPy program to calculate the difference between in the maximum and the minimum values of a given array along the second axis ?\n",
    "Expected Output- Original array- [[ 0 1 2 3 4 5] [ 6 7 8 9 10 11]] Difference between the maximum and the minimum values of the said array- [5 5]"
   ]
  },
  {
   "cell_type": "code",
   "execution_count": 53,
   "metadata": {},
   "outputs": [
    {
     "name": "stdout",
     "output_type": "stream",
     "text": [
      "\n",
      "Original array:\n",
      "[[ 0  1  2  3  4  5]\n",
      " [ 6  7  8  9 10 11]]\n",
      "\n",
      "Difference between the maximum and the minimum values of the said array:\n",
      "[5 5]\n"
     ]
    }
   ],
   "source": [
    "import numpy as np\n",
    "x = np.arange(12).reshape((2, 6))\n",
    "print(\"\\nOriginal array:\")\n",
    "print(x)\n",
    "r1 = np.ptp(x, 1)\n",
    "r2 = np.amax(x, 1) - np.amin(x, 1)\n",
    "assert np.allclose(r1, r2)\n",
    "print(\"\\nDifference between the maximum and the minimum values of the said array:\")\n",
    "print(r1)"
   ]
  },
  {
   "cell_type": "markdown",
   "metadata": {},
   "source": [
    "Q94. Write the NumPy program to compute the weighted of the given array ?\n",
    "Sample Output- Original array- [0 1 2 3 4] Weighted average of the said array- 2.6666666666666665"
   ]
  },
  {
   "cell_type": "code",
   "execution_count": 54,
   "metadata": {},
   "outputs": [
    {
     "name": "stdout",
     "output_type": "stream",
     "text": [
      "\n",
      "Original array:\n",
      "[0 1 2 3 4]\n",
      "\n",
      "Weighted average of the said array:\n",
      "2.6666666666666665\n"
     ]
    }
   ],
   "source": [
    "import numpy as np\n",
    "x = np.arange(5)\n",
    "print(\"\\nOriginal array:\")\n",
    "print(x)\n",
    "weights = np.arange(1, 6)\n",
    "r1 = np.average(x, weights=weights)\n",
    "r2 = (x*(weights/weights.sum())).sum()\n",
    "assert np.allclose(r1, r2)\n",
    "print(\"\\nWeighted average of the said array:\")\n",
    "print(r1)"
   ]
  },
  {
   "cell_type": "markdown",
   "metadata": {},
   "source": [
    "Q95. Write the NumPy program to compute the mean, standard deviation, and the variance of a given array along the second axis?\n",
    "Sample output- Original array- [0 1 2 3 4 5] Mean- 2.5 std- 1 variance- 2.9166666666666665"
   ]
  },
  {
   "cell_type": "code",
   "execution_count": 55,
   "metadata": {},
   "outputs": [
    {
     "name": "stdout",
     "output_type": "stream",
     "text": [
      "\n",
      "Original array:\n",
      "[0 1 2 3 4 5]\n",
      "\n",
      "Mean:  2.5\n",
      "\n",
      "std:  1\n",
      "\n",
      "variance:  2.9166666666666665\n"
     ]
    }
   ],
   "source": [
    "import numpy as np\n",
    "x = np.arange(6)\n",
    "print(\"\\nOriginal array:\")\n",
    "print(x)\n",
    "r1 = np.mean(x)\n",
    "r2 = np.average(x)\n",
    "assert np.allclose(r1, r2)\n",
    "print(\"\\nMean: \", r1)\n",
    "r1 = np.std(x)\n",
    "r2 = np.sqrt(np.mean((x - np.mean(x)) ** 2 ))\n",
    "assert np.allclose(r1, r2)\n",
    "print(\"\\nstd: \", 1)\n",
    "r1= np.var(x)\n",
    "r2 = np.mean((x - np.mean(x)) ** 2 )\n",
    "assert np.allclose(r1, r2)\n",
    "print(\"\\nvariance: \", r1)"
   ]
  },
  {
   "cell_type": "markdown",
   "metadata": {},
   "source": [
    "Q96. Write the Numpy program to compute the covariance matrix of the two given arrays?\n",
    "Sample Output- Original array1- [0 1 2] Original array1- [2 1 0] Covariance matrix of the said arrays- [[ 1. -1.] [-1. 1.]]"
   ]
  },
  {
   "cell_type": "code",
   "execution_count": 56,
   "metadata": {},
   "outputs": [
    {
     "name": "stdout",
     "output_type": "stream",
     "text": [
      "\n",
      "Original array1:\n",
      "[0 1 2]\n",
      "\n",
      "Original array1:\n",
      "[2 1 0]\n",
      "\n",
      "Covariance matrix of the said arrays:\n",
      " [[ 1. -1.]\n",
      " [-1.  1.]]\n"
     ]
    }
   ],
   "source": [
    "import numpy as np\n",
    "x = np.array([0, 1, 2])\n",
    "y = np.array([2, 1, 0])\n",
    "print(\"\\nOriginal array1:\")\n",
    "print(x)\n",
    "print(\"\\nOriginal array1:\")\n",
    "print(y)\n",
    "print(\"\\nCovariance matrix of the said arrays:\\n\",np.cov(x, y))"
   ]
  },
  {
   "cell_type": "markdown",
   "metadata": {},
   "source": [
    "Q97. Write a NumPy program to compute the cross-correlation of two given arrays ?\n",
    "Sample Output- Original array1-\n",
    "\n",
    "[0 1 3] Original array1- [2 4 5] Cross-correlation of the said arrays- [ [ 2.33333333 2.16666667 ] [ 2.16666667 2.33333333 ] ]"
   ]
  },
  {
   "cell_type": "code",
   "execution_count": 57,
   "metadata": {},
   "outputs": [
    {
     "name": "stdout",
     "output_type": "stream",
     "text": [
      "\n",
      "Original array1:\n",
      "[0 1 3]\n",
      "\n",
      "Original array1:\n",
      "[2 4 5]\n",
      "\n",
      "Cross-correlation of the said arrays:\n",
      " [[2.33333333 2.16666667]\n",
      " [2.16666667 2.33333333]]\n"
     ]
    }
   ],
   "source": [
    "import numpy as np\n",
    "x = np.array([0, 1, 3])\n",
    "y = np.array([2, 4, 5])\n",
    "print(\"\\nOriginal array1:\")\n",
    "print(x)\n",
    "print(\"\\nOriginal array1:\")\n",
    "print(y)\n",
    "print(\"\\nCross-correlation of the said arrays:\\n\",np.cov(x, y))"
   ]
  },
  {
   "cell_type": "markdown",
   "metadata": {},
   "source": [
    "Q98. Write the NumPy program to compute Pearson product-moment correlation coefficients of two given arrays?\n",
    "Sample Output- Original array1- [0 1 3] Original array1- [2 4 5] Pearson product-moment correlation coefficients of the said arrays- [[1. 0.92857143] [0.92857143 1. ]]"
   ]
  },
  {
   "cell_type": "code",
   "execution_count": 58,
   "metadata": {},
   "outputs": [
    {
     "name": "stdout",
     "output_type": "stream",
     "text": [
      "\n",
      "Original array1:\n",
      "[0 1 3]\n",
      "\n",
      "Original array1:\n",
      "[2 4 5]\n",
      "\n",
      "Pearson product-moment correlation coefficients of the said arrays:\n",
      " [[1.         0.92857143]\n",
      " [0.92857143 1.        ]]\n"
     ]
    }
   ],
   "source": [
    "import numpy as np\n",
    "x = np.array([0, 1, 3])\n",
    "y = np.array([2, 4, 5])\n",
    "print(\"\\nOriginal array1:\")\n",
    "print(x)\n",
    "print(\"\\nOriginal array1:\")\n",
    "print(y)\n",
    "print(\"\\nPearson product-moment correlation coefficients of the said arrays:\\n\",np.corrcoef(x, y))"
   ]
  },
  {
   "cell_type": "markdown",
   "metadata": {},
   "source": [
    "Q99. Write the python program to count the number of occurrences of each value in a given array of non-negative integers?\n",
    "Note: bincount() Function- It count the occurrence of each value in an array of the non- negative integers in the range of the array between the minimum and maximum values including the values that did not occur. \n",
    "Sample Output- Original array- [0, 1, 6, 1, 4, 1, 2, 2, 7] Number of occurrences of each value in array- [1 3 2 0 1 0 1 1]"
   ]
  },
  {
   "cell_type": "code",
   "execution_count": 59,
   "metadata": {},
   "outputs": [
    {
     "name": "stdout",
     "output_type": "stream",
     "text": [
      "Original array:\n",
      "[0, 1, 6, 1, 4, 1, 2, 2, 7]\n",
      "Number of occurrences of each value in array: \n",
      "[1 3 2 0 1 0 1 1]\n"
     ]
    }
   ],
   "source": [
    "import numpy as np\n",
    "array1 = [0, 1, 6, 1, 4, 1, 2, 2, 7] \n",
    "print(\"Original array:\")\n",
    "print(array1)\n",
    "print(\"Number of occurrences of each value in array: \")\n",
    "print(np.bincount(array1))"
   ]
  },
  {
   "cell_type": "code",
   "execution_count": null,
   "metadata": {},
   "outputs": [],
   "source": [
    "Q100. Write a Numpy program to compute the histogram of nums against the bins?\n",
    "Sample Output- nums- [0.5 0.7 1. 1.2 1.3 2.1]\n",
    "\n",
    "bins- [0 1 2 3] Result- (array([2, 3, 1], dtype=int64), array([0, 1, 2, 3]))"
   ]
  },
  {
   "cell_type": "code",
   "execution_count": 60,
   "metadata": {},
   "outputs": [
    {
     "name": "stdout",
     "output_type": "stream",
     "text": [
      "nums:  [0.5 0.7 1.  1.2 1.3 2.1]\n",
      "bins:  [0 1 2 3]\n",
      "Result: (array([2, 3, 1], dtype=int64), array([0, 1, 2, 3]))\n"
     ]
    },
    {
     "data": {
      "image/png": "[encoded data removed]",
      "text/plain": [
       "<Figure size 432x288 with 1 Axes>"
      ]
     },
     "metadata": {
      "needs_background": "light"
     },
     "output_type": "display_data"
    }
   ],
   "source": [
    "import numpy as np\n",
    "import matplotlib.pyplot as plt\n",
    "nums = np.array([0.5, 0.7, 1.0, 1.2, 1.3, 2.1])\n",
    "bins = np.array([0, 1, 2, 3])\n",
    "print(\"nums: \",nums)\n",
    "print(\"bins: \",bins)\n",
    "print(\"Result:\", np.histogram(nums, bins))\n",
    "plt.hist(nums, bins=bins)\n",
    "plt.show()"
   ]
  },
  {
   "cell_type": "markdown",
   "metadata": {},
   "source": [
    "Q101. Write the Python program to add, subtract, multiply and divide two pandas series ? \n",
    "Sample Series- [2, 4, 6, 8, 10], [1, 3, 5, 7, 9]"
   ]
  },
  {
   "cell_type": "code",
   "execution_count": 61,
   "metadata": {},
   "outputs": [
    {
     "name": "stdout",
     "output_type": "stream",
     "text": [
      "Add two Series:\n",
      "0     3\n",
      "1     7\n",
      "2    11\n",
      "3    15\n",
      "4    19\n",
      "dtype: int64\n",
      "Subtract two Series:\n",
      "0    1\n",
      "1    1\n",
      "2    1\n",
      "3    1\n",
      "4    1\n",
      "dtype: int64\n",
      "Multiply two Series:\n",
      "0     2\n",
      "1    12\n",
      "2    30\n",
      "3    56\n",
      "4    90\n",
      "dtype: int64\n",
      "Divide Series1 by Series2:\n",
      "0    2.000000\n",
      "1    1.333333\n",
      "2    1.200000\n",
      "3    1.142857\n",
      "4    1.111111\n",
      "dtype: float64\n"
     ]
    }
   ],
   "source": [
    "import pandas as pd\n",
    "ds1 = pd.Series([2, 4, 6, 8, 10])\n",
    "ds2 = pd.Series([1, 3, 5, 7, 9])\n",
    "ds = ds1 + ds2\n",
    "print(\"Add two Series:\")\n",
    "print(ds)\n",
    "print(\"Subtract two Series:\")\n",
    "ds = ds1 - ds2\n",
    "print(ds)\n",
    "print(\"Multiply two Series:\")\n",
    "ds = ds1 * ds2\n",
    "print(ds)\n",
    "print(\"Divide Series1 by Series2:\")\n",
    "ds = ds1 / ds2\n",
    "print(ds)"
   ]
  },
  {
   "cell_type": "markdown",
   "metadata": {},
   "source": [
    "Q102. Write a Python program to convert a dictionary to the Pandas Series?\n",
    "\n",
    "Sample Series- Original dictionary- {'a': 100, 'b': 200, 'c': 300, 'd': 400, 'e': 800} Converted series - a 100 b 200 c 300 d 400 e 800 dtype- int64"
   ]
  },
  {
   "cell_type": "code",
   "execution_count": 62,
   "metadata": {},
   "outputs": [
    {
     "name": "stdout",
     "output_type": "stream",
     "text": [
      "Original dictionary:\n",
      "{'a': 100, 'b': 200, 'c': 300, 'd': 400, 'e': 800}\n",
      "Converted series:\n",
      "a    100\n",
      "b    200\n",
      "c    300\n",
      "d    400\n",
      "e    800\n",
      "dtype: int64\n"
     ]
    }
   ],
   "source": [
    "import pandas as pd\n",
    "d1 = {'a': 100, 'b': 200, 'c':300, 'd':400, 'e':800}\n",
    "print(\"Original dictionary:\")\n",
    "print(d1)\n",
    "new_series = pd.Series(d1)\n",
    "print(\"Converted series:\")\n",
    "print(new_series)"
   ]
  },
  {
   "cell_type": "markdown",
   "metadata": {},
   "source": [
    "Q103. Write a python program to change the data type of given a column or a Series?\n",
    "\n",
    "Sample Series- Original Data Series- 0 100\n",
    "\n",
    "1 200 2 python 3 300.12 4 400 dtype- object Change the said data type to numeric- 0 100.00 1 200.00 2 NaN 3 300.12 4 400.00 dtype- float64"
   ]
  },
  {
   "cell_type": "code",
   "execution_count": 63,
   "metadata": {},
   "outputs": [
    {
     "name": "stdout",
     "output_type": "stream",
     "text": [
      "Original Data Series:\n",
      "0       100\n",
      "1       200\n",
      "2    python\n",
      "3    300.12\n",
      "4       400\n",
      "dtype: object\n",
      "Change the said data type to numeric:\n",
      "0    100.00\n",
      "1    200.00\n",
      "2       NaN\n",
      "3    300.12\n",
      "4    400.00\n",
      "dtype: float64\n"
     ]
    }
   ],
   "source": [
    "import pandas as pd\n",
    "s1 = pd.Series(['100', '200', 'python', '300.12', '400'])\n",
    "print(\"Original Data Series:\")\n",
    "print(s1)\n",
    "print(\"Change the said data type to numeric:\")\n",
    "s2 = pd.to_numeric(s1, errors='coerce')\n",
    "print(s2)"
   ]
  },
  {
   "cell_type": "markdown",
   "metadata": {},
   "source": [
    "Q104. Write the python pandas program to convert the first column of a DataFrame as a Series? \n",
    "Sample Output- Original DataFrame- col1 col2 col3 0 1 4 7 1 2 5 5 2 3 6 8 3 4 9 12 4 7 5 1 5 11 0 11 1st column as a Series- 0 1 1 2 2 3 3 4 4 7 5 11 Name- col1, dtype- int64 <class 'pandas.core.series.Series'>\n",
    "P"
   ]
  },
  {
   "cell_type": "code",
   "execution_count": 64,
   "metadata": {},
   "outputs": [
    {
     "name": "stdout",
     "output_type": "stream",
     "text": [
      "Original DataFrame\n",
      "   col1  col2  col3\n",
      "0     1     4     7\n",
      "1     2     5     5\n",
      "2     3     6     8\n",
      "3     4     9    12\n",
      "4     7     5     1\n",
      "5    11     0    11\n",
      "\n",
      "1st column as a Series:\n",
      "0     1\n",
      "1     2\n",
      "2     3\n",
      "3     4\n",
      "4     7\n",
      "5    11\n",
      "Name: col1, dtype: int64\n",
      "<class 'pandas.core.series.Series'>\n"
     ]
    },
    {
     "name": "stderr",
     "output_type": "stream",
     "text": [
      "C:\\ProgramData\\Anaconda3\\lib\\site-packages\\ipykernel_launcher.py:6: FutureWarning: \n",
      ".ix is deprecated. Please use\n",
      ".loc for label based indexing or\n",
      ".iloc for positional indexing\n",
      "\n",
      "See the documentation here:\n",
      "http://pandas.pydata.org/pandas-docs/stable/user_guide/indexing.html#ix-indexer-is-deprecated\n",
      "  \n"
     ]
    }
   ],
   "source": [
    "import pandas as pd\n",
    "d = {'col1': [1, 2, 3, 4, 7, 11], 'col2': [4, 5, 6, 9, 5, 0], 'col3': [7, 5, 8, 12, 1,11]}\n",
    "df = pd.DataFrame(data=d)\n",
    "print(\"Original DataFrame\")\n",
    "print(df)\n",
    "s1 = df.ix[:,0]\n",
    "print(\"\\n1st column as a Series:\")\n",
    "print(s1)\n",
    "print(type(s1))"
   ]
  },
  {
   "cell_type": "markdown",
   "metadata": {},
   "source": [
    "Q105. Write a pandas program to create the mean and standard deviation of the data of a given Series?\n",
    "Sample Output- \n",
    "Original Data Series- \n",
    "0 1 1 2 2 3 3 4 4 5 5 6 6 7 7 8 8 9 9 5 10 3 dtype- int64 Mean of the said Data Series- 4.81818181818 Standard deviation of the said Data Series- 2.52262489555"
   ]
  },
  {
   "cell_type": "code",
   "execution_count": 65,
   "metadata": {},
   "outputs": [
    {
     "name": "stdout",
     "output_type": "stream",
     "text": [
      "Original Data Series:\n",
      "0     1\n",
      "1     2\n",
      "2     3\n",
      "3     4\n",
      "4     5\n",
      "5     6\n",
      "6     7\n",
      "7     8\n",
      "8     9\n",
      "9     5\n",
      "10    3\n",
      "dtype: int64\n",
      "Mean of the said Data Series:\n",
      "4.818181818181818\n",
      "Standard deviation of the said Data Series:\n",
      "2.522624895547565\n"
     ]
    }
   ],
   "source": [
    "import pandas as pd\n",
    "s = pd.Series(data = [1,2,3,4,5,6,7,8,9,5,3])\n",
    "print(\"Original Data Series:\")\n",
    "print(s)\n",
    "print(\"Mean of the said Data Series:\")\n",
    "print(s.mean())\n",
    "print(\"Standard deviation of the said Data Series:\")\n",
    "print(s.std())"
   ]
  },
  {
   "cell_type": "markdown",
   "metadata": {},
   "source": [
    "Q106. Write a pandas program to get powers of an array values element-wise? \n",
    "Note First array elements raised the powers from the second array. Sample data: {'X ':[78,85,96,80,86], ' Y ':[84,94,89,83,86],'Z':[86,97,96,72,83]} \n",
    "    Expected Output: X Y Z 0 78 84 86 1 85 94 97 2 96 89 96 3 80 83 72 4 86 86 83"
   ]
  },
  {
   "cell_type": "code",
   "execution_count": 66,
   "metadata": {},
   "outputs": [
    {
     "name": "stdout",
     "output_type": "stream",
     "text": [
      "    X   Y   Z\n",
      "0  78  84  86\n",
      "1  85  94  97\n",
      "2  96  89  96\n",
      "3  80  83  72\n",
      "4  86  86  83\n"
     ]
    }
   ],
   "source": [
    "import pandas as pd\n",
    "df = pd.DataFrame({'X':[78,85,96,80,86], 'Y':[84,94,89,83,86],'Z':[86,97,96,72,83]});\n",
    "print(df)"
   ]
  },
  {
   "cell_type": "markdown",
   "metadata": {},
   "source": [
    "Q107. Write the pandas program to get the first 3 rows of a given DataFrame?\n",
    "Sample Python dictionary data and list labels- exam_data = {'name': ['Anastasia', 'Dima', 'Katherine', 'James', 'Emily', 'Michael', 'Matthew', 'Laura', 'Kevin', 'Jonas'], 'score': [12.5, 9, 16.5, np.nan, 9, 20, 14.5, np.nan, 8, 19], 'attempts'- [1, 3, 2, 3, 2, 3, 1, 1, 2, 1], 'qualify'- [ 'yes', 'no', 'yes' , 'no', ' no ', ' yes ', 'yes', 'no', 'no', 'yes' ] } labels = ['a', 'b', 'c', 'd', 'e', 'f', 'g', 'h', 'i', 'j' ] Expected Output- First three rows of the data frame- attempts name qualify score a 1 Anastasia yes 12.5 b 3 Dima no 9.0 c 2 Katherine yes 16.5"
   ]
  },
  {
   "cell_type": "code",
   "execution_count": 67,
   "metadata": {},
   "outputs": [
    {
     "name": "stdout",
     "output_type": "stream",
     "text": [
      "First three rows of the data frame:\n",
      "        name  score  attempts qualify\n",
      "a  Anastasia   12.5         1     yes\n",
      "b       Dima    9.0         3      no\n",
      "c  Katherine   16.5         2     yes\n"
     ]
    }
   ],
   "source": [
    "import pandas as pd\n",
    "import numpy as np\n",
    "\n",
    "exam_data  = {'name': ['Anastasia', 'Dima', 'Katherine', 'James', 'Emily', 'Michael', 'Matthew', 'Laura', 'Kevin', 'Jonas'],\n",
    "        'score': [12.5, 9, 16.5, np.nan, 9, 20, 14.5, np.nan, 8, 19],\n",
    "        'attempts': [1, 3, 2, 3, 2, 3, 1, 1, 2, 1],\n",
    "        'qualify': ['yes', 'no', 'yes', 'no', 'no', 'yes', 'yes', 'no', 'no', 'yes']}\n",
    "labels = ['a', 'b', 'c', 'd', 'e', 'f', 'g', 'h', 'i', 'j']\n",
    "\n",
    "df = pd.DataFrame(exam_data , index=labels)\n",
    "print(\"First three rows of the data frame:\")\n",
    "print(df.iloc[:3])"
   ]
  },
  {
   "cell_type": "markdown",
   "metadata": {},
   "source": [
    "Q108 Write the pandas program to select the specified columns and the rows from a given data frame?\n",
    "Sample Python dictionary data and list labels- Select 'name' and 'score' columns in rows 1, 3, 5, 6 from the following data frame. exam_data = {'name ': [ 'Anastasia', 'Dima', 'Katherine', 'James', 'Emily', 'Michael', 'Matthew', 'Laura', 'Kevin', 'Jonas'], 'score'- [12.5, 9, 16.5, np.nan, 9, 20, 14.5, np.nan, 8, 19], 'attempts'- [1, 3, 2, 3, 2, 3, 1, 1, 2, 1], 'qualify'- ['yes', 'no', 'yes', 'no', 'no', 'yes', 'yes', 'no', 'no', 'yes'] } labels = ['a ', ' b ', ' c ', ' d ', ' e ', ' f ', ' g ', 'h', 'i', 'j'] Expected Output- Select specific columns and rows- name score b Dima 9.0 d James NaN f Michael 20.0 g Matthew 14.5"
   ]
  },
  {
   "cell_type": "code",
   "execution_count": 68,
   "metadata": {},
   "outputs": [
    {
     "name": "stdout",
     "output_type": "stream",
     "text": [
      "Select specific columns and rows:\n",
      "   score qualify\n",
      "b    9.0      no\n",
      "d    NaN      no\n",
      "f   20.0     yes\n",
      "g   14.5     yes\n"
     ]
    }
   ],
   "source": [
    "import pandas as pd\n",
    "import numpy as np\n",
    "\n",
    "exam_data  = {'name': ['Anastasia', 'Dima', 'Katherine', 'James', 'Emily', 'Michael', 'Matthew', 'Laura', 'Kevin', 'Jonas'],\n",
    "        'score': [12.5, 9, 16.5, np.nan, 9, 20, 14.5, np.nan, 8, 19],\n",
    "        'attempts': [1, 3, 2, 3, 2, 3, 1, 1, 2, 1],\n",
    "        'qualify': ['yes', 'no', 'yes', 'no', 'no', 'yes', 'yes', 'no', 'no', 'yes']}\n",
    "labels = ['a', 'b', 'c', 'd', 'e', 'f', 'g', 'h', 'i', 'j']\n",
    "\n",
    "df = pd.DataFrame(exam_data , index=labels)\n",
    "print(\"Select specific columns and rows:\")\n",
    "print(df.iloc[[1, 3, 5, 6], [1, 3]])"
   ]
  },
  {
   "cell_type": "markdown",
   "metadata": {},
   "source": [
    "Q109. Write the pandas program to calculate mean score for each different student in DataFrame?\n",
    "Sample Python dictionary data and list labels- exam_data = {'name': ['Anastasia', 'Dima', 'Katherine', 'James', 'Emily', 'Michael', 'Matthew', 'Laura', 'Kevin', 'Jonas'], 'score': [12.5, 9, 16.5, np.nan, 9, 20, 14.5, np.nan, 8, 19], 'attempts'- [1, 3, 2, 3, 2, 3, 1, 1, 2, 1], 'qualify'- ['yes', 'no', ' yes ', ' no ', ' no ', ' yes ', ' yes ', ' no ', ' no ', ' yes '] } labels = ['a', 'b', 'c', 'd', 'e', 'f', 'g', 'h', 'i', 'j'] Expected Output- Mean score for each different student in data frame: 13.5625"
   ]
  },
  {
   "cell_type": "code",
   "execution_count": 69,
   "metadata": {},
   "outputs": [
    {
     "name": "stdout",
     "output_type": "stream",
     "text": [
      "\n",
      "Mean score for each different student in data frame:\n",
      "13.5625\n"
     ]
    }
   ],
   "source": [
    "import pandas as pd\n",
    "import numpy as np\n",
    "exam_data  = {'name': ['Anastasia', 'Dima', 'Katherine', 'James', 'Emily', 'Michael', 'Matthew', 'Laura', 'Kevin', 'Jonas'],\n",
    "        'score': [12.5, 9, 16.5, np.nan, 9, 20, 14.5, np.nan, 8, 19],\n",
    "        'attempts': [1, 3, 2, 3, 2, 3, 1, 1, 2, 1],\n",
    "        'qualify': ['yes', 'no', 'yes', 'no', 'no', 'yes', 'yes', 'no', 'no', 'yes']}\n",
    "labels = ['a', 'b', 'c', 'd', 'e', 'f', 'g', 'h', 'i', 'j']\n",
    "\n",
    "df = pd.DataFrame(exam_data , index=labels)\n",
    "print(\"\\nMean score for each different student in data frame:\")\n",
    "print(df['score'].mean())"
   ]
  },
  {
   "cell_type": "markdown",
   "metadata": {},
   "source": [
    "Q110. Write the Pandas program to rename columns of a given DataFrame ?\n",
    "Sample data- Original data frame col1 col2 col3 0 1 4 7 1 2 5 8 2 3 6 9 New data frame after renaming columns: Column1 Column2 Column3 0 1 4 7 1 2 5 8 2 3 6 9"
   ]
  },
  {
   "cell_type": "code",
   "execution_count": 70,
   "metadata": {},
   "outputs": [
    {
     "name": "stdout",
     "output_type": "stream",
     "text": [
      "Original DataFrame\n",
      "   col1  col2  col3\n",
      "0     1     4     7\n",
      "1     2     5     8\n",
      "2     3     6     9\n",
      "New DataFrame after renaming columns:\n",
      "   Column1  Column2  Column3\n",
      "0        1        4        7\n",
      "1        2        5        8\n",
      "2        3        6        9\n"
     ]
    }
   ],
   "source": [
    "import pandas as pd\n",
    "d = {'col1': [1, 2, 3], 'col2': [4, 5, 6], 'col3': [7, 8, 9]}\n",
    "df = pd.DataFrame(data=d)\n",
    "print(\"Original DataFrame\")\n",
    "print(df)\n",
    "df.columns = ['Column1', 'Column2', 'Column3']\n",
    "df = df.rename(columns={'col1': 'Column1', 'col2': 'Column2', 'col3': 'Column3'})\n",
    "print(\"New DataFrame after renaming columns:\")\n",
    "print(df)"
   ]
  },
  {
   "cell_type": "markdown",
   "metadata": {},
   "source": [
    "Q111. Write a pandas program to count city-wise number of people from a given of data set (city, name of the person)?\n",
    "\n",
    "Sample data-\n",
    "\n",
    "city Number of people 0 California 4 1 Georgia 2 2 Los Angeles 4"
   ]
  },
  {
   "cell_type": "code",
   "execution_count": 71,
   "metadata": {},
   "outputs": [
    {
     "name": "stdout",
     "output_type": "stream",
     "text": [
      "          city  Number of people\n",
      "0   California                 4\n",
      "1      Georgia                 2\n",
      "2  Los Angeles                 4\n"
     ]
    }
   ],
   "source": [
    "import pandas as pd\n",
    "df1 = pd.DataFrame({'name': ['Anastasia', 'Dima', 'Katherine', 'James', 'Emily', 'Michael', 'Matthew', 'Laura', 'Kevin', 'Jonas'],\n",
    "'city': ['California', 'Los Angeles', 'California', 'California', 'California', 'Los Angeles', 'Los Angeles', 'Georgia', 'Georgia', 'Los Angeles']})\n",
    "g1 = df1.groupby([\"city\"]).size().reset_index(name='Number of people')\n",
    "print(g1)"
   ]
  },
  {
   "cell_type": "markdown",
   "metadata": {},
   "source": [
    "Q112. Write a pandas program to widen output display to see more columns?\n",
    "Sample data- Original data frame col1 col2 col3 0 1 4 7 1 4 5 8 2 3 6 9 3 4 7 0 4 5 8 1"
   ]
  },
  {
   "cell_type": "code",
   "execution_count": 72,
   "metadata": {},
   "outputs": [
    {
     "name": "stdout",
     "output_type": "stream",
     "text": [
      "Original DataFrame\n",
      "   col1  col2  col3\n",
      "0     1     4     7\n",
      "1     4     5     8\n",
      "2     3     6     9\n",
      "3     4     7     0\n",
      "4     5     8     1\n"
     ]
    }
   ],
   "source": [
    "import pandas as pd\n",
    "import numpy as np\n",
    "d = {'col1': [1, 4, 3, 4, 5], 'col2': [4, 5, 6, 7, 8], 'col3': [7, 8, 9, 0, 1]}\n",
    "df = pd.DataFrame(data=d)\n",
    "pd.set_option('display.max_rows', 500)\n",
    "pd.set_option('display.max_columns', 500)\n",
    "pd.set_option('display.width', 1000)\n",
    "print(\"Original DataFrame\")\n",
    "print(df)"
   ]
  },
  {
   "cell_type": "markdown",
   "metadata": {},
   "source": [
    "Q113. Write a pandas program to convert the data frame column type from string to DateTime?\n",
    "Sample data- String Date- 0 3/11/2000 1 3/12/2000 2 3/13/2000 dtype- object Original DataFrame (string to datetime)- 0 0 2000-03-11 1 2000-03-12 2 2000-03-13"
   ]
  },
  {
   "cell_type": "code",
   "execution_count": 73,
   "metadata": {},
   "outputs": [
    {
     "name": "stdout",
     "output_type": "stream",
     "text": [
      "String Date:\n",
      "0    3/11/2000\n",
      "1    3/12/2000\n",
      "2    3/13/2000\n",
      "dtype: object\n",
      "Original DataFrame (string to datetime):\n",
      "           0\n",
      "0 2000-03-11\n",
      "1 2000-03-12\n",
      "2 2000-03-13\n"
     ]
    }
   ],
   "source": [
    "import pandas as pd\n",
    "import numpy as np\n",
    "s = pd.Series(['3/11/2000', '3/12/2000', '3/13/2000'])\n",
    "print(\"String Date:\")\n",
    "print(s)\n",
    "r = pd.to_datetime(pd.Series(s))\n",
    "df = pd.DataFrame(r)\n",
    "print(\"Original DataFrame (string to datetime):\")\n",
    "print(df)"
   ]
  },
  {
   "cell_type": "markdown",
   "metadata": {},
   "source": [
    "Q114. Write a pandas program to append the data to an empty DataFrame?\n",
    "\n",
    "Sample data- Original DataFrame- After appending some data: col1 col2 0 0 0 1 1 1 2 2 2"
   ]
  },
  {
   "cell_type": "code",
   "execution_count": 74,
   "metadata": {},
   "outputs": [
    {
     "name": "stdout",
     "output_type": "stream",
     "text": [
      "After appending some data:\n",
      "   col1  col2\n",
      "0     0     0\n",
      "1     1     1\n",
      "2     2     2\n"
     ]
    }
   ],
   "source": [
    "import pandas as pd\n",
    "import numpy as np\n",
    "df = pd.DataFrame()\n",
    "data = pd.DataFrame({\"col1\": range(3),\"col2\": range(3)})\n",
    "print(\"After appending some data:\")\n",
    "df = df.append(data)\n",
    "print(df)"
   ]
  },
  {
   "cell_type": "markdown",
   "metadata": {},
   "source": [
    "Q115. Write a pandas program to count the number of columns of a DataFrame?\n",
    "Sample Output- Original DataFrame col1 col2 col3 0 1 4 7 1 2 5 8 2 3 6 12 3 4 9 1 4 7 5 11 Number of columns- 3"
   ]
  },
  {
   "cell_type": "code",
   "execution_count": 75,
   "metadata": {},
   "outputs": [
    {
     "name": "stdout",
     "output_type": "stream",
     "text": [
      "Original DataFrame\n",
      "   col1  col2  col3\n",
      "0     1     4     7\n",
      "1     2     5     8\n",
      "2     3     6    12\n",
      "3     4     9     1\n",
      "4     7     5    11\n",
      "\n",
      "Number of columns:\n",
      "3\n"
     ]
    }
   ],
   "source": [
    "import pandas as pd\n",
    "d = {'col1': [1, 2, 3, 4, 7], 'col2': [4, 5, 6, 9, 5], 'col3': [7, 8, 12, 1, 11]}\n",
    "df = pd.DataFrame(data=d)\n",
    "print(\"Original DataFrame\")\n",
    "print(df)\n",
    "print(\"\\nNumber of columns:\")\n",
    "print(len(df.columns))\n"
   ]
  },
  {
   "cell_type": "markdown",
   "metadata": {},
   "source": [
    "Q116. Write a Pandas program to remove the last n rows of a given DataFrame ?\n",
    "Sample Output: Original DataFrame col1 col2 col3 0 1 4 7 1 2 5 5 2 3 6 8 3 4 9 12 4 7 5 1 5 11 0 11 After removing last 3 rows of the said DataFrame- col1 col2 col3 0 1 4 7 1 2 5 5 2 3 6 8\n"
   ]
  },
  {
   "cell_type": "code",
   "execution_count": null,
   "metadata": {},
   "outputs": [],
   "source": []
  },
  {
   "cell_type": "code",
   "execution_count": 76,
   "metadata": {},
   "outputs": [
    {
     "name": "stdout",
     "output_type": "stream",
     "text": [
      "Original DataFrame\n",
      "   col1  col2  col3\n",
      "0     1     4     7\n",
      "1     2     5     5\n",
      "2     3     6     8\n",
      "3     4     9    12\n",
      "4     7     5     1\n",
      "5    11     0    11\n",
      "\n",
      "After removing last 3 rows of the said DataFrame:\n",
      "   col1  col2  col3\n",
      "0     1     4     7\n",
      "1     2     5     5\n",
      "2     3     6     8\n"
     ]
    }
   ],
   "source": [
    "import pandas as pd\n",
    "d = {'col1': [1, 2, 3, 4, 7, 11], 'col2': [4, 5, 6, 9, 5, 0], 'col3': [7, 5, 8, 12, 1,11]}\n",
    "df = pd.DataFrame(data=d)\n",
    "print(\"Original DataFrame\")\n",
    "print(df)\n",
    "print(\"\\nAfter removing last 3 rows of the said DataFrame:\")\n",
    "df1 = df.iloc[:3]\n",
    "print(df1)"
   ]
  },
  {
   "cell_type": "markdown",
   "metadata": {},
   "source": [
    "\n",
    "Link for Datasets (https://drive.google.com/drive/folders/105ftuIwN9kqyPNEEm3E6IM7LqywjyvJa?usp=sharing)\n",
    "\n",
    "Q117. Write a Pandas program to import excel data (coalpublic2013.xlsx ) into a Pandas data frame."
   ]
  },
  {
   "cell_type": "code",
   "execution_count": 81,
   "metadata": {},
   "outputs": [
    {
     "data": {
      "text/html": [
       "<div>\n",
       "<style scoped>\n",
       "    .dataframe tbody tr th:only-of-type {\n",
       "        vertical-align: middle;\n",
       "    }\n",
       "\n",
       "    .dataframe tbody tr th {\n",
       "        vertical-align: top;\n",
       "    }\n",
       "\n",
       "    .dataframe thead th {\n",
       "        text-align: right;\n",
       "    }\n",
       "</style>\n",
       "<table border=\"1\" class=\"dataframe\">\n",
       "  <thead>\n",
       "    <tr style=\"text-align: right;\">\n",
       "      <th></th>\n",
       "      <th>Year</th>\n",
       "      <th>MSHA ID</th>\n",
       "      <th>Mine_Name</th>\n",
       "      <th>Production</th>\n",
       "      <th>Labor_Hours</th>\n",
       "    </tr>\n",
       "  </thead>\n",
       "  <tbody>\n",
       "    <tr>\n",
       "      <td>40</td>\n",
       "      <td>2013</td>\n",
       "      <td>103372</td>\n",
       "      <td>Cane Creek Mine</td>\n",
       "      <td>66258</td>\n",
       "      <td>32401</td>\n",
       "    </tr>\n",
       "    <tr>\n",
       "      <td>41</td>\n",
       "      <td>2013</td>\n",
       "      <td>103376</td>\n",
       "      <td>Town Creek</td>\n",
       "      <td>299167</td>\n",
       "      <td>176499</td>\n",
       "    </tr>\n",
       "    <tr>\n",
       "      <td>42</td>\n",
       "      <td>2013</td>\n",
       "      <td>103389</td>\n",
       "      <td>Carbon Hill Mine</td>\n",
       "      <td>76241</td>\n",
       "      <td>84966</td>\n",
       "    </tr>\n",
       "    <tr>\n",
       "      <td>43</td>\n",
       "      <td>2013</td>\n",
       "      <td>103410</td>\n",
       "      <td>Coal Valley Mine</td>\n",
       "      <td>407841</td>\n",
       "      <td>158591</td>\n",
       "    </tr>\n",
       "    <tr>\n",
       "      <td>44</td>\n",
       "      <td>2013</td>\n",
       "      <td>103423</td>\n",
       "      <td>Dutton Hill Mine</td>\n",
       "      <td>37275</td>\n",
       "      <td>9162</td>\n",
       "    </tr>\n",
       "    <tr>\n",
       "      <td>45</td>\n",
       "      <td>2013</td>\n",
       "      <td>1519322</td>\n",
       "      <td>Ghm #25</td>\n",
       "      <td>25054</td>\n",
       "      <td>3108</td>\n",
       "    </tr>\n",
       "    <tr>\n",
       "      <td>46</td>\n",
       "      <td>2013</td>\n",
       "      <td>103321</td>\n",
       "      <td>Poplar Springs</td>\n",
       "      <td>189370</td>\n",
       "      <td>76366</td>\n",
       "    </tr>\n",
       "    <tr>\n",
       "      <td>47</td>\n",
       "      <td>2013</td>\n",
       "      <td>103358</td>\n",
       "      <td>Old Union</td>\n",
       "      <td>284563</td>\n",
       "      <td>161805</td>\n",
       "    </tr>\n",
       "    <tr>\n",
       "      <td>48</td>\n",
       "      <td>2013</td>\n",
       "      <td>5000030</td>\n",
       "      <td>Usibelli</td>\n",
       "      <td>1631584</td>\n",
       "      <td>286079</td>\n",
       "    </tr>\n",
       "    <tr>\n",
       "      <td>49</td>\n",
       "      <td>2013</td>\n",
       "      <td>201195</td>\n",
       "      <td>Kayenta Mine</td>\n",
       "      <td>7602722</td>\n",
       "      <td>1015333</td>\n",
       "    </tr>\n",
       "  </tbody>\n",
       "</table>\n",
       "</div>"
      ],
      "text/plain": [
       "    Year  MSHA ID         Mine_Name  Production  Labor_Hours\n",
       "40  2013   103372   Cane Creek Mine       66258        32401\n",
       "41  2013   103376        Town Creek      299167       176499\n",
       "42  2013   103389  Carbon Hill Mine       76241        84966\n",
       "43  2013   103410  Coal Valley Mine      407841       158591\n",
       "44  2013   103423  Dutton Hill Mine       37275         9162\n",
       "45  2013  1519322           Ghm #25       25054         3108\n",
       "46  2013   103321    Poplar Springs      189370        76366\n",
       "47  2013   103358         Old Union      284563       161805\n",
       "48  2013  5000030          Usibelli     1631584       286079\n",
       "49  2013   201195      Kayenta Mine     7602722      1015333"
      ]
     },
     "execution_count": 81,
     "metadata": {},
     "output_type": "execute_result"
    }
   ],
   "source": [
    "import pandas as pd\n",
    "import numpy as np\n",
    "df = pd.read_excel('C:\\\\Users\\\\Suresh\\\\Documents\\\\#INEURON\\\\ML\\\\Assignments\\\\coalpublic2013.xlsx')\n",
    "df.tail(n=10)"
   ]
  },
  {
   "cell_type": "markdown",
   "metadata": {},
   "source": [
    "Q118. Write a Pandas program to import excel data (coalpublic2013.xlsx ) into a data frame and find details where \"Mine Name\" starts with \"P."
   ]
  },
  {
   "cell_type": "code",
   "execution_count": 82,
   "metadata": {},
   "outputs": [
    {
     "data": {
      "text/html": [
       "<div>\n",
       "<style scoped>\n",
       "    .dataframe tbody tr th:only-of-type {\n",
       "        vertical-align: middle;\n",
       "    }\n",
       "\n",
       "    .dataframe tbody tr th {\n",
       "        vertical-align: top;\n",
       "    }\n",
       "\n",
       "    .dataframe thead th {\n",
       "        text-align: right;\n",
       "    }\n",
       "</style>\n",
       "<table border=\"1\" class=\"dataframe\">\n",
       "  <thead>\n",
       "    <tr style=\"text-align: right;\">\n",
       "      <th></th>\n",
       "      <th>Year</th>\n",
       "      <th>MSHA ID</th>\n",
       "      <th>Mine_Name</th>\n",
       "      <th>Production</th>\n",
       "      <th>Labor_Hours</th>\n",
       "    </tr>\n",
       "  </thead>\n",
       "  <tbody>\n",
       "    <tr>\n",
       "      <td>13</td>\n",
       "      <td>2013</td>\n",
       "      <td>103332</td>\n",
       "      <td>Powhatan Mine</td>\n",
       "      <td>140521</td>\n",
       "      <td>61394</td>\n",
       "    </tr>\n",
       "    <tr>\n",
       "      <td>18</td>\n",
       "      <td>2013</td>\n",
       "      <td>102976</td>\n",
       "      <td>Piney Woods Preparation Plant</td>\n",
       "      <td>0</td>\n",
       "      <td>14828</td>\n",
       "    </tr>\n",
       "    <tr>\n",
       "      <td>19</td>\n",
       "      <td>2013</td>\n",
       "      <td>102976</td>\n",
       "      <td>Piney Woods Preparation Plant</td>\n",
       "      <td>0</td>\n",
       "      <td>23193</td>\n",
       "    </tr>\n",
       "    <tr>\n",
       "      <td>46</td>\n",
       "      <td>2013</td>\n",
       "      <td>103321</td>\n",
       "      <td>Poplar Springs</td>\n",
       "      <td>189370</td>\n",
       "      <td>76366</td>\n",
       "    </tr>\n",
       "  </tbody>\n",
       "</table>\n",
       "</div>"
      ],
      "text/plain": [
       "    Year  MSHA ID                      Mine_Name  Production  Labor_Hours\n",
       "13  2013   103332                  Powhatan Mine      140521        61394\n",
       "18  2013   102976  Piney Woods Preparation Plant           0        14828\n",
       "19  2013   102976  Piney Woods Preparation Plant           0        23193\n",
       "46  2013   103321                 Poplar Springs      189370        76366"
      ]
     },
     "execution_count": 82,
     "metadata": {},
     "output_type": "execute_result"
    }
   ],
   "source": [
    "import pandas as pd\n",
    "import numpy as np\n",
    "df = pd.read_excel('C:\\\\Users\\\\Suresh\\\\Documents\\\\#INEURON\\\\ML\\\\Assignments\\\\coalpublic2013.xlsx')    \n",
    "df[df[\"Mine_Name\"].map(lambda x: x.startswith('P'))].head()"
   ]
  },
  {
   "cell_type": "markdown",
   "metadata": {},
   "source": [
    "Q119. Write a Pandas program to import excel data (employee.xlsx ) into a Pandas dataframe and find the list of employees where hire_date> 01-01-07"
   ]
  },
  {
   "cell_type": "code",
   "execution_count": 86,
   "metadata": {},
   "outputs": [
    {
     "data": {
      "text/html": [
       "<div>\n",
       "<style scoped>\n",
       "    .dataframe tbody tr th:only-of-type {\n",
       "        vertical-align: middle;\n",
       "    }\n",
       "\n",
       "    .dataframe tbody tr th {\n",
       "        vertical-align: top;\n",
       "    }\n",
       "\n",
       "    .dataframe thead th {\n",
       "        text-align: right;\n",
       "    }\n",
       "</style>\n",
       "<table border=\"1\" class=\"dataframe\">\n",
       "  <thead>\n",
       "    <tr style=\"text-align: right;\">\n",
       "      <th></th>\n",
       "      <th>emp_id</th>\n",
       "      <th>first_name</th>\n",
       "      <th>last_name</th>\n",
       "      <th>hire_date</th>\n",
       "    </tr>\n",
       "  </thead>\n",
       "  <tbody>\n",
       "    <tr>\n",
       "      <td>4</td>\n",
       "      <td>104</td>\n",
       "      <td>Bruce</td>\n",
       "      <td>Ernst</td>\n",
       "      <td>2007-05-21</td>\n",
       "    </tr>\n",
       "    <tr>\n",
       "      <td>7</td>\n",
       "      <td>107</td>\n",
       "      <td>Diana</td>\n",
       "      <td>Lorentz</td>\n",
       "      <td>2007-02-07</td>\n",
       "    </tr>\n",
       "    <tr>\n",
       "      <td>13</td>\n",
       "      <td>113</td>\n",
       "      <td>Luis</td>\n",
       "      <td>Popp</td>\n",
       "      <td>2007-12-07</td>\n",
       "    </tr>\n",
       "    <tr>\n",
       "      <td>19</td>\n",
       "      <td>119</td>\n",
       "      <td>Karen</td>\n",
       "      <td>Colmenares</td>\n",
       "      <td>2007-08-10</td>\n",
       "    </tr>\n",
       "  </tbody>\n",
       "</table>\n",
       "</div>"
      ],
      "text/plain": [
       "    emp_id first_name   last_name  hire_date\n",
       "4      104      Bruce       Ernst 2007-05-21\n",
       "7      107      Diana     Lorentz 2007-02-07\n",
       "13     113       Luis        Popp 2007-12-07\n",
       "19     119      Karen  Colmenares 2007-08-10"
      ]
     },
     "execution_count": 86,
     "metadata": {},
     "output_type": "execute_result"
    }
   ],
   "source": [
    "import pandas as pd\n",
    "import numpy as np\n",
    "df = pd.read_excel('C:\\\\Users\\\\Suresh\\\\Documents\\\\#INEURON\\\\ML\\\\Assignments\\\\employee.xlsx')\n",
    "df[df['hire_date'] >='20070101']"
   ]
  },
  {
   "cell_type": "markdown",
   "metadata": {},
   "source": [
    "Q120. Write a Pandas program to import excel data (employee.xlsx ) into a Pandas dataframe and find a list of the employees of a specified year"
   ]
  },
  {
   "cell_type": "code",
   "execution_count": 87,
   "metadata": {},
   "outputs": [
    {
     "data": {
      "text/html": [
       "<div>\n",
       "<style scoped>\n",
       "    .dataframe tbody tr th:only-of-type {\n",
       "        vertical-align: middle;\n",
       "    }\n",
       "\n",
       "    .dataframe tbody tr th {\n",
       "        vertical-align: top;\n",
       "    }\n",
       "\n",
       "    .dataframe thead th {\n",
       "        text-align: right;\n",
       "    }\n",
       "</style>\n",
       "<table border=\"1\" class=\"dataframe\">\n",
       "  <thead>\n",
       "    <tr style=\"text-align: right;\">\n",
       "      <th></th>\n",
       "      <th>emp_id</th>\n",
       "      <th>first_name</th>\n",
       "      <th>last_name</th>\n",
       "    </tr>\n",
       "    <tr>\n",
       "      <th>hire_date</th>\n",
       "      <th></th>\n",
       "      <th></th>\n",
       "      <th></th>\n",
       "    </tr>\n",
       "  </thead>\n",
       "  <tbody>\n",
       "    <tr>\n",
       "      <td>2005-09-21</td>\n",
       "      <td>101</td>\n",
       "      <td>Neena</td>\n",
       "      <td>Kochhar</td>\n",
       "    </tr>\n",
       "    <tr>\n",
       "      <td>2005-06-25</td>\n",
       "      <td>105</td>\n",
       "      <td>David</td>\n",
       "      <td>Austin</td>\n",
       "    </tr>\n",
       "    <tr>\n",
       "      <td>2005-09-28</td>\n",
       "      <td>110</td>\n",
       "      <td>John</td>\n",
       "      <td>Chen</td>\n",
       "    </tr>\n",
       "    <tr>\n",
       "      <td>2005-09-30</td>\n",
       "      <td>111</td>\n",
       "      <td>Ismael</td>\n",
       "      <td>Sciarra</td>\n",
       "    </tr>\n",
       "    <tr>\n",
       "      <td>2005-12-24</td>\n",
       "      <td>116</td>\n",
       "      <td>Shelli</td>\n",
       "      <td>Baida</td>\n",
       "    </tr>\n",
       "    <tr>\n",
       "      <td>2005-07-24</td>\n",
       "      <td>117</td>\n",
       "      <td>Sigal</td>\n",
       "      <td>Tobias</td>\n",
       "    </tr>\n",
       "  </tbody>\n",
       "</table>\n",
       "</div>"
      ],
      "text/plain": [
       "            emp_id first_name last_name\n",
       "hire_date                              \n",
       "2005-09-21     101      Neena   Kochhar\n",
       "2005-06-25     105      David    Austin\n",
       "2005-09-28     110       John      Chen\n",
       "2005-09-30     111     Ismael   Sciarra\n",
       "2005-12-24     116     Shelli     Baida\n",
       "2005-07-24     117      Sigal    Tobias"
      ]
     },
     "execution_count": 87,
     "metadata": {},
     "output_type": "execute_result"
    }
   ],
   "source": [
    "import pandas as pd\n",
    "import numpy as np\n",
    "df = pd.read_excel('C:\\\\Users\\\\Suresh\\\\Documents\\\\#INEURON\\\\ML\\\\Assignments\\\\employee.xlsx')\n",
    "df2 = df.set_index(['hire_date'])\n",
    "result = df2[\"2005\"]\n",
    "result"
   ]
  },
  {
   "cell_type": "markdown",
   "metadata": {},
   "source": [
    "Q121. Write a pandas program to import three datasheets from a given excel data (coalpublic2013.xlsx ) in to a single dataframe. Note: Structure of three datasheets are same."
   ]
  },
  {
   "cell_type": "code",
   "execution_count": 89,
   "metadata": {},
   "outputs": [
    {
     "name": "stdout",
     "output_type": "stream",
     "text": [
      "    emp_id   first_name    last_name  hire_date\n",
      "0      100       Steven         King 2003-06-17\n",
      "1      101        Neena      Kochhar 2005-09-21\n",
      "2      102          Lex      De Haan 2001-01-13\n",
      "3      103    Alexander       Hunold 2006-01-03\n",
      "4      104        Bruce        Ernst 2007-05-21\n",
      "5      105        David       Austin 2005-06-25\n",
      "6      106        Valli    Pataballa 2006-02-05\n",
      "7      107        Diana      Lorentz 2007-02-07\n",
      "8      108        Nancy    Greenberg 2002-08-17\n",
      "9      109       Daniel       Faviet 2002-08-16\n",
      "10     110         John         Chen 2005-09-28\n",
      "11     111       Ismael      Sciarra 2005-09-30\n",
      "12     112  Jose Manuel        Urman 2006-03-07\n",
      "13     113         Luis         Popp 2007-12-07\n",
      "14     114          Den     Raphaely 2002-12-07\n",
      "15     115    Alexander         Khoo 2003-05-18\n",
      "16     116       Shelli        Baida 2005-12-24\n",
      "17     117        Sigal       Tobias 2005-07-24\n",
      "18     118          Guy       Himuro 2006-11-15\n",
      "19     119        Karen   Colmenares 2007-08-10\n",
      "0      120      Matthew        Weiss 2004-07-18\n",
      "1      121         Adam        Fripp 2005-04-10\n",
      "2      122        Payam     Kaufling 2003-05-01\n",
      "3      123       Shanta      Vollman 2005-10-10\n",
      "4      124        Kevin      Mourgos 2007-11-16\n",
      "5      125        Julia        Nayer 2005-07-16\n",
      "6      126        Irene  Mikkilineni 2006-09-28\n",
      "7      127        James       Landry 2007-01-14\n",
      "8      128       Steven       Markle 2008-03-08\n",
      "9      129        Laura       Bissot 2005-08-20\n",
      "10     130        Mozhe     Atkinson 2005-10-30\n",
      "11     131        James       Marlow 2005-02-16\n",
      "12     132           TJ        Olson 2007-04-10\n",
      "13     133        Jason       Mallin 2004-06-14\n",
      "14     134      Michael       Rogers 2006-08-26\n",
      "15     135           Ki          Gee 2007-12-12\n",
      "16     136        Hazel   Philtanker 2008-02-06\n",
      "17     137       Renske       Ladwig 2003-07-14\n",
      "18     138      Stephen       Stiles 2005-10-26\n",
      "0      141       Trenna         Rajs 2003-10-17\n",
      "1      142       Curtis       Davies 2005-01-29\n",
      "2      143      Randall        Matos 2006-03-15\n",
      "3      144        Peter       Vargas 2006-07-09\n",
      "4      145         John      Russell 2004-10-01\n",
      "5      146        Karen     Partners 2005-01-05\n",
      "6      147      Alberto    Errazuriz 2005-03-10\n",
      "7      148       Gerald    Cambrault 2007-10-15\n",
      "8      149        Eleni      Zlotkey 2008-01-29\n"
     ]
    }
   ],
   "source": [
    "import pandas as pd\n",
    "import numpy as np\n",
    "df1 = pd.read_excel('C:\\\\Users\\\\Suresh\\\\Documents\\\\#INEURON\\\\ML\\\\Assignments\\\\employee.xlsx',sheet_name=0)\n",
    "df2 = pd.read_excel('C:\\\\Users\\\\Suresh\\\\Documents\\\\#INEURON\\\\ML\\\\Assignments\\\\employee.xlsx',sheet_name=1)\n",
    "df3 = pd.read_excel('C:\\\\Users\\\\Suresh\\\\Documents\\\\#INEURON\\\\ML\\\\Assignments\\\\employee.xlsx',sheet_name=2)\n",
    "df = pd.concat([df1, df2, df3])\n",
    "print(df)"
   ]
  },
  {
   "cell_type": "markdown",
   "metadata": {},
   "source": [
    "122. Write a pandas program to import three datasheets from a given excel data (employee.xlsx ) into a single data frame and export the result into new Excel file. \n",
    "Note: Structure of three datasheets are same."
   ]
  },
  {
   "cell_type": "code",
   "execution_count": 92,
   "metadata": {},
   "outputs": [],
   "source": [
    "import pandas as pd\n",
    "import numpy as np\n",
    "df1 = pd.read_excel('C:\\\\Users\\\\Suresh\\\\Documents\\\\#INEURON\\\\ML\\\\Assignments\\\\employee.xlsx',sheet_name=0)\n",
    "df2 = pd.read_excel('C:\\\\Users\\\\Suresh\\\\Documents\\\\#INEURON\\\\ML\\\\Assignments\\\\employee.xlsx',sheet_name=1)\n",
    "df3 = pd.read_excel('C:\\\\Users\\\\Suresh\\\\Documents\\\\#INEURON\\\\ML\\\\Assignments\\\\employee.xlsx',sheet_name=2)\n",
    "df = pd.concat([df1, df2, df3])\n",
    "df.to_excel('C:\\\\Users\\\\Suresh\\\\Documents\\\\#INEURON\\\\ML\\\\Assignments\\\\output.xlsx', index=False)"
   ]
  },
  {
   "cell_type": "markdown",
   "metadata": {},
   "source": [
    "Q123. Write a pandas program to create the Pivot table with multiple indexes from the data set of the titanic.csv."
   ]
  },
  {
   "cell_type": "code",
   "execution_count": 93,
   "metadata": {},
   "outputs": [
    {
     "name": "stdout",
     "output_type": "stream",
     "text": [
      "              Unnamed: 15  adult_male  alone      fare  parch  pclass  sibsp  survived\n",
      "sex    age                                                                            \n",
      "female 0.75           0.0         0.0    0.0   38.5166      2       6      4         2\n",
      "       1.00           0.0         0.0    0.0   26.8750      3       6      1         2\n",
      "       2.00           0.0         0.0    0.0  259.4750      9      15      9         2\n",
      "       3.00           0.0         0.0    0.0   62.6542      3       5      4         1\n",
      "       4.00           0.0         0.0    0.0  114.1417      6      13      4         5\n",
      "       5.00           0.0         0.0    1.0   90.8708      5      11      7         4\n",
      "       6.00           0.0         0.0    0.0   64.2750      3       5      4         1\n",
      "       7.00           0.0         0.0    0.0   26.2500      2       2      0         1\n",
      "       8.00           0.0         0.0    0.0   47.3250      3       5      3         1\n",
      "       9.00           0.0         0.0    0.0  108.7958      7      12     10         0\n",
      "       10.00          0.0         0.0    0.0   24.1500      2       3      0         0\n",
      "       11.00          0.0         0.0    0.0   31.2750      2       3      4         0\n",
      "       13.00          0.0         0.0    1.0   26.7292      1       5      0         2\n",
      "       14.00          0.0         0.0    1.0  169.1667      2       9      3         3\n",
      "       14.50          0.0         0.0    0.0   14.4542      0       3      1         0\n",
      "       15.00          0.0         0.0    2.0  241.0459      1      10      1         4\n",
      "       16.00          0.0         0.0    3.0  246.2625      4      12      5         5\n",
      "       17.00          0.0         0.0    3.0  210.7833      2      12      6         5\n",
      "       18.00          0.0         0.0    4.0  697.0167      9      31      6         8\n",
      "       19.00          0.0         0.0    3.0  215.0959      2      13      3         7\n",
      "       20.00          0.0         0.0    1.0   18.4875      0       6      1         0\n",
      "       21.00          0.0         0.0    4.0  410.4333      4      16      5         4\n",
      "       22.00          0.0         0.0    7.0  444.1084      6      26      3        10\n",
      "       23.00          0.0         0.0    3.0  405.5417      2      10      4         4\n",
      "       24.00          0.0         0.0    7.0  772.1708     15      31     10        14\n",
      "       25.00          0.0         0.0    1.0  223.2500      4      11      3         2\n",
      "       26.00          0.0         0.0    3.0  136.7292      1      12      2         3\n",
      "       27.00          0.0         0.0    2.0   76.8916      3      15      2         5\n",
      "       28.00          0.0         0.0    4.0  110.9458      1      16      3         5\n",
      "       29.00          0.0         0.0    2.0  320.6208      7      16      3         5\n",
      "       30.00          0.0         0.0    9.0  465.9917      1      20      4         9\n",
      "       30.50          0.0         0.0    1.0    7.7500      0       3      0         0\n",
      "       31.00          0.0         0.0    2.0  359.4542      4      16      4         5\n",
      "       32.00          0.0         0.0    2.0  104.7917      1       6      1         2\n",
      "       32.50          0.0         0.0    1.0   13.0000      0       2      0         1\n",
      "       33.00          0.0         0.0    1.0  299.2000      4      10      6         6\n",
      "       34.00          0.0         0.0    2.0   79.0000      2       8      1         4\n",
      "       35.00          0.0         0.0    3.0  967.7875      1      11      5         8\n",
      "       36.00          0.0         0.0    3.0  396.0333      4      12      3         7\n",
      "       37.00          0.0         0.0    1.0    9.5875      0       3      0         0\n",
      "       38.00          0.0         0.0    3.0  423.1958      5       8      2         4\n",
      "       39.00          0.0         0.0    0.0  389.9916     13      10      5         4\n",
      "       40.00          0.0         0.0    3.0  365.1875      2      11      3         5\n",
      "       41.00          0.0         0.0    1.0  213.9000      8       9      0         2\n",
      "       42.00          0.0         0.0    2.0  266.5250      0       5      1         3\n",
      "       43.00          0.0         0.0    0.0  258.2375      7       4      1         1\n",
      "       44.00          0.0         0.0    1.0  111.7000      1       4      1         2\n",
      "       45.00          0.0         0.0    2.0  254.7209      7      14      3         3\n",
      "       47.00          0.0         0.0    0.0   67.0542      1       4      2         1\n",
      "       48.00          0.0         0.0    1.0  164.9042      5       7      3         3\n",
      "       49.00          0.0         0.0    1.0  102.6584      0       2      1         2\n",
      "       50.00          0.0         0.0    3.0  323.2333      2       8      0         4\n",
      "       51.00          0.0         0.0    0.0   77.9583      0       1      1         1\n",
      "       52.00          0.0         0.0    0.0  171.7667      1       2      2         2\n",
      "       53.00          0.0         0.0    0.0   51.4792      0       1      2         1\n",
      "       54.00          0.0         0.0    0.0  160.6667      3       4      3         3\n",
      "       55.00          0.0         0.0    1.0   16.0000      0       2      0         1\n",
      "       56.00          0.0         0.0    0.0   83.1583      1       1      0         1\n",
      "       57.00          0.0         0.0    1.0   10.5000      0       2      0         0\n",
      "       58.00          0.0         0.0    2.0  326.5333      1       3      0         3\n",
      "       60.00          0.0         0.0    0.0   75.2500      0       1      1         1\n",
      "       62.00          0.0         0.0    1.0   80.0000      0       1      0         1\n",
      "       63.00          0.0         0.0    1.0   87.5458      0       4      1         2\n",
      "male   0.42           0.0         0.0    0.0    8.5167      1       3      0         1\n",
      "       0.67           0.0         0.0    0.0   14.5000      1       2      1         1\n",
      "       0.83           0.0         0.0    0.0   47.7500      3       4      1         2\n",
      "       0.92           0.0         0.0    0.0  151.5500      2       1      1         1\n",
      "       1.00           0.0         0.0    0.0  183.1667      8      13     12         3\n",
      "       2.00           0.0         0.0    0.0  115.8875      4      11     12         1\n",
      "       3.00           0.0         0.0    0.0   92.0375      5      10      7         4\n",
      "       4.00           0.0         0.0    0.0  181.2916      8      13     12         2\n",
      "       6.00           0.0         0.0    0.0   12.4750      1       3      0         1\n",
      "       7.00           0.0         0.0    0.0   68.8125      2       6      8         0\n",
      "       8.00           0.0         0.0    0.0   65.8750      2       5      5         1\n",
      "       9.00           0.0         0.0    0.0  114.7125      7      12     10         2\n",
      "       10.00          0.0         0.0    0.0   27.9000      2       3      3         0\n",
      "       11.00          0.0         0.0    1.0  185.6875      4       7      6         1\n",
      "       12.00          0.0         0.0    0.0   11.2417      0       3      1         1\n",
      "       14.00          0.0         0.0    0.0   86.5875      3       6      9         0\n",
      "       15.00          0.0         0.0    0.0    7.2292      1       3      1         0\n",
      "       16.00          0.0        11.0    7.0  191.4042      5      31      8         1\n",
      "       17.00          0.0         7.0    4.0  158.2792      3      19      2         1\n",
      "       18.00          0.0        13.0    9.0  292.6333      2      33      4         1\n",
      "       19.00          0.0        18.0   15.0  481.6415      3      46      5         2\n",
      "       20.00          0.0        13.0   11.0  110.8751      1      39      2         3\n",
      "       20.50          0.0         1.0    1.0    7.2500      0       3      0         0\n",
      "       21.00          0.0        17.0   14.0  347.1416      1      46      3         1\n",
      "       22.00          0.0        15.0   14.0  244.5207      0      43      1         1\n",
      "       23.00          0.0        10.0    8.0  164.3791      2      22      2         1\n",
      "       23.50          0.0         1.0    1.0    7.2292      0       3      0         0\n",
      "       24.00          0.0        14.0   10.0  518.8999      1      35      5         1\n",
      "       24.50          0.0         1.0    1.0    8.0500      0       3      0         0\n",
      "       25.00          0.0        18.0   11.0  338.3126      2      45      7         4\n",
      "       26.00          0.0        13.0    9.0  206.8333      2      36      5         3\n",
      "       27.00          0.0        12.0    9.0  469.6125      2      25      2         6\n",
      "       28.00          0.0        18.0   14.0  414.5582      1      42      4         2\n",
      "       28.50          0.0         2.0    2.0   23.3292      0       6      0         0\n",
      "       29.00          0.0        13.0    9.0  221.1957      0      32      4         3\n",
      "       30.00          0.0        14.0   12.0  172.5500      0      35      2         1\n",
      "       30.50          0.0         1.0    1.0    8.0500      0       3      0         0\n",
      "       31.00          0.0        10.0    6.0  269.7000      2      20      4         3\n",
      "       32.00          0.0        15.0   12.0  333.0291      0      40      4         7\n",
      "       32.50          0.0         1.0    0.0   30.0708      0       2      1         0\n",
      "       33.00          0.0         9.0    8.0   88.1833      1      24      1         0\n",
      "       34.00          0.0        11.0    7.0  170.5458      1      25      4         2\n",
      "       34.50          0.0         1.0    1.0    6.4375      0       3      0         0\n",
      "       35.00          0.0        10.0   10.0  639.8375      0      22      0         3\n",
      "       36.00          0.0        15.0    9.0  923.1958      6      29      5         4\n",
      "       36.50          0.0         1.0    0.0   26.0000      2       2      0         0\n",
      "       37.00          0.0         5.0    0.0  169.2792      2       8      5         1\n",
      "       38.00          0.0         6.0    4.0  267.0708      1      12      1         1\n",
      "       39.00          0.0         8.0    7.0  123.2750      5      19      1         1\n",
      "       40.00          0.0         7.0    5.0  117.2416      5      15      2         1\n",
      "       40.50          0.0         2.0    1.0   22.2500      2       6      0         0\n",
      "       41.00          0.0         2.0    1.0   21.2333      0       6      2         0\n",
      "       42.00          0.0        10.0    6.0  216.1084      1      21      3         3\n",
      "       43.00          0.0         3.0    2.0   40.7500      1       8      1         0\n",
      "       44.00          0.0         6.0    3.0  156.1250      1      15      3         1\n",
      "       45.00          0.0         6.0    5.0  187.1000      0      10      1         2\n",
      "       45.50          0.0         2.0    2.0   35.7250      0       4      0         0\n",
      "       46.00          0.0         3.0    2.0  166.3750      0       4      1         0\n",
      "       47.00          0.0         7.0    7.0  181.3583      0      12      0         0\n",
      "       48.00          0.0         5.0    3.0  176.1334      0       8      2         3\n",
      "       49.00          0.0         4.0    1.0  256.9167      1       6      3         2\n",
      "       50.00          0.0         5.0    2.0  317.0250      0       8      4         1\n",
      "       51.00          0.0         6.0    5.0  123.3084      1      13      0         1\n",
      "       52.00          0.0         4.0    3.0  136.6500      1       6      1         1\n",
      "       54.00          0.0         5.0    3.0  195.1500      1       8      1         0\n",
      "       55.00          0.0         1.0    1.0   30.5000      0       1      0         0\n",
      "       55.50          0.0         1.0    1.0    8.0500      0       3      0         0\n",
      "       56.00          0.0         3.0    3.0   92.7458      0       3      0         1\n",
      "       57.00          0.0         1.0    1.0   12.3500      0       2      0         0\n",
      "       58.00          0.0         2.0    1.0  142.9750      2       2      0         0\n",
      "       59.00          0.0         2.0    2.0   20.7500      0       5      0         0\n",
      "       60.00          0.0         3.0    1.0  144.7500      2       4      2         1\n",
      "       61.00          0.0         3.0    3.0   72.0583      0       5      0         0\n",
      "       62.00          0.0         3.0    3.0   63.6000      0       4      0         1\n",
      "       64.00          0.0         2.0    1.0  289.0000      4       2      1         0\n",
      "       65.00          0.0         3.0    2.0   96.2792      1       5      0         0\n",
      "       66.00          0.0         1.0    1.0   10.5000      0       2      0         0\n",
      "       70.00          0.0         2.0    1.0   81.5000      1       3      1         0\n",
      "       70.50          0.0         1.0    1.0    7.7500      0       3      0         0\n",
      "       71.00          0.0         2.0    2.0   84.1584      0       2      0         0\n",
      "       74.00          0.0         1.0    1.0    7.7750      0       3      0         0\n",
      "       80.00          0.0         1.0    1.0   30.0000      0       1      0         1\n"
     ]
    }
   ],
   "source": [
    "import pandas as pd\n",
    "import numpy as np\n",
    "df = pd.read_csv('C:\\\\Users\\\\Suresh\\\\Documents\\\\#INEURON\\\\ML\\\\Assignments\\\\titanic.csv')\n",
    "result = pd.pivot_table(df, index = [\"sex\",\"age\"], aggfunc=np.sum)\n",
    "print(result)"
   ]
  },
  {
   "cell_type": "markdown",
   "metadata": {},
   "source": [
    "Q124. Write a Pandas program to create the Pivot table and find survival rate by gender?"
   ]
  },
  {
   "cell_type": "code",
   "execution_count": 94,
   "metadata": {},
   "outputs": [
    {
     "name": "stdout",
     "output_type": "stream",
     "text": [
      "class               First    Second     Third\n",
      "sex    age                                   \n",
      "female (0, 20]   0.928571  1.000000  0.510638\n",
      "       (20, 55]  0.968750  0.912281  0.407407\n",
      "male   (0, 20]   0.571429  0.526316  0.197368\n",
      "       (20, 55]  0.440000  0.054054  0.134503\n"
     ]
    }
   ],
   "source": [
    "import pandas as pd\n",
    "import numpy as np\n",
    "df = pd.read_csv('C:\\\\Users\\\\Suresh\\\\Documents\\\\#INEURON\\\\ML\\\\Assignments\\\\titanic.csv')\n",
    "age = pd.cut(df['age'], [0, 20, 55])\n",
    "result = df.pivot_table('survived', index=['sex', age], columns='class')\n",
    "print(result)"
   ]
  },
  {
   "cell_type": "markdown",
   "metadata": {},
   "source": [
    "Q125. Write a pandas program to make partition each of the passengers into 4 categories based on their age. Note: Age categories- (0, 10), (10, 30), (30, 60), (60, 80)"
   ]
  },
  {
   "cell_type": "code",
   "execution_count": 95,
   "metadata": {},
   "outputs": [
    {
     "name": "stdout",
     "output_type": "stream",
     "text": [
      "0      (10.0, 30.0]\n",
      "1      (30.0, 60.0]\n",
      "2      (10.0, 30.0]\n",
      "3      (30.0, 60.0]\n",
      "4      (30.0, 60.0]\n",
      "           ...     \n",
      "886    (10.0, 30.0]\n",
      "887    (10.0, 30.0]\n",
      "888             NaN\n",
      "889    (10.0, 30.0]\n",
      "890    (30.0, 60.0]\n",
      "Name: age, Length: 891, dtype: category\n",
      "Categories (4, interval[int64]): [(0, 10] < (10, 30] < (30, 60] < (60, 80]]\n"
     ]
    }
   ],
   "source": [
    "import pandas as pd\n",
    "import numpy as np\n",
    "df = pd.read_csv('C:\\\\Users\\\\Suresh\\\\Documents\\\\#INEURON\\\\ML\\\\Assignments\\\\titanic.csv')\n",
    "result = pd.cut(df['age'], [0, 10, 30, 60, 80])\n",
    "print(result)"
   ]
  },
  {
   "cell_type": "markdown",
   "metadata": {},
   "source": [
    "Q126. Write a pandas program to create the Pivot table and find survival rate by the gender, age of the different categories of various classes."
   ]
  },
  {
   "cell_type": "code",
   "execution_count": 96,
   "metadata": {},
   "outputs": [
    {
     "name": "stdout",
     "output_type": "stream",
     "text": [
      "class               First    Second     Third\n",
      "sex    age                                   \n",
      "female (0, 20]   0.928571  1.000000  0.510638\n",
      "       (20, 55]  0.968750  0.912281  0.407407\n",
      "male   (0, 20]   0.571429  0.526316  0.197368\n",
      "       (20, 55]  0.440000  0.054054  0.134503\n"
     ]
    }
   ],
   "source": [
    "import pandas as pd\n",
    "import numpy as np\n",
    "df = pd.read_csv('C:\\\\Users\\\\Suresh\\\\Documents\\\\#INEURON\\\\ML\\\\Assignments\\\\titanic.csv')\n",
    "age = pd.cut(df['age'], [0, 20, 55])\n",
    "result = df.pivot_table('survived', index=['sex', age], columns='class')\n",
    "print(result)"
   ]
  },
  {
   "cell_type": "markdown",
   "metadata": {},
   "source": [
    "Q127. Write a pandas program to create the Pivot table and calculate number of women and men were in a particular cabin class."
   ]
  },
  {
   "cell_type": "code",
   "execution_count": 97,
   "metadata": {},
   "outputs": [
    {
     "name": "stdout",
     "output_type": "stream",
     "text": [
      "       Unnamed: 15       adult_male            age          alive           alone           class           deck        embark_town           embarked           fare           parch           sibsp           survived            who          \n",
      "pclass           1  2  3          1    2    3    1   2    3     1    2    3     1    2    3     1    2    3    1   2  3           1    2    3        1    2    3    1    2    3     1    2    3     1    2    3        1    2    3    1    2    3\n",
      "sex                                                                                                                                                                                                                                              \n",
      "female           0  0  0         94   76  144   85  74  102    94   76  144    94   76  144    94   76  144   81  10  6          92   76  144       92   76  144   94   76  144    94   76  144    94   76  144       94   76  144   94   76  144\n",
      "male             0  0  0        122  108  347  101  99  253   122  108  347   122  108  347   122  108  347   94   6  6         122  108  347      122  108  347  122  108  347   122  108  347   122  108  347      122  108  347  122  108  347\n"
     ]
    }
   ],
   "source": [
    "import pandas as pd\n",
    "import numpy as np\n",
    "df = pd.read_csv('C:\\\\Users\\\\Suresh\\\\Documents\\\\#INEURON\\\\ML\\\\Assignments\\\\titanic.csv')\n",
    "result = df.pivot_table(index=['sex'], columns=['pclass'], aggfunc='count')\n",
    "print(result)\n"
   ]
  },
  {
   "cell_type": "markdown",
   "metadata": {},
   "source": [
    "Q128. Write a pandas program to create the Pivot table and separate the gender according to whether they travelled alone or not to get the probability of survival"
   ]
  },
  {
   "cell_type": "code",
   "execution_count": 98,
   "metadata": {},
   "outputs": [
    {
     "name": "stdout",
     "output_type": "stream",
     "text": [
      "class            First    Second     Third\n",
      "sex    alone                              \n",
      "female False  0.966667  0.931818  0.416667\n",
      "       True   0.970588  0.906250  0.616667\n",
      "male   False  0.425532  0.277778  0.180723\n",
      "       True   0.333333  0.097222  0.121212\n"
     ]
    }
   ],
   "source": [
    "import pandas as pd\n",
    "import numpy as np\n",
    "df = pd.read_csv('C:\\\\Users\\\\Suresh\\\\Documents\\\\#INEURON\\\\ML\\\\Assignments\\\\titanic.csv')\n",
    "result = df.pivot_table( 'survived' , [ 'sex' , 'alone' ] , 'class' )\n",
    "print(result)"
   ]
  },
  {
   "cell_type": "markdown",
   "metadata": {},
   "source": [
    "Q129. Write a pandas program to create the Pivot table and find the probability of survival by class, gender, solo boarding, and the port of embarkation."
   ]
  },
  {
   "cell_type": "code",
   "execution_count": 100,
   "metadata": {},
   "outputs": [
    {
     "name": "stdout",
     "output_type": "stream",
     "text": [
      "embark_town  Cherbourg                     Queenstown                  Southampton                    \n",
      "class            First    Second     Third      First Second     Third       First    Second     Third\n",
      "sex    alone                                                                                          \n",
      "female False  1.000000  1.000000  0.611111        1.0    NaN  0.625000    0.941176  0.923077  0.327586\n",
      "       True   0.944444  1.000000  0.800000        NaN    1.0  0.760000    1.000000  0.892857  0.466667\n",
      "male   False  0.473684  0.166667  0.500000        0.0    NaN  0.100000    0.407407  0.300000  0.142857\n",
      "       True   0.347826  0.250000  0.151515        NaN    0.0  0.068966    0.326923  0.089552  0.123762\n"
     ]
    }
   ],
   "source": [
    "import pandas as pd\n",
    "import numpy as np\n",
    "df = pd.read_csv('C:\\\\Users\\\\Suresh\\\\Documents\\\\#INEURON\\\\ML\\\\Assignments\\\\titanic.csv')\n",
    "result = df.pivot_table('survived', ['sex' , 'alone' ], [ 'embark_town', 'class' ])\n",
    "print(result)"
   ]
  },
  {
   "cell_type": "markdown",
   "metadata": {},
   "source": [
    "Q130. Write a pandas program to get current date, oldest date and number of days between Current date and the oldest date of Ufo dataset."
   ]
  },
  {
   "cell_type": "code",
   "execution_count": 1,
   "metadata": {},
   "outputs": [
    {
     "name": "stdout",
     "output_type": "stream",
     "text": [
      "Original Dataframe:\n",
      "            Date_time                  city state/province country UFO_shape  \\\n",
      "0 1910-06-01 15:00:00           wills point             tx      us     cigar   \n",
      "1 1920-06-11 21:00:00                cicero             in      us   unknown   \n",
      "2 1929-07-05 14:00:00  buchanan  (or burns)             or      us      disk   \n",
      "3 1931-06-01 13:00:00               abilene             ks      us      disk   \n",
      "4 1939-06-01 20:00:00              waterloo             al      us  fireball   \n",
      "\n",
      "   length_of_encounter_seconds described_duration_of_encounter  \\\n",
      "0                          120                       2 minutes   \n",
      "1                           60                        1 minute   \n",
      "2                           60                            1min   \n",
      "3                         1800                 30 min. approx.   \n",
      "4                          300                       5 minutes   \n",
      "\n",
      "                                         description date_documented  \\\n",
      "0       Cigar shaped object moving from West to East      04/16/2005   \n",
      "1  ((NUFORC Note:  Probable hoax.  Note date.  PD...      05/12/2009   \n",
      "2  we were traveling east of burns&#44clmbing up ...      08/16/2002   \n",
      "3  This is a what my mother related to me regardi...      02/14/2006   \n",
      "4  4 high school students see bright&#44 ground-l...      02/21/2014   \n",
      "\n",
      "    latitude   longitude  \n",
      "0  32.709167  -96.008056  \n",
      "1  40.123889  -86.013333  \n",
      "2  43.642500 -118.627500  \n",
      "3  38.917222  -97.213611  \n",
      "4  34.918056  -88.064167  \n",
      "\n",
      "Current date of Ufo dataset:\n",
      "2004-12-08 05:30:00\n",
      "\n",
      "Oldest date of Ufo dataset:\n",
      "1910-06-01 15:00:00\n",
      "\n",
      "Number of days between Current date and oldest date of Ufo dataset:\n",
      "34523\n"
     ]
    }
   ],
   "source": [
    "import pandas as pd\n",
    "\n",
    "df = pd.read_csv(r'C:\\\\Users\\\\Suresh\\\\Documents\\\\#INEURON\\\\ML\\\\Assignments\\\\ufo.csv')\n",
    "df['Date_time'] = df['Date_time'].astype('datetime64[ns]')\n",
    "print(\"Original Dataframe:\")\n",
    "print(df.head())\n",
    "print(\"\\nCurrent date of Ufo dataset:\")\n",
    "print(df.Date_time.max())\n",
    "o=df.Date_time.max()\n",
    "print(\"\\nOldest date of Ufo dataset:\")\n",
    "print(df.Date_time.min())\n",
    "m=df.Date_time.min()\n",
    "print(\"\\nNumber of days between Current date and oldest date of Ufo dataset:\")\n",
    "print((df.Date_time.max() - df.Date_time.min()).days)"
   ]
  },
  {
   "cell_type": "markdown",
   "metadata": {},
   "source": [
    "Q131. Write a pandas program to get all sighting days of the unidentified flying object (ufo) between 1950-10-10 and 1960-10- 10."
   ]
  },
  {
   "cell_type": "code",
   "execution_count": 2,
   "metadata": {},
   "outputs": [
    {
     "name": "stdout",
     "output_type": "stream",
     "text": [
      "Original Dataframe:\n",
      "            Date_time                  city state/province country UFO_shape  \\\n",
      "0 1910-06-01 15:00:00           wills point             tx      us     cigar   \n",
      "1 1920-06-11 21:00:00                cicero             in      us   unknown   \n",
      "2 1929-07-05 14:00:00  buchanan  (or burns)             or      us      disk   \n",
      "3 1931-06-01 13:00:00               abilene             ks      us      disk   \n",
      "4 1939-06-01 20:00:00              waterloo             al      us  fireball   \n",
      "\n",
      "   length_of_encounter_seconds described_duration_of_encounter  \\\n",
      "0                          120                       2 minutes   \n",
      "1                           60                        1 minute   \n",
      "2                           60                            1min   \n",
      "3                         1800                 30 min. approx.   \n",
      "4                          300                       5 minutes   \n",
      "\n",
      "                                         description date_documented  \\\n",
      "0       Cigar shaped object moving from West to East      04/16/2005   \n",
      "1  ((NUFORC Note:  Probable hoax.  Note date.  PD...      05/12/2009   \n",
      "2  we were traveling east of burns&#44clmbing up ...      08/16/2002   \n",
      "3  This is a what my mother related to me regardi...      02/14/2006   \n",
      "4  4 high school students see bright&#44 ground-l...      02/21/2014   \n",
      "\n",
      "    latitude   longitude  \n",
      "0  32.709167  -96.008056  \n",
      "1  40.123889  -86.013333  \n",
      "2  43.642500 -118.627500  \n",
      "3  38.917222  -97.213611  \n",
      "4  34.918056  -88.064167  \n",
      "\n",
      "Sighting days of the unidentified flying object (ufo) between 1949-10-10 and 1960-10-10:\n",
      "             Date_time                           city state/province country  \\\n",
      "29 1950-06-01 16:00:00                   philadelphia             ms      us   \n",
      "30 1950-06-01 20:00:00                     pittsburgh             pa      us   \n",
      "31 1950-08-01 04:00:00                     louisville             ky      us   \n",
      "32 1950-10-01 11:00:00                      pikeville             ky      us   \n",
      "33 1951-06-01 07:00:00               brandon (canada)             mb      ca   \n",
      "34 1951-07-01 03:00:00                  otis orchards             wa      us   \n",
      "35 1951-02-03 22:00:00                  thompsonville             ct      us   \n",
      "36 1951-06-03 13:00:00                         jasper             nc      us   \n",
      "37 1952-07-01 15:00:00                         sebeka             mn      us   \n",
      "38 1952-07-01 22:00:00                        detroit             mi      us   \n",
      "39 1952-08-01 21:30:00                          tampa             fl      us   \n",
      "40 1952-10-01 12:00:00                    kansas city             mo      us   \n",
      "41 1953-04-01 15:00:00                      haverhill             ma      us   \n",
      "42 1953-04-01 18:00:00                      cambridge             ma      us   \n",
      "43 1953-07-01 05:30:00  colorado springs (mtsn nw of)             co      us   \n",
      "44 1953-08-01 12:00:00                       berkeley             mo      us   \n",
      "45 1954-02-01 02:00:00                      fairbanks             ak      us   \n",
      "46 1954-06-01 00:00:00                        houston             tx      us   \n",
      "47 1954-06-01 06:00:00                           ovid             ny      us   \n",
      "48 1954-06-01 08:00:00  springfield (rural area near)             il      us   \n",
      "49 1955-05-01 15:00:00                       holbrook             ma      us   \n",
      "50 1955-06-01 02:00:00                         bagley             mn      us   \n",
      "51 1955-06-01 15:29:00                     cincinnati             oh      us   \n",
      "52 1955-06-01 17:00:00           martinez (outskirts)             ca      us   \n",
      "53 1956-01-01 05:30:00                        weirton             wv      us   \n",
      "54 1956-03-01 13:00:00                       petaluma             ca      us   \n",
      "55 1956-05-01 12:00:00                         canton             oh      us   \n",
      "56 1956-06-01 19:00:00                         belton             mo      us   \n",
      "57 1957-01-01 21:00:00                         dallas             tx      us   \n",
      "58 1957-05-01 12:00:00                         canton             oh      us   \n",
      "59 1957-06-01 10:00:00                        el paso             tx      us   \n",
      "60 1957-06-01 20:00:00                    glens falls             ny      us   \n",
      "61 1958-01-01 22:00:00                            pep             tx      us   \n",
      "62 1958-06-01 02:00:00                      middlesex             nc      us   \n",
      "63 1958-06-01 19:00:00                  san francisco             ca      us   \n",
      "64 1958-06-01 21:00:00          new york city (bronx)             ny      us   \n",
      "65 1959-04-01 01:00:00                          miami             fl      us   \n",
      "66 1959-05-01 18:30:00                       columbus             oh      us   \n",
      "67 1959-06-01 12:00:00                         orange             ct      us   \n",
      "68 1959-06-01 18:30:00                         sidney             oh      us   \n",
      "69 1960-02-01 22:15:00                       st. paul             mn      us   \n",
      "70 1960-02-01 23:00:00                       hartwell             ga      us   \n",
      "71 1960-04-01 21:00:00                        houston             tx      us   \n",
      "72 1960-05-01 20:00:00                         tucson             az      us   \n",
      "\n",
      "   UFO_shape  length_of_encounter_seconds described_duration_of_encounter  \\\n",
      "29      disk                          600             ten minutes or less   \n",
      "30      oval                         1500                   20/25 minutes   \n",
      "31     other                           60                        1 minute   \n",
      "32      disk                          600                              hr   \n",
      "33      disk                         1800                      30 minutes   \n",
      "34      disk                          120                      ~2 minutes   \n",
      "35      disk                           30                      30 seconds   \n",
      "36      oval                          300                       5 minutes   \n",
      "37     other                         1800                          30 min   \n",
      "38    sphere                          300                       5 minutes   \n",
      "39      oval                         9000                  2 hrs. 30 min.   \n",
      "40      disk                           90                         90 sec.   \n",
      "41   chevron                            2                         seconds   \n",
      "42    sphere                          180                       3 minutes   \n",
      "43      disk                           10                      10 seconds   \n",
      "44  fireball                          300                       5 minutes   \n",
      "45   unknown                         1140                         19 min.   \n",
      "46      disk                          180                     2-3 minutes   \n",
      "47      disk                          600                         10 min.   \n",
      "48  cylinder                          600                      5-10 mins.   \n",
      "49       egg                           60                        1 minute   \n",
      "50    circle                         7200                         2 hours   \n",
      "51      disk                          120               approx. 1-1/2 min   \n",
      "52    circle                         1800                      30 minutes   \n",
      "53      disk                           10                      10 seconds   \n",
      "54      oval                         1800                      30 minutes   \n",
      "55     cigar                          120                       2 minutes   \n",
      "56     other                          600                          10min.   \n",
      "57   unknown                           20                      20 seconds   \n",
      "58     cigar                          180                       3 minutes   \n",
      "59      disk                            7                  5 to 7 seconds   \n",
      "60      disk                          240                         3or4min   \n",
      "61  fireball                            2                            2sec   \n",
      "62    circle                         3600                          1 hour   \n",
      "63      oval                          120                       2 minutes   \n",
      "64      oval                           10                      10 seconds   \n",
      "65    sphere                         2700                   30-45 minutes   \n",
      "66     light                          180                         2-3 min   \n",
      "67  cylinder                         3600                         1 hour?   \n",
      "68     light                          300                       5 minutes   \n",
      "69     cigar                            3                       3 seconds   \n",
      "70     cigar                           45         approx 30 to 45 seconds   \n",
      "71     other                          300                      <5 minutes   \n",
      "72     light                          300                     4-5 minutes   \n",
      "\n",
      "                                          description date_documented  \\\n",
      "29  Childhood sighting of disk witnessed by mother...      03/12/2008   \n",
      "30  One larger white object &amp; 2 smaller round ...      02/14/2006   \n",
      "31  In 1953&#44 at the age of 3 years old I was Co...      10/19/2011   \n",
      "32        SEVENTY SOME  FLYING DISK OBSERVED IN  1950      04/16/2005   \n",
      "33  Circular Craft and Man in Black Sighted in Sum...      02/18/2001   \n",
      "34  Cigar shaped Disc darting back and forth (East...      12/23/2013   \n",
      "35  A golden-orange glowing bowl&#44 flat on top&#...      07/25/2004   \n",
      "36  MIDDAY OVAL SHAPE&#44 ANITQUE COLOR OBJECT SIT...      06/20/2005   \n",
      "37  Silver donut shape object sighted over rural M...      12/12/2011   \n",
      "38  object sits stationary for 5 minutes and then ...      10/31/2003   \n",
      "39  Triangulation radar fix (USAF&#44 civil&#44 Na...      12/02/2000   \n",
      "40  1952 daylight sighting of multiple discs in fo...      10/31/2008   \n",
      "41                Historical account&#44 Haverhill MA      09/02/2005   \n",
      "42  Two red-orange lights skirted Boston rooftops ...      07/14/2013   \n",
      "43  Absolutely huge UFO hovered 40 feet above hous...      07/25/2004   \n",
      "44    Early 50&#39s sighting in Berkeley&#44 Missouri      01/22/2004   \n",
      "45  RADAR INTERCEPT OF UFO BY USAF PILOT IN ALASKA...      01/10/2009   \n",
      "46  I fulfilled my duty by passing on an unusual a...      06/12/2008   \n",
      "47  I saw two silver/gray objects of different sha...      12/05/2001   \n",
      "48  This happened many years ago when I was a chil...      12/02/2000   \n",
      "49  I turned around and over the trees was a large...      04/16/2005   \n",
      "50  I was 5 years old at the time&#44 family of 4 ...      05/24/1999   \n",
      "51  June 1955.  Bronze saucer/cylindrical craft; a...      06/18/2003   \n",
      "52  We observed a large object aprox.size &quot;fo...      02/16/2000   \n",
      "53  My Uncle Sam was driving to work very early on...      01/07/2000   \n",
      "54  Objects were several thousand feet in altitude...      01/28/1999   \n",
      "55  At first the silver disc was stationary. As it...      09/15/2005   \n",
      "56  THE EVENT WAS A PERSONAL CONTACT WITH AN ALIEN...      01/28/1999   \n",
      "57  I was flying the first of 4 USAF aircraft on a...      08/24/2004   \n",
      "58  Cigar shaped object is motionless for more tha...      04/27/2004   \n",
      "59  The UFO did not make any sounds.  The craft&#3...      07/26/2002   \n",
      "60  there was no mistakeing what i was looking at ...      12/02/2000   \n",
      "61  Green fire balls&#44 Texas Panhandle&#44 late ...      12/12/2009   \n",
      "62                               white glowing lights      03/11/2006   \n",
      "63  A low flying huge silver flying saucer positio...      10/31/2003   \n",
      "64  7 brightly illuminated elliptical discs racing...      04/16/2005   \n",
      "65  1959 childhood encounter with a spherical&#44 ...      02/14/2008   \n",
      "66  Red-orange lights over seen motionless over Lo...      02/22/2002   \n",
      "67  Sighted craft and transport of object to the g...      03/19/2009   \n",
      "68  Saw a bright light shining down.  Pulled over ...      04/27/2007   \n",
      "69  A cigar-shaped UFO glided down towards the ear...      03/16/2000   \n",
      "70  My father explained an event of a large cigar-...      04/16/2005   \n",
      "71  Sharp right angle turn in flight direction aft...      12/19/2003   \n",
      "72  Lights only&#44 no sound&#44 moving across the...      09/02/2005   \n",
      "\n",
      "     latitude   longitude  \n",
      "29  32.771389  -89.116667  \n",
      "30  40.440556  -79.996111  \n",
      "31  38.254167  -85.759444  \n",
      "32  37.479167  -82.518889  \n",
      "33  49.833333  -99.950000  \n",
      "34  47.700556 -117.105278  \n",
      "35  41.996944  -72.599444  \n",
      "36  35.201389  -77.206944  \n",
      "37  46.630000  -95.088611  \n",
      "38  42.331389  -83.045833  \n",
      "39  27.947222  -82.458611  \n",
      "40  39.099722  -94.578333  \n",
      "41  42.776111  -71.077778  \n",
      "42  42.375000  -71.106111  \n",
      "43  38.833889 -104.820833  \n",
      "44  38.754444  -90.331111  \n",
      "45  64.837778 -147.716389  \n",
      "46  29.763056  -95.363056  \n",
      "47  42.676389  -76.823333  \n",
      "48  39.801667  -89.643611  \n",
      "49  42.155000  -71.009167  \n",
      "50  47.521667  -95.398056  \n",
      "51  39.161944  -84.456944  \n",
      "52  38.019444 -122.133056  \n",
      "53  40.418889  -80.589722  \n",
      "54  38.232500 -122.635556  \n",
      "55  40.798889  -81.378611  \n",
      "56  38.811944  -94.531667  \n",
      "57  32.783333  -96.800000  \n",
      "58  40.798889  -81.378611  \n",
      "59  31.758611 -106.486389  \n",
      "60  43.309444  -73.644444  \n",
      "61  33.816111 -102.557778  \n",
      "62  35.790000  -78.204167  \n",
      "63  37.775000 -122.418333  \n",
      "64  40.714167  -74.006389  \n",
      "65  25.773889  -80.193889  \n",
      "66  39.961111  -82.998889  \n",
      "67  41.278333  -73.026111  \n",
      "68  40.284167  -84.155556  \n",
      "69  44.944444  -93.093056  \n",
      "70  34.352778  -82.932222  \n",
      "71  29.763056  -95.363056  \n",
      "72  32.221667 -110.925833  \n"
     ]
    }
   ],
   "source": [
    "import pandas as pd\n",
    "df = pd.read_csv(r'C:\\\\Users\\\\Suresh\\\\Documents\\\\#INEURON\\\\ML\\\\Assignments\\\\ufo.csv')\n",
    "df['Date_time'] = df['Date_time'].astype('datetime64[ns]')\n",
    "print(\"Original Dataframe:\")\n",
    "print(df.head())\n",
    "print(\"\\nSighting days of the unidentified flying object (ufo) between 1949-10-10 and 1960-10-10:\")\n",
    "selected_period = df[(df['Date_time'] >= '1950-01-01 00:00:00') & (df['Date_time'] <= '1960-12-31 23:59:59')]\n",
    "print(selected_period)"
   ]
  },
  {
   "cell_type": "markdown",
   "metadata": {},
   "source": [
    "Q132. Write a Pandas program to extract the year, month, day, hour, minute, second, and weekday from unidentified flying object (UFO) reporting date."
   ]
  },
  {
   "cell_type": "code",
   "execution_count": 3,
   "metadata": {},
   "outputs": [
    {
     "name": "stdout",
     "output_type": "stream",
     "text": [
      "Original Dataframe:\n",
      "            Date_time                  city state/province country UFO_shape  \\\n",
      "0 1910-06-01 15:00:00           wills point             tx      us     cigar   \n",
      "1 1920-06-11 21:00:00                cicero             in      us   unknown   \n",
      "2 1929-07-05 14:00:00  buchanan  (or burns)             or      us      disk   \n",
      "3 1931-06-01 13:00:00               abilene             ks      us      disk   \n",
      "4 1939-06-01 20:00:00              waterloo             al      us  fireball   \n",
      "\n",
      "   length_of_encounter_seconds described_duration_of_encounter  \\\n",
      "0                          120                       2 minutes   \n",
      "1                           60                        1 minute   \n",
      "2                           60                            1min   \n",
      "3                         1800                 30 min. approx.   \n",
      "4                          300                       5 minutes   \n",
      "\n",
      "                                         description date_documented  \\\n",
      "0       Cigar shaped object moving from West to East      04/16/2005   \n",
      "1  ((NUFORC Note:  Probable hoax.  Note date.  PD...      05/12/2009   \n",
      "2  we were traveling east of burns&#44clmbing up ...      08/16/2002   \n",
      "3  This is a what my mother related to me regardi...      02/14/2006   \n",
      "4  4 high school students see bright&#44 ground-l...      02/21/2014   \n",
      "\n",
      "    latitude   longitude  \n",
      "0  32.709167  -96.008056  \n",
      "1  40.123889  -86.013333  \n",
      "2  43.642500 -118.627500  \n",
      "3  38.917222  -97.213611  \n",
      "4  34.918056  -88.064167  \n",
      "\n",
      "Year:\n",
      "0    1910\n",
      "1    1920\n",
      "2    1929\n",
      "3    1931\n",
      "4    1939\n",
      "Name: Date_time, dtype: int64\n",
      "\n",
      "Month:\n",
      "0    6\n",
      "1    6\n",
      "2    7\n",
      "3    6\n",
      "4    6\n",
      "Name: Date_time, dtype: int64\n",
      "\n",
      "Day:\n",
      "0     1\n",
      "1    11\n",
      "2     5\n",
      "3     1\n",
      "4     1\n",
      "Name: Date_time, dtype: int64\n",
      "\n",
      "Hour:\n",
      "0    15\n",
      "1    21\n",
      "2    14\n",
      "3    13\n",
      "4    20\n",
      "Name: Date_time, dtype: int64\n",
      "\n",
      "Minute:\n",
      "0    0\n",
      "1    0\n",
      "2    0\n",
      "3    0\n",
      "4    0\n",
      "Name: Date_time, dtype: int64\n",
      "\n",
      "Second:\n",
      "0    0\n",
      "1    0\n",
      "2    0\n",
      "3    0\n",
      "4    0\n",
      "Name: Date_time, dtype: int64\n",
      "\n",
      "Weekday:\n",
      "0    Wednesday\n",
      "1       Friday\n",
      "2       Friday\n",
      "3       Monday\n",
      "4     Thursday\n",
      "Name: Date_time, dtype: object\n"
     ]
    }
   ],
   "source": [
    "import pandas as pd\n",
    "df = pd.read_csv(r'C:\\\\Users\\\\Suresh\\\\Documents\\\\#INEURON\\\\ML\\\\Assignments\\\\ufo.csv')\n",
    "df['Date_time'] = df['Date_time'].astype('datetime64[ns]')\n",
    "print(\"Original Dataframe:\")\n",
    "print(df.head())\n",
    "print(\"\\nYear:\")\n",
    "print(df.Date_time.dt.year.head())\n",
    "print(\"\\nMonth:\")\n",
    "print(df.Date_time.dt.month.head())\n",
    "print(\"\\nDay:\")\n",
    "print(df.Date_time.dt.day.head())\n",
    "print(\"\\nHour:\")\n",
    "print(df.Date_time.dt.hour.head())\n",
    "print(\"\\nMinute:\")\n",
    "print(df.Date_time.dt.minute.head())\n",
    "print(\"\\nSecond:\")\n",
    "print(df.Date_time.dt.second.head())\n",
    "print(\"\\nWeekday:\")\n",
    "print(df.Date_time.dt.weekday_name.head())"
   ]
  },
  {
   "cell_type": "markdown",
   "metadata": {},
   "source": [
    "Q133. Write a pandas program to count year-country wise frequency of reporting dates of the unidentified flying object(UFO)."
   ]
  },
  {
   "cell_type": "code",
   "execution_count": 4,
   "metadata": {},
   "outputs": [
    {
     "name": "stdout",
     "output_type": "stream",
     "text": [
      "Original Dataframe:\n",
      "            Date_time                  city state/province country UFO_shape  \\\n",
      "0 1910-06-01 15:00:00           wills point             tx      us     cigar   \n",
      "1 1920-06-11 21:00:00                cicero             in      us   unknown   \n",
      "2 1929-07-05 14:00:00  buchanan  (or burns)             or      us      disk   \n",
      "3 1931-06-01 13:00:00               abilene             ks      us      disk   \n",
      "4 1939-06-01 20:00:00              waterloo             al      us  fireball   \n",
      "\n",
      "   length_of_encounter_seconds described_duration_of_encounter  \\\n",
      "0                          120                       2 minutes   \n",
      "1                           60                        1 minute   \n",
      "2                           60                            1min   \n",
      "3                         1800                 30 min. approx.   \n",
      "4                          300                       5 minutes   \n",
      "\n",
      "                                         description date_documented  \\\n",
      "0       Cigar shaped object moving from West to East      04/16/2005   \n",
      "1  ((NUFORC Note:  Probable hoax.  Note date.  PD...      05/12/2009   \n",
      "2  we were traveling east of burns&#44clmbing up ...      08/16/2002   \n",
      "3  This is a what my mother related to me regardi...      02/14/2006   \n",
      "4  4 high school students see bright&#44 ground-l...      02/21/2014   \n",
      "\n",
      "    latitude   longitude  \n",
      "0  32.709167  -96.008056  \n",
      "1  40.123889  -86.013333  \n",
      "2  43.642500 -118.627500  \n",
      "3  38.917222  -97.213611  \n",
      "4  34.918056  -88.064167  \n",
      "\n",
      "Country-year wise frequency of reporting dates of UFO:\n",
      "Year  country\n",
      "1910  us          1\n",
      "1920  us          1\n",
      "1929  us          1\n",
      "1931  us          1\n",
      "1939  us          2\n",
      "                 ..\n",
      "2002  ca          1\n",
      "      us         13\n",
      "2003  us          9\n",
      "2004  ca          1\n",
      "      us          6\n",
      "Length: 79, dtype: int64\n"
     ]
    }
   ],
   "source": [
    "import pandas as pd\n",
    "df = pd.read_csv(r'C:\\\\Users\\\\Suresh\\\\Documents\\\\#INEURON\\\\ML\\\\Assignments\\\\ufo.csv')\n",
    "df['Date_time'] = df['Date_time'].astype('datetime64[ns]')\n",
    "print(\"Original Dataframe:\")\n",
    "print(df.head())\n",
    "df['Year'] = df['Date_time'].apply(lambda x: \"%d\" % (x.year))\n",
    "result = df.groupby(['Year', 'country']).size()\n",
    "print(\"\\nCountry-year wise frequency of reporting dates of UFO:\")\n",
    "print(result)"
   ]
  },
  {
   "cell_type": "markdown",
   "metadata": {},
   "source": [
    "Q134. Write a pandas program to get the difference (in days) between documented date and reporting date of unidentified flying object (UFO)."
   ]
  },
  {
   "cell_type": "code",
   "execution_count": 5,
   "metadata": {},
   "outputs": [
    {
     "name": "stdout",
     "output_type": "stream",
     "text": [
      "Original Dataframe:\n",
      "            Date_time                  city state/province country UFO_shape  \\\n",
      "0 1910-06-01 15:00:00           wills point             tx      us     cigar   \n",
      "1 1920-06-11 21:00:00                cicero             in      us   unknown   \n",
      "2 1929-07-05 14:00:00  buchanan  (or burns)             or      us      disk   \n",
      "3 1931-06-01 13:00:00               abilene             ks      us      disk   \n",
      "4 1939-06-01 20:00:00              waterloo             al      us  fireball   \n",
      "\n",
      "   length_of_encounter_seconds described_duration_of_encounter  \\\n",
      "0                          120                       2 minutes   \n",
      "1                           60                        1 minute   \n",
      "2                           60                            1min   \n",
      "3                         1800                 30 min. approx.   \n",
      "4                          300                       5 minutes   \n",
      "\n",
      "                                         description date_documented  \\\n",
      "0       Cigar shaped object moving from West to East      2005-04-16   \n",
      "1  ((NUFORC Note:  Probable hoax.  Note date.  PD...      2009-05-12   \n",
      "2  we were traveling east of burns&#44clmbing up ...      2002-08-16   \n",
      "3  This is a what my mother related to me regardi...      2006-02-14   \n",
      "4  4 high school students see bright&#44 ground-l...      2014-02-21   \n",
      "\n",
      "    latitude   longitude  \n",
      "0  32.709167  -96.008056  \n",
      "1  40.123889  -86.013333  \n",
      "2  43.642500 -118.627500  \n",
      "3  38.917222  -97.213611  \n",
      "4  34.918056  -88.064167  \n",
      "\n",
      "Difference (in days) between documented date and reporting date of UFO:\n",
      "              Date_time                  city state/province country  \\\n",
      "0   1910-06-01 15:00:00           wills point             tx      us   \n",
      "1   1920-06-11 21:00:00                cicero             in      us   \n",
      "2   1929-07-05 14:00:00  buchanan  (or burns)             or      us   \n",
      "3   1931-06-01 13:00:00               abilene             ks      us   \n",
      "4   1939-06-01 20:00:00              waterloo             al      us   \n",
      "..                  ...                   ...            ...     ...   \n",
      "342 2004-04-05 20:35:00                 miami             fl      us   \n",
      "343 2004-10-06 23:00:00           placerville             ca      us   \n",
      "344 2004-11-07 20:30:00         lavina (near)             mt      us   \n",
      "345 2004-12-08 05:30:00     montreal (canada)             qc      ca   \n",
      "346 2004-02-10 05:15:00             mansfield             oh      us   \n",
      "\n",
      "    UFO_shape  length_of_encounter_seconds described_duration_of_encounter  \\\n",
      "0       cigar                          120                       2 minutes   \n",
      "1     unknown                           60                        1 minute   \n",
      "2        disk                           60                            1min   \n",
      "3        disk                         1800                 30 min. approx.   \n",
      "4    fireball                          300                       5 minutes   \n",
      "..        ...                          ...                             ...   \n",
      "342   unknown                           60                        1 minute   \n",
      "343      disk                         3600                          1 hour   \n",
      "344      disk                         3600                    over an hour   \n",
      "345      oval                           30                about 30 seconds   \n",
      "346     other                            3                       3 seconds   \n",
      "\n",
      "                                           description date_documented  \\\n",
      "0         Cigar shaped object moving from West to East      2005-04-16   \n",
      "1    ((NUFORC Note:  Probable hoax.  Note date.  PD...      2009-05-12   \n",
      "2    we were traveling east of burns&#44clmbing up ...      2002-08-16   \n",
      "3    This is a what my mother related to me regardi...      2006-02-14   \n",
      "4    4 high school students see bright&#44 ground-l...      2014-02-21   \n",
      "..                                                 ...             ...   \n",
      "342  It looked like a star and moved in a circular ...      2004-04-09   \n",
      "343  I saw 5 saucers above Placerville CA.  ((NUFOR...      2004-10-27   \n",
      "344  Many unusual lights on one object.  ((NUFORC N...      2004-11-09   \n",
      "345  Bright yellow light at the horizon in the East...      2007-08-07   \n",
      "346         THE OBJECT WAS STREAKING&#44 THEN VANISHED      2004-02-12   \n",
      "\n",
      "      latitude   longitude  Difference  \n",
      "0    32.709167  -96.008056       34652  \n",
      "1    40.123889  -86.013333       32476  \n",
      "2    43.642500 -118.627500       26704  \n",
      "3    38.917222  -97.213611       27286  \n",
      "4    34.918056  -88.064167       27293  \n",
      "..         ...         ...         ...  \n",
      "342  25.773889  -80.193889           3  \n",
      "343  38.729722 -120.797500          20  \n",
      "344  46.294722 -108.937222           1  \n",
      "345  45.500000  -73.583333         971  \n",
      "346  40.758333  -82.515556           1  \n",
      "\n",
      "[347 rows x 12 columns]\n"
     ]
    }
   ],
   "source": [
    "import pandas as pd\n",
    "df = pd.read_csv(r'C:\\\\Users\\\\Suresh\\\\Documents\\\\#INEURON\\\\ML\\\\Assignments\\\\ufo.csv')\n",
    "df['Date_time'] = df['Date_time'].astype('datetime64[ns]')\n",
    "df['date_documented'] = df['date_documented'].astype('datetime64[ns]')\n",
    "print(\"Original Dataframe:\")\n",
    "print(df.head())\n",
    "print(\"\\nDifference (in days) between documented date and reporting date of UFO:\")\n",
    "df['Difference'] = (df['date_documented'] - df['Date_time']).dt.days\n",
    "print(df)"
   ]
  },
  {
   "cell_type": "code",
   "execution_count": null,
   "metadata": {},
   "outputs": [],
   "source": [
    "Q135. Write a pandas program to generate sequences of fixed- frequency dates and time spans."
   ]
  },
  {
   "cell_type": "code",
   "execution_count": 2,
   "metadata": {},
   "outputs": [
    {
     "name": "stdout",
     "output_type": "stream",
     "text": [
      "Hourly frequency:\n",
      "DatetimeIndex(['2018-01-01 00:00:00', '2018-01-01 01:00:00',\n",
      "               '2018-01-01 02:00:00', '2018-01-01 03:00:00',\n",
      "               '2018-01-01 04:00:00', '2018-01-01 05:00:00',\n",
      "               '2018-01-01 06:00:00', '2018-01-01 07:00:00',\n",
      "               '2018-01-01 08:00:00', '2018-01-01 09:00:00',\n",
      "               '2018-01-01 10:00:00', '2018-01-01 11:00:00'],\n",
      "              dtype='datetime64[ns]', freq='H')\n",
      "\n",
      "Minutely frequency:\n",
      "DatetimeIndex(['2018-01-01 00:00:00', '2018-01-01 00:01:00',\n",
      "               '2018-01-01 00:02:00', '2018-01-01 00:03:00',\n",
      "               '2018-01-01 00:04:00', '2018-01-01 00:05:00',\n",
      "               '2018-01-01 00:06:00', '2018-01-01 00:07:00',\n",
      "               '2018-01-01 00:08:00', '2018-01-01 00:09:00',\n",
      "               '2018-01-01 00:10:00', '2018-01-01 00:11:00'],\n",
      "              dtype='datetime64[ns]', freq='T')\n",
      "\n",
      "Secondly frequency:\n",
      "DatetimeIndex(['2018-01-01 00:00:00', '2018-01-01 00:00:01',\n",
      "               '2018-01-01 00:00:02', '2018-01-01 00:00:03',\n",
      "               '2018-01-01 00:00:04', '2018-01-01 00:00:05',\n",
      "               '2018-01-01 00:00:06', '2018-01-01 00:00:07',\n",
      "               '2018-01-01 00:00:08', '2018-01-01 00:00:09',\n",
      "               '2018-01-01 00:00:10', '2018-01-01 00:00:11'],\n",
      "              dtype='datetime64[ns]', freq='S')\n",
      "nMultiple Hourly frequency:\n",
      "DatetimeIndex(['2018-01-01 00:00:00', '2018-01-01 02:00:00',\n",
      "               '2018-01-01 04:00:00', '2018-01-01 06:00:00',\n",
      "               '2018-01-01 08:00:00', '2018-01-01 10:00:00',\n",
      "               '2018-01-01 12:00:00', '2018-01-01 14:00:00',\n",
      "               '2018-01-01 16:00:00', '2018-01-01 18:00:00',\n",
      "               '2018-01-01 20:00:00', '2018-01-01 22:00:00'],\n",
      "              dtype='datetime64[ns]', freq='2H')\n",
      "\n",
      "Multiple Minutely frequency:\n",
      "DatetimeIndex(['2018-01-01 00:00:00', '2018-01-01 00:05:00',\n",
      "               '2018-01-01 00:10:00', '2018-01-01 00:15:00',\n",
      "               '2018-01-01 00:20:00', '2018-01-01 00:25:00',\n",
      "               '2018-01-01 00:30:00', '2018-01-01 00:35:00',\n",
      "               '2018-01-01 00:40:00', '2018-01-01 00:45:00',\n",
      "               '2018-01-01 00:50:00', '2018-01-01 00:55:00'],\n",
      "              dtype='datetime64[ns]', freq='5T')\n",
      "\n",
      "Multiple Secondly frequency:\n",
      "DatetimeIndex(['2018-03-30', '2018-06-29', '2018-09-28', '2018-12-31',\n",
      "               '2019-03-29', '2019-06-28', '2019-09-30', '2019-12-31',\n",
      "               '2020-03-31', '2020-06-30', '2020-09-30', '2020-12-31'],\n",
      "              dtype='datetime64[ns]', freq='BQ-DEC')\n",
      "\n",
      "Weekly frequency:\n",
      "DatetimeIndex(['2018-01-07', '2018-01-14', '2018-01-21', '2018-01-28',\n",
      "               '2018-02-04', '2018-02-11', '2018-02-18', '2018-02-25',\n",
      "               '2018-03-04', '2018-03-11', '2018-03-18', '2018-03-25'],\n",
      "              dtype='datetime64[ns]', freq='W-SUN')\n",
      "\n",
      "Combine together day and intraday offsets-1:\n",
      "DatetimeIndex(['2018-01-01 00:00:00', '2018-01-01 02:20:00',\n",
      "               '2018-01-01 04:40:00', '2018-01-01 07:00:00',\n",
      "               '2018-01-01 09:20:00', '2018-01-01 11:40:00',\n",
      "               '2018-01-01 14:00:00', '2018-01-01 16:20:00',\n",
      "               '2018-01-01 18:40:00', '2018-01-01 21:00:00',\n",
      "               '2018-01-01 23:20:00', '2018-01-02 01:40:00'],\n",
      "              dtype='datetime64[ns]', freq='140T')\n",
      "\n",
      "Combine together day and intraday offsets-2:\n",
      "DatetimeIndex([       '2018-01-01 00:00:00', '2018-01-02 00:00:00.000010',\n",
      "               '2018-01-03 00:00:00.000020', '2018-01-04 00:00:00.000030',\n",
      "               '2018-01-05 00:00:00.000040', '2018-01-06 00:00:00.000050',\n",
      "               '2018-01-07 00:00:00.000060', '2018-01-08 00:00:00.000070',\n",
      "               '2018-01-09 00:00:00.000080', '2018-01-10 00:00:00.000090',\n",
      "               '2018-01-11 00:00:00.000100', '2018-01-12 00:00:00.000110'],\n",
      "              dtype='datetime64[ns]', freq='86400000010U')\n"
     ]
    }
   ],
   "source": [
    "import pandas as pd\n",
    "dtr = pd.date_range('2018-01-01', periods=12, freq='H')\n",
    "print(\"Hourly frequency:\")\n",
    "print(dtr)\n",
    "dtr = pd.date_range('2018-01-01', periods=12, freq='min')\n",
    "print(\"\\nMinutely frequency:\")\n",
    "print(dtr)\n",
    "dtr = pd.date_range('2018-01-01', periods=12, freq='S')\n",
    "print(\"\\nSecondly frequency:\")\n",
    "print(dtr)\n",
    "dtr = pd.date_range('2018-01-01', periods=12, freq='2H')\n",
    "print(\"nMultiple Hourly frequency:\")\n",
    "print(dtr)\n",
    "dtr = pd.date_range('2018-01-01', periods=12, freq='5min')\n",
    "print(\"\\nMultiple Minutely frequency:\")\n",
    "print(dtr)\n",
    "dtr = pd.date_range('2018-01-01', periods=12, freq='BQ')\n",
    "print(\"\\nMultiple Secondly frequency:\")\n",
    "print(dtr)\n",
    "dtr = pd.date_range('2018-01-01', periods=12, freq='w')\n",
    "print(\"\\nWeekly frequency:\")\n",
    "print(dtr)\n",
    "dtr = pd.date_range('2018-01-01', periods=12, freq='2h20min')\n",
    "print(\"\\nCombine together day and intraday offsets-1:\")\n",
    "print(dtr)\n",
    "dtr = pd.date_range('2018-01-01', periods=12, freq='1D10U')\n",
    "print(\"\\nCombine together day and intraday offsets-2:\")\n",
    "print(dtr)"
   ]
  },
  {
   "cell_type": "code",
   "execution_count": null,
   "metadata": {},
   "outputs": [],
   "source": [
    "Q136. Write a pandas program to manipulate and convert date times with timezone information."
   ]
  },
  {
   "cell_type": "code",
   "execution_count": 3,
   "metadata": {},
   "outputs": [
    {
     "name": "stdout",
     "output_type": "stream",
     "text": [
      "DatetimeIndex(['2018-01-01 00:00:00+00:00', '2018-01-01 01:00:00+00:00',\n",
      "               '2018-01-01 02:00:00+00:00'],\n",
      "              dtype='datetime64[ns, UTC]', freq='H')\n",
      "\n",
      "From UTC to America/Los_Angeles:\n",
      "DatetimeIndex(['2017-12-31 16:00:00-08:00', '2017-12-31 17:00:00-08:00',\n",
      "               '2017-12-31 18:00:00-08:00'],\n",
      "              dtype='datetime64[ns, America/Los_Angeles]', freq='H')\n"
     ]
    }
   ],
   "source": [
    "import pandas as pd\n",
    "dtt = pd.date_range('2018-01-01', periods=3, freq='H')\n",
    "dtt = dtt.tz_localize('UTC')\n",
    "print(dtt)\n",
    "print(\"\\nFrom UTC to America/Los_Angeles:\")\n",
    "dtt = dtt.tz_convert('America/Los_Angeles')\n",
    "print(dtt)"
   ]
  },
  {
   "cell_type": "markdown",
   "metadata": {},
   "source": [
    "Q137. Write a pandas program to create the graphical analysis of UFO (unidentified flying object) Sightings year."
   ]
  },
  {
   "cell_type": "code",
   "execution_count": 7,
   "metadata": {},
   "outputs": [
    {
     "name": "stderr",
     "output_type": "stream",
     "text": [
      "C:\\ProgramData\\Anaconda3\\lib\\site-packages\\ipykernel_launcher.py:9: FutureWarning: The 'get_values' method is deprecated and will be removed in a future version. Use '.to_numpy()' or '.array' instead.\n",
      "  if __name__ == '__main__':\n"
     ]
    },
    {
     "data": {
      "image/png": "[encoded data removed]",
      "text/plain": [
       "<Figure size 1080x576 with 1 Axes>"
      ]
     },
     "metadata": {
      "needs_background": "light"
     },
     "output_type": "display_data"
    }
   ],
   "source": [
    "import pandas as pd\n",
    "import matplotlib.pyplot as plt\n",
    "import seaborn as sns\n",
    "df = pd.read_csv(r'C:\\\\Users\\\\Suresh\\\\Documents\\\\#INEURON\\\\ML\\\\Assignments\\\\ufo.csv')\n",
    "df['Date_time'] = df['Date_time'].astype('datetime64[ns]')\n",
    "df[\"ufo_yr\"] = df.Date_time.dt.year\n",
    "years_data = df.ufo_yr.value_counts()\n",
    "years_index = years_data.index  # x ticks\n",
    "years_values = years_data.get_values()\n",
    "plt.figure(figsize=(15,8))\n",
    "plt.xticks(rotation = 60)\n",
    "plt.title('UFO Sightings by Year')\n",
    "plt.xlabel(\"Year\")\n",
    "plt.ylabel(\"Number of reports\")\n",
    "years_plot = sns.barplot(x=years_index[:60],y=years_values[:60], palette = \"Reds\")"
   ]
  },
  {
   "cell_type": "markdown",
   "metadata": {},
   "source": [
    "Q138. Write a pandas program to create a comparison of the top 10 years in which the (UFO) was sighted VS each Month."
   ]
  },
  {
   "cell_type": "code",
   "execution_count": 8,
   "metadata": {},
   "outputs": [
    {
     "name": "stdout",
     "output_type": "stream",
     "text": [
      "\n",
      "Comparison of the top 10 years in which the UFO was sighted vs the hours of the day:\n",
      "Date_time  0:00  1:00  2:00  4:00  5:00  6:00  9:00  10:00  11:00  13:00  \\\n",
      "Date_time                                                                  \n",
      "1993        1.0   1.0   1.0   NaN   1.0   NaN   NaN    NaN    NaN    1.0   \n",
      "1994        NaN   NaN   NaN   NaN   NaN   NaN   NaN    NaN    NaN    NaN   \n",
      "1995        NaN   NaN   1.0   1.0   NaN   NaN   NaN    NaN    NaN    1.0   \n",
      "1996        NaN   1.0   NaN   NaN   NaN   NaN   NaN    1.0    1.0    1.0   \n",
      "1997        NaN   1.0   NaN   1.0   NaN   NaN   NaN    1.0    NaN    1.0   \n",
      "1998        2.0   1.0   NaN   NaN   1.0   1.0   1.0    NaN    NaN    1.0   \n",
      "1999        2.0   NaN   1.0   NaN   1.0   NaN   NaN    NaN    NaN    NaN   \n",
      "2000        NaN   NaN   1.0   NaN   NaN   NaN   NaN    NaN    NaN    NaN   \n",
      "2001        3.0   1.0   NaN   1.0   NaN   NaN   NaN    NaN    NaN    NaN   \n",
      "2002        NaN   1.0   NaN   NaN   NaN   1.0   NaN    NaN    NaN    NaN   \n",
      "\n",
      "Date_time  14:00  15:00  16:00  17:00  18:00  19:00  20:00  21:00  22:00  \\\n",
      "Date_time                                                                  \n",
      "1993         NaN    1.0    NaN    NaN    NaN    NaN    2.0    NaN    NaN   \n",
      "1994         NaN    NaN    NaN    1.0    3.0    NaN    NaN    4.0    2.0   \n",
      "1995         NaN    NaN    2.0    NaN    NaN    NaN    2.0    1.0    1.0   \n",
      "1996         NaN    1.0    NaN    2.0    1.0    NaN    1.0    NaN    2.0   \n",
      "1997         NaN    NaN    NaN    1.0    1.0    1.0    NaN    4.0    1.0   \n",
      "1998         NaN    NaN    NaN    NaN    NaN    NaN    2.0    2.0    2.0   \n",
      "1999         NaN    1.0    1.0    NaN    NaN    NaN    NaN    2.0    1.0   \n",
      "2000         NaN    NaN    NaN    NaN    NaN    2.0    4.0    2.0    2.0   \n",
      "2001         1.0    NaN    2.0    NaN    NaN    1.0    1.0    5.0    NaN   \n",
      "2002         NaN    2.0    1.0    1.0    3.0    NaN    2.0    NaN    NaN   \n",
      "\n",
      "Date_time  23:00  \n",
      "Date_time         \n",
      "1993         4.0  \n",
      "1994         1.0  \n",
      "1995         3.0  \n",
      "1996         1.0  \n",
      "1997         2.0  \n",
      "1998         NaN  \n",
      "1999         2.0  \n",
      "2000         1.0  \n",
      "2001         NaN  \n",
      "2002         3.0  \n"
     ]
    }
   ],
   "source": [
    "import pandas as pd\n",
    "#Source: https://bit.ly/1l9yjm9\n",
    "df = pd.read_csv(r'C:\\\\Users\\\\Suresh\\\\Documents\\\\#INEURON\\\\ML\\\\Assignments\\\\ufo.csv')\n",
    "df['Date_time'] = df['Date_time'].astype('datetime64[ns]')\n",
    "most_sightings_years = df['Date_time'].dt.year.value_counts().head(10)\n",
    "def is_top_years(year):\n",
    "   if year in most_sightings_years.index:\n",
    "       return year\n",
    "hour_v_year = df.pivot_table(columns=df['Date_time'].dt.hour,index=df['Date_time'].dt.year.apply(is_top_years),aggfunc='count',values='city')\n",
    "hour_v_year.columns = hour_v_year.columns.astype(int)\n",
    "hour_v_year.columns = hour_v_year.columns.astype(str) + \":00\"\n",
    "hour_v_year.index = hour_v_year.index.astype(int)\n",
    "print(\"\\nComparison of the top 10 years in which the UFO was sighted vs the hours of the day:\")\n",
    "print(hour_v_year.head(10))"
   ]
  },
  {
   "cell_type": "markdown",
   "metadata": {},
   "source": [
    "Q139. Write a pandas program to create a heatmap (rectangular data as a colour-encoded matrix) for comparison of top 10 years in which (UFO ) was sighted VS each Month."
   ]
  },
  {
   "cell_type": "code",
   "execution_count": 9,
   "metadata": {},
   "outputs": [
    {
     "name": "stdout",
     "output_type": "stream",
     "text": [
      "\n",
      "Heatmap for comparison of the top 10 years in which the UFO was sighted vs each month:\n"
     ]
    },
    {
     "data": {
      "image/png": "[encoded data removed]",
      "text/plain": [
       "<Figure size 720x576 with 2 Axes>"
      ]
     },
     "metadata": {
      "needs_background": "light"
     },
     "output_type": "display_data"
    }
   ],
   "source": [
    "import pandas as pd\n",
    "import matplotlib.pyplot as plt\n",
    "import seaborn as sns\n",
    "#Source: https://bit.ly/1l9yjm9\n",
    "df = pd.read_csv(r'C:\\\\Users\\\\Suresh\\\\Documents\\\\#INEURON\\\\ML\\\\Assignments\\\\ufo.csv')\n",
    "df['Date_time'] = df['Date_time'].astype('datetime64[ns]')\n",
    "most_sightings_years = df['Date_time'].dt.year.value_counts().head(10)\n",
    "def is_top_years(year):\n",
    "   if year in most_sightings_years.index:\n",
    "       return year\n",
    "month_vs_year = df.pivot_table(columns=df['Date_time'].dt.month,index=df['Date_time'].dt.year.apply(is_top_years),aggfunc='count',values='city')\n",
    "month_vs_year.columns = month_vs_year.columns.astype(int)\n",
    "print(\"\\nHeatmap for comparison of the top 10 years in which the UFO was sighted vs each month:\")\n",
    "plt.figure(figsize=(10,8))\n",
    "ax = sns.heatmap(month_vs_year, vmin=0, vmax=4)\n",
    "ax.set_xlabel('Month').set_size(20)\n",
    "ax.set_ylabel('Year').set_size(20)"
   ]
  },
  {
   "cell_type": "markdown",
   "metadata": {},
   "source": [
    "Q140. Write a pandas program to create a Timewheel of Hour VS Year comparison of the top 10 years in which the (UFO) was sighted."
   ]
  },
  {
   "cell_type": "code",
   "execution_count": 10,
   "metadata": {},
   "outputs": [
    {
     "name": "stdout",
     "output_type": "stream",
     "text": [
      "\n",
      "Comparison of the top 10 years in which the UFO was sighted vs each month:\n"
     ]
    },
    {
     "name": "stderr",
     "output_type": "stream",
     "text": [
      "C:\\ProgramData\\Anaconda3\\lib\\site-packages\\matplotlib\\colors.py:527: RuntimeWarning: invalid value encountered in less\n",
      "  xa[xa < 0] = -1\n"
     ]
    },
    {
     "data": {
      "image/png": "[encoded data removed]",
      "text/plain": [
       "<Figure size 576x576 with 1 Axes>"
      ]
     },
     "metadata": {},
     "output_type": "display_data"
    }
   ],
   "source": [
    "import pandas as pd\n",
    "import matplotlib.pyplot as plt\n",
    "import matplotlib as mpl\n",
    "import matplotlib.cm as cm\n",
    "#Source: https://bit.ly/2XDY2XN\n",
    "df = pd.read_csv(r'C:\\\\Users\\\\Suresh\\\\Documents\\\\#INEURON\\\\ML\\\\Assignments\\\\ufo.csv')\n",
    "df['Date_time'] = df['Date_time'].astype('datetime64[ns]')\n",
    "most_sightings_years = df['Date_time'].dt.year.value_counts().head(10)\n",
    "def is_top_years(year):\n",
    "   if year in most_sightings_years.index:\n",
    "       return year\n",
    "month_vs_year = df.pivot_table(columns=df['Date_time'].dt.month,index=df['Date_time'].dt.year.apply(is_top_years),aggfunc='count',values='city')\n",
    "month_vs_year.index = month_vs_year.index.astype(int)\n",
    "month_vs_year.columns = month_vs_year.columns.astype(int)\n",
    "print(\"\\nComparison of the top 10 years in which the UFO was sighted vs each month:\")\n",
    "def pie_heatmap(table, cmap='coolwarm_r', vmin=None, vmax=None,inner_r=0.25, pie_args={}):\n",
    "   n, m = table.shape\n",
    "   vmin= table.min().min() if vmin is None else vmin\n",
    "   vmax= table.max().max() if vmax is None else vmax\n",
    "\n",
    "   centre_circle = plt.Circle((0,0),inner_r,edgecolor='black',facecolor='white',fill=True,linewidth=0.25)\n",
    "   plt.gcf().gca().add_artist(centre_circle)\n",
    "   norm = mpl.colors.Normalize(vmin=vmin, vmax=vmax)\n",
    "   cmapper = cm.ScalarMappable(norm=norm, cmap=cmap)\n",
    "\n",
    "   for i, (row_name, row) in enumerate(table.iterrows()):\n",
    "       labels = None if i > 0 else table.columns\n",
    "       wedges = plt.pie([1] * m,radius=inner_r+float(n-i)/n, colors=[cmapper.to_rgba(x) for x in row.values],\n",
    "           labels=labels, startangle=90, counterclock=False, wedgeprops={'linewidth':-1}, **pie_args)\n",
    "       plt.setp(wedges[0], edgecolor='grey',linewidth=1.5)\n",
    "       wedges = plt.pie([1], radius=inner_r+float(n-i-1)/n, colors=['w'], labels=[row_name], startangle=-90, wedgeprops={'linewidth':0})\n",
    "       plt.setp(wedges[0], edgecolor='grey',linewidth=1.5)\n",
    "plt.figure(figsize=(8,8))\n",
    "plt.title(\"Timewheel of Hour Vs Year\",y=1.08,fontsize=30)\n",
    "pie_heatmap(month_vs_year, vmin=-20,vmax=80,inner_r=0.2)"
   ]
  },
  {
   "cell_type": "markdown",
   "metadata": {},
   "source": [
    "Q141. Write a python program to draw the line using given axis values with the suitable label in the x-axis, y-axis, and a title."
   ]
  },
  {
   "cell_type": "code",
   "execution_count": 8,
   "metadata": {},
   "outputs": [
    {
     "name": "stdout",
     "output_type": "stream",
     "text": [
      "Values of X:\n",
      "1 2 3 4 5 6 7 8 9 10 11 12 13 14 15 16 17 18 19 20 21 22 23 24 25 26 27 28 29 30 31 32 33 34 35 36 37 38 39 40 41 42 43 44 45 46 47 48 49\n",
      "Values of Y (thrice of X):\n",
      "[3, 6, 9, 12, 15, 18, 21, 24, 27, 30, 33, 36, 39, 42, 45, 48, 51, 54, 57, 60, 63, 66, 69, 72, 75, 78, 81, 84, 87, 90, 93, 96, 99, 102, 105, 108, 111, 114, 117, 120, 123, 126, 129, 132, 135, 138, 141, 144, 147]\n"
     ]
    },
    {
     "data": {
      "image/png": "[encoded data removed]",
      "text/plain": [
       "<Figure size 432x288 with 1 Axes>"
      ]
     },
     "metadata": {
      "needs_background": "light"
     },
     "output_type": "display_data"
    }
   ],
   "source": [
    "import matplotlib.pyplot as plt\n",
    "X = range(1, 50)\n",
    "Y = [value * 3 for value in X]\n",
    "print(\"Values of X:\")\n",
    "print(*range(1,50)) \n",
    "print(\"Values of Y (thrice of X):\")\n",
    "print(Y)\n",
    "# Plot lines and/or markers to the Axes.\n",
    "plt.plot(X, Y)\n",
    "# Set the x axis label of the current axis.\n",
    "plt.xlabel('x - axis')\n",
    "# Set the y axis label of the current axis.\n",
    "plt.ylabel('y - axis')\n",
    "# Set a title \n",
    "plt.title('Draw a line.')\n",
    "# Display the figure.\n",
    "plt.show()"
   ]
  },
  {
   "cell_type": "markdown",
   "metadata": {},
   "source": [
    "Q142. Write a python program to draw the line charts of the financial data of the Alphabet Inc., between October.\n",
    "3, 2016 to October 7 2016. Sample Financial data (fdata.csv)- Date,Open,High,Low,Close 10-03-16,774.25,776.065002,769.5,772.559998 10-04-16 , 776.030029, 778.710022,772.890015,776.429993"
   ]
  },
  {
   "cell_type": "code",
   "execution_count": 11,
   "metadata": {},
   "outputs": [
    {
     "data": {
      "image/png": "[encoded data removed]",
      "text/plain": [
       "<Figure size 432x288 with 1 Axes>"
      ]
     },
     "metadata": {
      "needs_background": "light"
     },
     "output_type": "display_data"
    }
   ],
   "source": [
    "import matplotlib.pyplot as plt\n",
    "import pandas as pd\n",
    "df = pd.read_csv('C:\\\\Users\\\\Suresh\\\\Documents\\\\#INEURON\\\\ML\\\\Assignments\\\\fdata.csv', sep=',', parse_dates=True, index_col=0)\n",
    "df.plot()\n",
    "plt.show()"
   ]
  },
  {
   "cell_type": "markdown",
   "metadata": {},
   "source": [
    "Q143. Write a Python program to plot two or more lines on same plot with the suitable legends of each line. The code snippet gives the output shown in the screenshot:"
   ]
  },
  {
   "cell_type": "code",
   "execution_count": 10,
   "metadata": {},
   "outputs": [
    {
     "data": {
      "image/png": "[encoded data removed]",
      "text/plain": [
       "<Figure size 432x288 with 1 Axes>"
      ]
     },
     "metadata": {
      "needs_background": "light"
     },
     "output_type": "display_data"
    }
   ],
   "source": [
    "import matplotlib.pyplot as plt\n",
    "# line 1 points\n",
    "x1 = [10,20,30]\n",
    "y1 = [20,40,10]\n",
    "# plotting the line 1 points \n",
    "plt.plot(x1, y1, label = \"line 1\")\n",
    "# line 2 points\n",
    "x2 = [10,20,30]\n",
    "y2 = [40,10,30]\n",
    "# plotting the line 2 points \n",
    "plt.plot(x2, y2, label = \"line 2\")\n",
    "plt.xlabel('x - axis')\n",
    "# Set the y axis label of the current axis.\n",
    "plt.ylabel('y - axis')\n",
    "# Set a title of the current axes.\n",
    "plt.title('Two or more lines on same plot with suitable legends ')\n",
    "# show a legend on the plot\n",
    "plt.legend()\n",
    "# Display a figure.\n",
    "plt.show()"
   ]
  },
  {
   "cell_type": "markdown",
   "metadata": {},
   "source": [
    "Q144. Write a python programming to display a bar chart of the popularity of programming languages.\n",
    "Sample data: programming languages- Java, Python, PHP, JavaScript, C#, C++ Popularity- 22.2, 17.6, 8.8, 8, 7.7 , 6.7 The code snippet gives the output shown in the screenshot:"
   ]
  },
  {
   "cell_type": "code",
   "execution_count": 11,
   "metadata": {},
   "outputs": [
    {
     "data": {
      "image/png": "[encoded data removed]",
      "text/plain": [
       "<Figure size 432x288 with 1 Axes>"
      ]
     },
     "metadata": {
      "needs_background": "light"
     },
     "output_type": "display_data"
    }
   ],
   "source": [
    "import matplotlib.pyplot as plt\n",
    "x = ['Java', 'Python', 'PHP', 'JavaScript', 'C#', 'C++']\n",
    "popularity = [22.2, 17.6, 8.8, 8, 7.7, 6.7]\n",
    "x_pos = [i for i, _ in enumerate(x)]\n",
    "\n",
    "plt.bar(x_pos, popularity, color=(0.4, 0.6, 0.8, 1.0), edgecolor='blue')\n",
    "\n",
    "plt.xlabel(\"Languages\")\n",
    "plt.ylabel(\"Popularity\")\n",
    "plt.title(\"PopularitY of Programming Language\\n\" + \"Worldwide, Oct 2017 compared to a year ago\")\n",
    "plt.xticks(x_pos, x)\n",
    "# Turn on the grid\n",
    "plt.minorticks_on()\n",
    "plt.grid(which='major', linestyle='-', linewidth='0.5', color='red')\n",
    "# Customize the minor grid\n",
    "plt.grid(which='minor', linestyle=':', linewidth='0.5', color='black')\n",
    "plt.show()"
   ]
  },
  {
   "cell_type": "markdown",
   "metadata": {},
   "source": [
    "Q145. Write a python programming to display a horizontal bar chart of the popularity of programming languages.\n",
    "Sample data: programming languages- Java, Python, PHP, JavaScript, C#, C++ Popularity- 22.2, 17.6, 8.8, 8, 7.7 , 6.7 The code snippet gives the output shown in the screenshot:"
   ]
  },
  {
   "cell_type": "code",
   "execution_count": 12,
   "metadata": {},
   "outputs": [
    {
     "data": {
      "image/png": "[encoded data removed]",
      "text/plain": [
       "<Figure size 432x288 with 1 Axes>"
      ]
     },
     "metadata": {
      "needs_background": "light"
     },
     "output_type": "display_data"
    }
   ],
   "source": [
    "import matplotlib.pyplot as plt\n",
    "x = ['Java', 'Python', 'PHP', 'JS', 'C#', 'C++']\n",
    "popularity = [22.2, 17.6, 8.8, 8, 7.7, 6.7]\n",
    "x_pos = [i for i, _ in enumerate(x)]\n",
    "plt.barh(x_pos, popularity, color='green')\n",
    "plt.xlabel(\"Popularity\")\n",
    "plt.ylabel(\"Languages\")\n",
    "plt.title(\"PopularitY of Programming Language\\n\" + \"Worldwide, Oct 2017 compared to a year ago\")\n",
    "plt.yticks(x_pos, x)\n",
    "# Turn on the grid\n",
    "plt.minorticks_on()\n",
    "plt.grid(which='major', linestyle='-', linewidth='0.5', color='red')\n",
    "# Customize the minor grid\n",
    "plt.grid(which='minor', linestyle=':', linewidth='0.5', color='black')\n",
    "plt.show()\n"
   ]
  },
  {
   "cell_type": "markdown",
   "metadata": {},
   "source": [
    "Q146. Write a python programming to display a bar chart of the Popularity of programming languages. Increase bottom margin.\n",
    "Sample data:\n",
    "P a g e 42 | 44\n",
    "programming languages: Java, Python, PHP, JavaScript, C#, C++ Popularity: 22.2, 17.6, 8.8, 8, 7.7 , 6.7 The code snippet gives the output shown in the screenshot:"
   ]
  },
  {
   "cell_type": "code",
   "execution_count": 13,
   "metadata": {},
   "outputs": [
    {
     "data": {
      "image/png": "[encoded data removed]",
      "text/plain": [
       "<Figure size 432x288 with 1 Axes>"
      ]
     },
     "metadata": {
      "needs_background": "light"
     },
     "output_type": "display_data"
    }
   ],
   "source": [
    "import matplotlib.pyplot as plt\n",
    "x = ['Java', 'Python', 'PHP', 'JavaScript', 'C#', 'C++']\n",
    "popularity = [22.2, 17.6, 8.8, 8, 7.7, 6.7]\n",
    "x_pos = [i for i, _ in enumerate(x)]\n",
    "\n",
    "plt.bar(x_pos, popularity, color=(0.4, 0.6, 0.8, 1.0), edgecolor='blue')\n",
    "\n",
    "plt.xlabel(\"Languages\")\n",
    "plt.ylabel(\"Popularity\")\n",
    "plt.title(\"PopularitY of Programming Language\\n\" + \"Worldwide, Oct 2017 compared to a year ago\")\n",
    "plt.xticks(x_pos, x)\n",
    "# Turn on the grid\n",
    "plt.minorticks_on()\n",
    "plt.grid(which='major', linestyle='-', linewidth='0.5', color='red')\n",
    "# Customize the minor grid\n",
    "plt.grid(which='minor', linestyle=':', linewidth='0.5', color='black')\n",
    "plt.show()"
   ]
  },
  {
   "cell_type": "markdown",
   "metadata": {},
   "source": [
    "Q147. Write a python program to create the bar plot from a DataFrame.\n",
    "a b c d e 2 4,8,5,7,6 4 2,3,4,2,6 6 4,7,4,7, 8 8 2,6,4,8, 6 10 2,4,3,3, 2"
   ]
  },
  {
   "cell_type": "code",
   "execution_count": 15,
   "metadata": {},
   "outputs": [
    {
     "data": {
      "image/png": "[encoded data removed]",
      "text/plain": [
       "<Figure size 432x288 with 1 Axes>"
      ]
     },
     "metadata": {
      "needs_background": "light"
     },
     "output_type": "display_data"
    }
   ],
   "source": [
    "from pandas import DataFrame\n",
    "import matplotlib.pyplot as plt\n",
    "import numpy as np\n",
    "\n",
    "a=np.array([[4,8,5,7,6],[2,3,4,2,6],[4,7,4,7,8],[2,6,4,8,6],[2,4,3,3,2]])\n",
    "df=DataFrame(a, columns=['a','b','c','d','e'], index=[2,4,6,8,10])\n",
    "\n",
    "df.plot(kind='bar')\n",
    "# Turn on the grid\n",
    "plt.minorticks_on()\n",
    "plt.grid(which='major', linestyle='-', linewidth='0.5', color='green')\n",
    "plt.grid(which='minor', linestyle=':', linewidth='0.5', color='black')\n",
    "\n",
    "plt.show()"
   ]
  },
  {
   "cell_type": "markdown",
   "metadata": {},
   "source": [
    "Q148. Write a python program to draw the scatter plot comparing two subject marks of Mathematics and Science. Use marks of 10 students.\n",
    "Sample data: Test Data- math_marks = [88, 92 , 80, 89, 100, 80, 60, 100, 80, 34] science_marks = [35, 79, 79 , 48, 100, 88, 32, 45, 20, 30] marks_range = [10, 20, 30, 40, 50, 60, 70, 80, 90, 100]"
   ]
  },
  {
   "cell_type": "code",
   "execution_count": 16,
   "metadata": {},
   "outputs": [
    {
     "data": {
      "image/png": "[encoded data removed]",
      "text/plain": [
       "<Figure size 432x288 with 1 Axes>"
      ]
     },
     "metadata": {
      "needs_background": "light"
     },
     "output_type": "display_data"
    }
   ],
   "source": [
    "import matplotlib.pyplot as plt\n",
    "import pandas as pd\n",
    "math_marks = [88, 92, 80, 89, 100, 80, 60, 100, 80, 34]\n",
    "science_marks = [35, 79, 79, 48, 100, 88, 32, 45, 20, 30]\n",
    "marks_range = [10, 20, 30, 40, 50, 60, 70, 80, 90, 100]\n",
    "plt.scatter(marks_range, math_marks, label='Math marks', color='r')\n",
    "plt.scatter(marks_range, science_marks, label='Science marks', color='g')\n",
    "plt.title('Scatter Plot')\n",
    "plt.xlabel('Marks Range')\n",
    "plt.ylabel('Marks Scored')\n",
    "plt.legend()\n",
    "plt.show()"
   ]
  },
  {
   "cell_type": "markdown",
   "metadata": {},
   "source": [
    "Q149. Write a python program to draw the scatter plot for three different groups comparing weights and heights."
   ]
  },
  {
   "cell_type": "code",
   "execution_count": 25,
   "metadata": {},
   "outputs": [
    {
     "data": {
      "image/png": "[encoded data removed]",
      "text/plain": [
       "<Figure size 432x288 with 1 Axes>"
      ]
     },
     "metadata": {
      "needs_background": "light"
     },
     "output_type": "display_data"
    }
   ],
   "source": [
    "import matplotlib.pyplot as plt\n",
    "import numpy as np \n",
    "weight1=[67,57.2,59.6,59.64,55.8,61.2,60.45,61,56.23,56]\n",
    "height1=[101.7,197.6,98.3,125.1,113.7,157.7,136,148.9,125.3,114.9] \n",
    "weight2=[61.9,64,62.1,64.2,62.3,65.4,62.4,61.4,62.5,63.6]\n",
    "height2=[152.8,155.3,135.1,125.2,151.3,135,182.2,195.9,165.1,125.1] \n",
    "weight3=[68.2,67.2,68.4,68.7,71,71.3,70.8,70,71.1,71.7]\n",
    "height3=[165.8,170.9,192.8,135.4,161.4,136.1,167.1,235.1,181.1,177.3]\n",
    "weight=np.concatenate((weight1,weight2,weight3))\n",
    "height=np.concatenate((height1,height2,height3))\n",
    "plt.scatter(weight, height, marker='*')\n",
    "plt.xlabel('weight', fontsize=16)\n",
    "plt.ylabel('height', fontsize=16)\n",
    "plt.title('Group wise Weight vs Height scatter plot',fontsize=20)\n",
    "plt.show()"
   ]
  },
  {
   "cell_type": "code",
   "execution_count": null,
   "metadata": {},
   "outputs": [],
   "source": [
    "Q150. Write a python program to draw a scatter plot to find sea-level rise in past 100 years."
   ]
  },
  {
   "cell_type": "code",
   "execution_count": 34,
   "metadata": {},
   "outputs": [
    {
     "data": {
      "image/png": "[encoded data removed]",
      "text/plain": [
       "<Figure size 432x288 with 1 Axes>"
      ]
     },
     "metadata": {
      "needs_background": "light"
     },
     "output_type": "display_data"
    }
   ],
   "source": [
    "import matplotlib.pyplot as plt\n",
    "import pandas as pd\n",
    "data = pd.read_csv('C:\\\\Users\\\\Suresh\\\\Documents\\\\#INEURON\\\\ML\\\\Assignments\\\\data.csv')\n",
    "year = data['year']\n",
    "sea_levels = data['CSIRO_sea_level']\n",
    "plt.scatter(year, sea_levels, edgecolors='g')\n",
    "plt.xlabel('Year')\n",
    "plt.ylabel('Sea Level (inches)')\n",
    "plt.title('Rise in Sealevel')\n",
    "plt.show()"
   ]
  },
  {
   "cell_type": "code",
   "execution_count": null,
   "metadata": {},
   "outputs": [],
   "source": []
  },
  {
   "cell_type": "code",
   "execution_count": null,
   "metadata": {},
   "outputs": [],
   "source": []
  },
  {
   "cell_type": "code",
   "execution_count": null,
   "metadata": {},
   "outputs": [],
   "source": []
  },
  {
   "cell_type": "code",
   "execution_count": null,
   "metadata": {},
   "outputs": [],
   "source": []
  },
  {
   "cell_type": "code",
   "execution_count": null,
   "metadata": {},
   "outputs": [],
   "source": []
  }
 ],
 "metadata": {
  "kernelspec": {
   "display_name": "Python 3",
   "language": "python",
   "name": "python3"
  },
  "language_info": {
   "codemirror_mode": {
    "name": "ipython",
    "version": 3
   },
   "file_extension": ".py",
   "mimetype": "text/x-python",
   "name": "python",
   "nbconvert_exporter": "python",
   "pygments_lexer": "ipython3",
   "version": "3.7.4"
  }
 },
 "nbformat": 4,
 "nbformat_minor": 2
}
